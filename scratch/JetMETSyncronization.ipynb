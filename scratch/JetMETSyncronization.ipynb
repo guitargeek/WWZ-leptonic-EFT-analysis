{
 "cells": [
  {
   "cell_type": "code",
   "execution_count": 1,
   "metadata": {},
   "outputs": [],
   "source": [
    "%load_ext autoreload"
   ]
  },
  {
   "cell_type": "code",
   "execution_count": 2,
   "metadata": {},
   "outputs": [],
   "source": [
    "%autoreload 2"
   ]
  },
  {
   "cell_type": "code",
   "execution_count": 3,
   "metadata": {},
   "outputs": [],
   "source": [
    "import matplotlib.pyplot as plt\n",
    "import uproot_methods"
   ]
  },
  {
   "cell_type": "code",
   "execution_count": 4,
   "metadata": {},
   "outputs": [],
   "source": [
    "import libwwz"
   ]
  },
  {
   "cell_type": "code",
   "execution_count": 5,
   "metadata": {},
   "outputs": [],
   "source": [
    "import uproot\n",
    "import os\n",
    "import numpy as np\n",
    "import pandas as pd"
   ]
  },
  {
   "cell_type": "code",
   "execution_count": 6,
   "metadata": {},
   "outputs": [],
   "source": [
    "from geeksw.utils.core import concatenate\n",
    "from geeksw.utils.data_loader_tools import make_data_loader, TreeWrapper, list_root_files_recursively"
   ]
  },
  {
   "cell_type": "code",
   "execution_count": 7,
   "metadata": {},
   "outputs": [],
   "source": [
    "baby_file = \"/home/llr/cms/rembser/scratch/baby-ntuples/WVZMVA2017_v0.1.21/wwz_4l2v_amcatnlo_1.root\"\n",
    "nano_dir = \"/scratch/store/mc/RunIIFall17NanoAODv6/WWZJetsTo4L2Nu_4f_TuneCP5_13TeV_amcatnloFXFX_pythia8/NANOAODSIM/PU2017_12Apr2018_Nano25Oct2019_102X_mc2017_realistic_v7-v1\"\n",
    "\n",
    "nano_files = list_root_files_recursively(nano_dir)"
   ]
  },
  {
   "cell_type": "code",
   "execution_count": 8,
   "metadata": {},
   "outputs": [],
   "source": [
    "baby = uproot.open(baby_file)[\"t\"]\n",
    "baby_event = baby.array(\"evt\")\n",
    "\n",
    "all_branches = list(set([br.decode(\"utf-8\") for br in baby.keys()]))"
   ]
  },
  {
   "cell_type": "code",
   "execution_count": 9,
   "metadata": {},
   "outputs": [],
   "source": [
    "producers = {\n",
    "    **libwwz.producers.mc_producers,\n",
    "}"
   ]
  },
  {
   "cell_type": "code",
   "execution_count": 10,
   "metadata": {},
   "outputs": [],
   "source": [
    "columns = [\n",
    "    \"nJet\",\n",
    "    \"Jet_chEmEF\",\n",
    "    \"Jet_chHEF\",\n",
    "    \"Jet_nConstituents\",\n",
    "    \"Jet_neEmEF\",\n",
    "    \"Jet_neHEF\",\n",
    "    \"Jet_pt\",\n",
    "    \"Jet_puId\",\n",
    "    #\"Jet_puIdDisc\",\n",
    "    \"Jet_eta\",\n",
    "    \n",
    "    \"Jet_p4\",\n",
    "    \"VetoMuon_p4\",\n",
    "    \"VetoElectron_p4\",\n",
    "    \"Jet_btagDeepB\",\n",
    "    \n",
    "    \"Jet_passes_tight_id\",\n",
    "    \"Jet_matches_veto_lepton\",\n",
    "    \"Jet_passes_vvv_id\",\n",
    "    \"Jet_passes_vvv_b_jet_id\",\n",
    "    \n",
    "    \"Electron_veto_mask\",\n",
    "    \"Muon_veto_mask\",\n",
    "    \"Electron_veto_mask_noiso\",\n",
    "    \"Muon_veto_mask_noiso\",\n",
    "    \n",
    "    \"Jet_passes_tight_id\",\n",
    "\n",
    "    \"MET_pt\",\n",
    "    \"PuppiMET_pt\",\n",
    "    \"RawMET_pt\",\n",
    "    \"CaloMET_pt\",\n",
    "    \n",
    "    \"nElectron\",\n",
    "]"
   ]
  },
  {
   "cell_type": "code",
   "execution_count": 11,
   "metadata": {},
   "outputs": [],
   "source": [
    "data_loader = make_data_loader(columns, producers, verbosity=0)"
   ]
  },
  {
   "cell_type": "code",
   "execution_count": 12,
   "metadata": {},
   "outputs": [
    {
     "name": "stdout",
     "output_type": "stream",
     "text": [
      "/scratch/store/mc/RunIIFall17NanoAODv6/WWZJetsTo4L2Nu_4f_TuneCP5_13TeV_amcatnloFXFX_pythia8/NANOAODSIM/PU2017_12Apr2018_Nano25Oct2019_102X_mc2017_realistic_v7-v1/280000/6E08B90D-2C44-464C-9DAD-E85C3046D28D.root\n"
     ]
    },
    {
     "name": "stderr",
     "output_type": "stream",
     "text": [
      "/home/llr/cms/rembser/.local/lib/python3.7/site-packages/awkward/array/jagged.py:1031: RuntimeWarning: invalid value encountered in greater\n",
      "  result = getattr(ufunc, method)(*inputs, **kwargs)\n"
     ]
    },
    {
     "name": "stdout",
     "output_type": "stream",
     "text": [
      "/scratch/store/mc/RunIIFall17NanoAODv6/WWZJetsTo4L2Nu_4f_TuneCP5_13TeV_amcatnloFXFX_pythia8/NANOAODSIM/PU2017_12Apr2018_Nano25Oct2019_102X_mc2017_realistic_v7-v1/280000/09D74D3B-6F3F-0F43-99EA-A67CE3918FAE.root\n",
      "/scratch/store/mc/RunIIFall17NanoAODv6/WWZJetsTo4L2Nu_4f_TuneCP5_13TeV_amcatnloFXFX_pythia8/NANOAODSIM/PU2017_12Apr2018_Nano25Oct2019_102X_mc2017_realistic_v7-v1/280000/7FA1CC12-0C8D-C94C-96F9-3505CEF8FE8B.root\n"
     ]
    }
   ],
   "source": [
    "\n",
    "datas = []\n",
    "\n",
    "skim = lambda d: d\n",
    "\n",
    "for i_nano_file, nano_file in enumerate(nano_files):\n",
    "    print(nano_file)\n",
    "    nano = TreeWrapper(uproot.open(nano_file)[\"Events\"], n_max_events=None)\n",
    "    \n",
    "    data = skim(data_loader(nano))\n",
    "    \n",
    "    datas.append(data)\n",
    "        \n",
    "data = dict()\n",
    "for column in datas[-1].keys():\n",
    "    data[column] = concatenate([d[column] for d in datas])"
   ]
  },
  {
   "cell_type": "code",
   "execution_count": 13,
   "metadata": {},
   "outputs": [],
   "source": [
    "import pyarrow.parquet as pq\n",
    "import pandas as pd"
   ]
  },
  {
   "cell_type": "code",
   "execution_count": null,
   "metadata": {},
   "outputs": [],
   "source": []
  },
  {
   "cell_type": "code",
   "execution_count": 14,
   "metadata": {},
   "outputs": [],
   "source": [
    "_dataset = pq.ParquetDataset(\"/home/llr/cms/rembser/WWZ-leptonic-EFT-analysis/skims/2017_WWZ_for_jetmet_sync\")\n",
    "_df = _dataset.read_pandas().to_pandas()\n",
    "nano_event = _df[\"evt\"].values"
   ]
  },
  {
   "cell_type": "code",
   "execution_count": 15,
   "metadata": {},
   "outputs": [
    {
     "data": {
      "text/plain": [
       "array([    503,     502,     505, ..., 1805484, 1805490, 1805495],\n",
       "      dtype=uint64)"
      ]
     },
     "execution_count": 15,
     "metadata": {},
     "output_type": "execute_result"
    }
   ],
   "source": [
    "nano_event"
   ]
  },
  {
   "cell_type": "code",
   "execution_count": 16,
   "metadata": {},
   "outputs": [
    {
     "name": "stdout",
     "output_type": "stream",
     "text": [
      "\n",
      "Overlapping events: 872932\n",
      "Events only in nano: 1538\n",
      "Events only in baby: 1036\n",
      "\n"
     ]
    }
   ],
   "source": [
    "n_overlap = np.sum(np.in1d(nano_event, baby_event))\n",
    "n_nano = len(nano_event)\n",
    "n_baby = len(baby_event)\n",
    "\n",
    "print()\n",
    "print(\"Overlapping events:\", n_overlap)\n",
    "print(\"Events only in nano:\", n_nano - n_overlap)\n",
    "print(\"Events only in baby:\", n_baby - n_overlap)\n",
    "print()\n",
    "\n",
    "_, nano_idx, baby_idx = np.intersect1d(nano_event, baby_event, return_indices=True)"
   ]
  },
  {
   "cell_type": "code",
   "execution_count": 17,
   "metadata": {},
   "outputs": [
    {
     "data": {
      "image/png": "[encoded data removed]",
      "text/plain": [
       "<Figure size 432x288 with 1 Axes>"
      ]
     },
     "metadata": {
      "needs_background": "light"
     },
     "output_type": "display_data"
    }
   ],
   "source": [
    "bins = np.linspace(-5, 5, 200)\n",
    "plt.hist(baby.array(\"jets_eta\")[baby_idx].flatten(), bins=bins, histtype=\"step\")\n",
    "#my_jet_selection = data[\"Jet_passes_vvv_id\"]\n",
    "my_jet_selection = (data[\"Jet_btagDeepB\"] > 0.1522) & data[\"Jet_passes_tight_id\"] & (data[\"Jet_pt\"] > 30) & (np.abs(data[\"Jet_eta\"]) < 999) & ~data[\"Jet_matches_veto_lepton\"]\n",
    "\n",
    "plt.hist(data[\"Jet_eta\"][my_jet_selection][nano_idx].flatten(), bins=bins, histtype=\"step\")\n",
    "plt.show()"
   ]
  },
  {
   "cell_type": "code",
   "execution_count": 18,
   "metadata": {},
   "outputs": [
    {
     "data": {
      "image/png": "[encoded data removed]",
      "text/plain": [
       "<Figure size 432x288 with 1 Axes>"
      ]
     },
     "metadata": {
      "needs_background": "light"
     },
     "output_type": "display_data"
    }
   ],
   "source": [
    "bins = np.linspace(0, 200, 200)\n",
    "plt.hist(baby.array(\"jets_pt\")[baby_idx].flatten(), bins=bins, histtype=\"step\")\n",
    "#my_jet_selection = data[\"Jet_passes_vvv_id\"]\n",
    "my_jet_selection = data[\"Jet_passes_tight_id\"] & (data[\"Jet_pt\"] > 30) & (np.abs(data[\"Jet_eta\"]) < 2.4) & ~data[\"Jet_matches_veto_lepton\"]\n",
    "\n",
    "plt.hist(data[\"Jet_pt\"][my_jet_selection][nano_idx].flatten(), bins=bins, histtype=\"step\")\n",
    "plt.show()"
   ]
  },
  {
   "cell_type": "code",
   "execution_count": 19,
   "metadata": {},
   "outputs": [
    {
     "data": {
      "image/png": "[encoded data removed]",
      "text/plain": [
       "<Figure size 432x288 with 1 Axes>"
      ]
     },
     "metadata": {
      "needs_background": "light"
     },
     "output_type": "display_data"
    }
   ],
   "source": [
    "bins = np.linspace(0, 25, 26)\n",
    "plt.hist(baby.array(\"jets_pt\")[baby_idx].counts, bins=bins, histtype=\"step\")\n",
    "my_jet_selection = data[\"Jet_passes_vvv_id\"]\n",
    "plt.hist(my_jet_selection.sum()[nano_idx], bins=bins, histtype=\"step\")\n",
    "plt.show()"
   ]
  },
  {
   "cell_type": "code",
   "execution_count": 23,
   "metadata": {},
   "outputs": [
    {
     "data": {
      "image/png": "[encoded data removed]",
      "text/plain": [
       "<Figure size 432x288 with 1 Axes>"
      ]
     },
     "metadata": {
      "needs_background": "light"
     },
     "output_type": "display_data"
    }
   ],
   "source": [
    "bins = np.linspace(0, 25, 26)\n",
    "plt.hist(baby.array(\"nb\")[baby_idx], bins=bins, histtype=\"step\")\n",
    "#my_jet_selection = (data[\"Jet_btagDeepB\"] > 0.1522) & data[\"Jet_passes_tight_id\"] & (data[\"Jet_pt\"] > 20) & (np.abs(data[\"Jet_eta\"]) < 2.4) & ~data[\"Jet_matches_veto_lepton\"]\n",
    "my_jet_selection = data[\"Jet_passes_vvv_b_jet_id\"]\n",
    "plt.hist(my_jet_selection.sum()[nano_idx], bins=bins, histtype=\"step\")\n",
    "plt.show()"
   ]
  },
  {
   "cell_type": "code",
   "execution_count": 21,
   "metadata": {},
   "outputs": [
    {
     "data": {
      "image/png": "[encoded data removed]",
      "text/plain": [
       "<Figure size 432x288 with 1 Axes>"
      ]
     },
     "metadata": {
      "needs_background": "light"
     },
     "output_type": "display_data"
    }
   ],
   "source": [
    "bins = np.linspace(0, 200, 200)\n",
    "plt.hist(baby.array(\"met_orig_pt\")[baby_idx], bins=bins, histtype=\"step\")\n",
    "plt.hist(data[\"MET_pt\"][nano_idx], bins=bins, histtype=\"step\")\n",
    "#plt.hist(data[\"PuppiMET_pt\"][nano_idx], bins=bins, histtype=\"step\")\n",
    "#plt.hist(data[\"RawMET_pt\"][nano_idx], bins=bins, histtype=\"step\")\n",
    "#plt.hist(data[\"CaloMET_pt\"][nano_idx], bins=bins, histtype=\"step\")\n",
    "\n",
    "plt.show()"
   ]
  },
  {
   "cell_type": "code",
   "execution_count": 22,
   "metadata": {},
   "outputs": [
    {
     "name": "stdout",
     "output_type": "stream",
     "text": [
      "b'jets_p4'\n",
      "b'jets_pt'\n",
      "b'jets_eta'\n",
      "b'jets_phi'\n",
      "b'jets_mass'\n",
      "b'jets_btag_score'\n",
      "b'jets_cen_p4'\n",
      "b'jets_cen_pt'\n",
      "b'jets_cen_eta'\n",
      "b'jets_cen_phi'\n",
      "b'jets_cen_mass'\n",
      "b'rawjets_p4'\n",
      "b'rawjets_pt'\n",
      "b'rawjets_eta'\n",
      "b'rawjets_phi'\n",
      "b'rawjets_mass'\n",
      "b'rawjets_JEC'\n",
      "b'rawjets_btag_score'\n",
      "b'rawjets_passJetID'\n",
      "b'rawjets_isORwLep'\n",
      "b'J_softdropPuppiSubjet1_pt'\n",
      "b'J_softdropPuppiSubjet1_eta'\n",
      "b'J_softdropPuppiSubjet1_phi'\n",
      "b'J_softdropPuppiSubjet1_mass'\n",
      "b'J_softdropPuppiSubjet1_energy'\n",
      "b'J_softdropPuppiSubjet2_pt'\n",
      "b'J_softdropPuppiSubjet2_eta'\n",
      "b'J_softdropPuppiSubjet2_phi'\n",
      "b'J_softdropPuppiSubjet2_mass'\n",
      "b'J_softdropPuppiSubjet2_energy'\n"
     ]
    }
   ],
   "source": [
    "for k in baby.keys():\n",
    "    if b'jet' in k:\n",
    "        print(k)"
   ]
  }
 ],
 "metadata": {
  "kernelspec": {
   "display_name": "Python 3",
   "language": "python",
   "name": "python3"
  },
  "language_info": {
   "codemirror_mode": {
    "name": "ipython",
    "version": 3
   },
   "file_extension": ".py",
   "mimetype": "text/x-python",
   "name": "python",
   "nbconvert_exporter": "python",
   "pygments_lexer": "ipython3",
   "version": "3.7.0"
  }
 },
 "nbformat": 4,
 "nbformat_minor": 2
}
