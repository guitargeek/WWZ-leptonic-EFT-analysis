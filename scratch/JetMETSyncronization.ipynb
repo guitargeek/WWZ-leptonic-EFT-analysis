{
 "cells": [
  {
   "cell_type": "code",
   "execution_count": 2,
   "metadata": {},
   "outputs": [],
   "source": [
    "%load_ext autoreload"
   ]
  },
  {
   "cell_type": "code",
   "execution_count": 3,
   "metadata": {},
   "outputs": [],
   "source": [
    "%autoreload 2"
   ]
  },
  {
   "cell_type": "code",
   "execution_count": 4,
   "metadata": {},
   "outputs": [],
   "source": [
    "import matplotlib.pyplot as plt\n",
    "import uproot_methods"
   ]
  },
  {
   "cell_type": "code",
   "execution_count": 5,
   "metadata": {},
   "outputs": [],
   "source": [
    "import libwwz"
   ]
  },
  {
   "cell_type": "code",
   "execution_count": 6,
   "metadata": {},
   "outputs": [],
   "source": [
    "import uproot\n",
    "import os\n",
    "import numpy as np\n",
    "import pandas as pd"
   ]
  },
  {
   "cell_type": "code",
   "execution_count": 7,
   "metadata": {},
   "outputs": [],
   "source": [
    "from geeksw.utils.core import concatenate\n",
    "from geeksw.utils.data_loader_tools import make_data_loader, TreeWrapper, list_root_files_recursively"
   ]
  },
  {
   "cell_type": "code",
   "execution_count": 8,
   "metadata": {},
   "outputs": [],
   "source": [
    "baby_file = \"/home/llr/cms/rembser/scratch/baby-ntuples/WVZMVA2017_v0.1.21/wwz_4l2v_amcatnlo_1.root\"\n",
    "nano_dir = \"/scratch/store/mc/RunIIFall17NanoAODv6/WWZJetsTo4L2Nu_4f_TuneCP5_13TeV_amcatnloFXFX_pythia8/NANOAODSIM/PU2017_12Apr2018_Nano25Oct2019_102X_mc2017_realistic_v7-v1\"\n",
    "\n",
    "nano_files = list_root_files_recursively(nano_dir)"
   ]
  },
  {
   "cell_type": "code",
   "execution_count": 9,
   "metadata": {},
   "outputs": [],
   "source": [
    "baby = uproot.open(baby_file)[\"t\"]\n",
    "baby_event = baby.array(\"evt\")\n",
    "\n",
    "all_branches = list(set([br.decode(\"utf-8\") for br in baby.keys()]))"
   ]
  },
  {
   "cell_type": "code",
   "execution_count": null,
   "metadata": {},
   "outputs": [],
   "source": []
  },
  {
   "cell_type": "code",
   "execution_count": 10,
   "metadata": {},
   "outputs": [],
   "source": [
    "producers = {}"
   ]
  },
  {
   "cell_type": "code",
   "execution_count": 71,
   "metadata": {},
   "outputs": [],
   "source": [
    "columns = [\n",
    "    \"nJet\",\n",
    "    \"MET_pt\",\n",
    "    \"PuppiMET_pt\",\n",
    "    \"RawMET_pt\",\n",
    "    \"CaloMET_pt\",\n",
    "]"
   ]
  },
  {
   "cell_type": "code",
   "execution_count": 72,
   "metadata": {},
   "outputs": [],
   "source": [
    "data_loader = make_data_loader(columns, producers, verbosity=0)"
   ]
  },
  {
   "cell_type": "code",
   "execution_count": 73,
   "metadata": {},
   "outputs": [
    {
     "name": "stdout",
     "output_type": "stream",
     "text": [
      "/scratch/store/mc/RunIIFall17NanoAODv6/WWZJetsTo4L2Nu_4f_TuneCP5_13TeV_amcatnloFXFX_pythia8/NANOAODSIM/PU2017_12Apr2018_Nano25Oct2019_102X_mc2017_realistic_v7-v1/280000/6E08B90D-2C44-464C-9DAD-E85C3046D28D.root\n",
      "/scratch/store/mc/RunIIFall17NanoAODv6/WWZJetsTo4L2Nu_4f_TuneCP5_13TeV_amcatnloFXFX_pythia8/NANOAODSIM/PU2017_12Apr2018_Nano25Oct2019_102X_mc2017_realistic_v7-v1/280000/09D74D3B-6F3F-0F43-99EA-A67CE3918FAE.root\n",
      "/scratch/store/mc/RunIIFall17NanoAODv6/WWZJetsTo4L2Nu_4f_TuneCP5_13TeV_amcatnloFXFX_pythia8/NANOAODSIM/PU2017_12Apr2018_Nano25Oct2019_102X_mc2017_realistic_v7-v1/280000/7FA1CC12-0C8D-C94C-96F9-3505CEF8FE8B.root\n"
     ]
    }
   ],
   "source": [
    "\n",
    "datas = []\n",
    "\n",
    "skim = lambda d: d\n",
    "\n",
    "for i_nano_file, nano_file in enumerate(nano_files):\n",
    "    print(nano_file)\n",
    "    nano = TreeWrapper(uproot.open(nano_file)[\"Events\"], n_max_events=None)\n",
    "    \n",
    "    data = skim(data_loader(nano))\n",
    "    \n",
    "    datas.append(data)\n",
    "        \n",
    "data = dict()\n",
    "for column in datas[-1].keys():\n",
    "    data[column] = concatenate([d[column] for d in datas])"
   ]
  },
  {
   "cell_type": "code",
   "execution_count": 74,
   "metadata": {},
   "outputs": [],
   "source": [
    "import pyarrow.parquet as pq\n",
    "import pandas as pd"
   ]
  },
  {
   "cell_type": "code",
   "execution_count": 75,
   "metadata": {},
   "outputs": [],
   "source": [
    "_dataset = pq.ParquetDataset(\"/home/llr/cms/rembser/WWZ-leptonic-EFT-analysis/skims/2017_WWZ_for_jetmet_sync\")\n",
    "_df = dataset.read_pandas().to_pandas()\n",
    "nano_event = _df[\"evt\"].values"
   ]
  },
  {
   "cell_type": "code",
   "execution_count": 76,
   "metadata": {},
   "outputs": [
    {
     "data": {
      "text/plain": [
       "array([    503,     502,     505, ..., 1805484, 1805490, 1805495],\n",
       "      dtype=uint64)"
      ]
     },
     "execution_count": 76,
     "metadata": {},
     "output_type": "execute_result"
    }
   ],
   "source": [
    "nano_event"
   ]
  },
  {
   "cell_type": "code",
   "execution_count": 77,
   "metadata": {},
   "outputs": [
    {
     "name": "stdout",
     "output_type": "stream",
     "text": [
      "\n",
      "Overlapping events: 872932\n",
      "Events only in nano: 1538\n",
      "Events only in baby: 1036\n",
      "\n"
     ]
    }
   ],
   "source": [
    "n_overlap = np.sum(np.in1d(nano_event, baby_event))\n",
    "n_nano = len(nano_event)\n",
    "n_baby = len(baby_event)\n",
    "\n",
    "print()\n",
    "print(\"Overlapping events:\", n_overlap)\n",
    "print(\"Events only in nano:\", n_nano - n_overlap)\n",
    "print(\"Events only in baby:\", n_baby - n_overlap)\n",
    "print()\n",
    "\n",
    "_, nano_idx, baby_idx = np.intersect1d(nano_event, baby_event, return_indices=True)"
   ]
  },
  {
   "cell_type": "code",
   "execution_count": 78,
   "metadata": {},
   "outputs": [
    {
     "data": {
      "image/png": "[encoded data removed]",
      "text/plain": [
       "<Figure size 432x288 with 1 Axes>"
      ]
     },
     "metadata": {
      "needs_background": "light"
     },
     "output_type": "display_data"
    }
   ],
   "source": [
    "bins = np.linspace(0, 25, 26)\n",
    "plt.hist(baby.array(\"jets_pt\")[baby_idx].counts, bins=bins, histtype=\"step\")\n",
    "plt.hist(data[\"nJet\"][nano_idx], bins=bins, histtype=\"step\")\n",
    "plt.show()"
   ]
  },
  {
   "cell_type": "code",
   "execution_count": 79,
   "metadata": {},
   "outputs": [
    {
     "data": {
      "image/png": "[encoded data removed]",
      "text/plain": [
       "<Figure size 432x288 with 1 Axes>"
      ]
     },
     "metadata": {
      "needs_background": "light"
     },
     "output_type": "display_data"
    }
   ],
   "source": [
    "bins = np.linspace(0, 25, 26)\n",
    "plt.hist(baby.array(\"nb\")[baby_idx], bins=bins, histtype=\"step\")\n",
    "plt.hist(data[\"nJet\"][nano_idx], bins=bins, histtype=\"step\")\n",
    "plt.show()"
   ]
  },
  {
   "cell_type": "code",
   "execution_count": 83,
   "metadata": {},
   "outputs": [
    {
     "data": {
      "image/png": "[encoded data removed]",
      "text/plain": [
       "<Figure size 432x288 with 1 Axes>"
      ]
     },
     "metadata": {
      "needs_background": "light"
     },
     "output_type": "display_data"
    }
   ],
   "source": [
    "bins = np.linspace(0, 200, 200)\n",
    "plt.hist(baby.array(\"met_orig_pt\")[baby_idx], bins=bins, histtype=\"step\")\n",
    "plt.hist(data[\"MET_pt\"][nano_idx], bins=bins, histtype=\"step\")\n",
    "#plt.hist(data[\"PuppiMET_pt\"][nano_idx], bins=bins, histtype=\"step\")\n",
    "#plt.hist(data[\"RawMET_pt\"][nano_idx], bins=bins, histtype=\"step\")\n",
    "#plt.hist(data[\"CaloMET_pt\"][nano_idx], bins=bins, histtype=\"step\")\n",
    "\n",
    "plt.show()"
   ]
  },
  {
   "cell_type": "code",
   "execution_count": 81,
   "metadata": {},
   "outputs": [
    {
     "name": "stdout",
     "output_type": "stream",
     "text": [
      "b'met_orig_pt'\n",
      "b'met_orig_phi'\n",
      "b'met_orig_up_pt'\n",
      "b'met_orig_up_phi'\n",
      "b'met_orig_dn_pt'\n",
      "b'met_orig_dn_phi'\n",
      "b'met_p4'\n",
      "b'met_pt'\n",
      "b'met_phi'\n",
      "b'met_up_pt'\n",
      "b'met_up_phi'\n",
      "b'met_dn_pt'\n",
      "b'met_dn_phi'\n",
      "b'met_smearup_pt'\n",
      "b'met_smearup_phi'\n",
      "b'met_smeardn_pt'\n",
      "b'met_smeardn_phi'\n",
      "b'met_pileupup_pt'\n",
      "b'met_pileupup_phi'\n",
      "b'met_pileupdn_pt'\n",
      "b'met_pileupdn_phi'\n",
      "b'met_gen_pt'\n",
      "b'met_gen_phi'\n"
     ]
    }
   ],
   "source": [
    "for k in baby.keys():\n",
    "    if b'met' in k:\n",
    "        print(k)"
   ]
  }
 ],
 "metadata": {
  "kernelspec": {
   "display_name": "Python 3",
   "language": "python",
   "name": "python3"
  },
  "language_info": {
   "codemirror_mode": {
    "name": "ipython",
    "version": 3
   },
   "file_extension": ".py",
   "mimetype": "text/x-python",
   "name": "python",
   "nbconvert_exporter": "python",
   "pygments_lexer": "ipython3",
   "version": "3.7.0"
  }
 },
 "nbformat": 4,
 "nbformat_minor": 2
}
