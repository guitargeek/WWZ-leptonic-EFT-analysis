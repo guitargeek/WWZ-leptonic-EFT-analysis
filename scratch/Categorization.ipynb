{
 "cells": [
  {
   "cell_type": "code",
   "execution_count": 24,
   "metadata": {},
   "outputs": [
    {
     "name": "stdout",
     "output_type": "stream",
     "text": [
      "The autoreload extension is already loaded. To reload it, use:\n",
      "  %reload_ext autoreload\n"
     ]
    }
   ],
   "source": [
    "%load_ext autoreload"
   ]
  },
  {
   "cell_type": "code",
   "execution_count": 25,
   "metadata": {},
   "outputs": [],
   "source": [
    "%autoreload 2"
   ]
  },
  {
   "cell_type": "code",
   "execution_count": 26,
   "metadata": {},
   "outputs": [],
   "source": [
    "import matplotlib.pyplot as plt\n",
    "import uproot_methods"
   ]
  },
  {
   "cell_type": "code",
   "execution_count": 27,
   "metadata": {},
   "outputs": [],
   "source": [
    "import libwwz"
   ]
  },
  {
   "cell_type": "code",
   "execution_count": 28,
   "metadata": {},
   "outputs": [],
   "source": [
    "import uproot\n",
    "import os\n",
    "import numpy as np\n",
    "import pandas as pd"
   ]
  },
  {
   "cell_type": "code",
   "execution_count": 29,
   "metadata": {},
   "outputs": [],
   "source": [
    "from geeksw.utils.core import concatenate\n",
    "from geeksw.utils.data_loader_tools import make_data_loader, TreeWrapper, list_root_files_recursively"
   ]
  },
  {
   "cell_type": "code",
   "execution_count": 30,
   "metadata": {},
   "outputs": [],
   "source": [
    "import pyarrow.parquet as pq\n",
    "import pandas as pd"
   ]
  },
  {
   "cell_type": "code",
   "execution_count": 31,
   "metadata": {},
   "outputs": [],
   "source": [
    "_dataset = pq.ParquetDataset(\"/home/llr/cms/rembser/WWZ-leptonic-EFT-analysis/skims/2017_WWZ_four_lepton_skim/parquet\")\n",
    "df_full = _dataset.read_pandas().to_pandas()\n",
    "#nano_event = _df[\"evt\"].values"
   ]
  },
  {
   "cell_type": "code",
   "execution_count": 32,
   "metadata": {},
   "outputs": [],
   "source": [
    "def passes_Z_id(df):\n",
    "    df_out = pd.DataFrame()\n",
    "    for i in range(4):\n",
    "        base_selection = df[f\"VetoLepton_ip3d_{i}\"].abs() / df[f\"VetoLepton_sip3d_{i}\"] < 4\n",
    "        \n",
    "        is_ele = df[f\"VetoLepton_pdgId_{i}\"].abs() == 11\n",
    "        is_mu = df[f\"VetoLepton_pdgId_{i}\"].abs() == 13\n",
    "        \n",
    "        electron_selection = df[f\"VetoLepton_pfRelIso03_all_wLep_{i}\"] < 0.2\n",
    "        \n",
    "        muon_selection = df[f\"VetoLepton_mediumId_{i}\"] & df[f\"VetoLepton_pfRelIso03_all_wLep_{i}\"] < 0.25\n",
    "        \n",
    "        selection = base_selection & ((is_ele & electron_selection) | (is_mu & muon_selection))\n",
    "        \n",
    "        df_out[f\"VetoLepton_passesZid_{i}\"] = selection\n",
    "    return df_out"
   ]
  },
  {
   "cell_type": "code",
   "execution_count": 33,
   "metadata": {},
   "outputs": [],
   "source": [
    "def passes_W_id(df):\n",
    "    df_out = pd.DataFrame()\n",
    "    for i in range(4):\n",
    "        base_selection = df[f\"VetoLepton_ip3d_{i}\"].abs() / df[f\"VetoLepton_sip3d_{i}\"] < 4\n",
    "        \n",
    "        is_ele = df[f\"VetoLepton_pdgId_{i}\"].abs() == 11\n",
    "        is_mu = df[f\"VetoLepton_pdgId_{i}\"].abs() == 13\n",
    "        \n",
    "        electron_selection = df[f\"VetoLepton_mediumId_{i}\"] & df[f\"VetoLepton_pfRelIso03_all_wLep_{i}\"] < 0.2\n",
    "        \n",
    "        muon_selection = df[f\"VetoLepton_mediumId_{i}\"] & df[f\"VetoLepton_pfRelIso03_all_wLep_{i}\"] < 0.15\n",
    "        \n",
    "        selection = base_selection & ((is_ele & electron_selection) | (is_mu & muon_selection))\n",
    "        \n",
    "        df_out[f\"VetoLepton_passesWid_{i}\"] = selection\n",
    "    return df_out"
   ]
  },
  {
   "cell_type": "code",
   "execution_count": 34,
   "metadata": {},
   "outputs": [],
   "source": []
  },
  {
   "cell_type": "code",
   "execution_count": 35,
   "metadata": {},
   "outputs": [],
   "source": []
  },
  {
   "cell_type": "code",
   "execution_count": 102,
   "metadata": {},
   "outputs": [
    {
     "data": {
      "text/plain": [
       "474.14386"
      ]
     },
     "execution_count": 102,
     "metadata": {},
     "output_type": "execute_result"
    }
   ],
   "source": []
  },
  {
   "cell_type": "code",
   "execution_count": 187,
   "metadata": {},
   "outputs": [],
   "source": [
    "def jagged_pair_masses(df):\n",
    "    import awkward\n",
    "    content = df[[\"VetoLeptonPair_mass_01\", \"VetoLeptonPair_mass_02\", \"VetoLeptonPair_mass_03\", \n",
    "               \"VetoLeptonPair_mass_12\", \"VetoLeptonPair_mass_13\", \"VetoLeptonPair_mass_23\"]].values.flatten()\n",
    "    \n",
    "    return awkward.JaggedArray.fromcounts(6 + np.zeros(len(df), dtype=np.int), content)"
   ]
  },
  {
   "cell_type": "code",
   "execution_count": 53,
   "metadata": {},
   "outputs": [],
   "source": [
    "def jagged_lepton_variable(df, variable):\n",
    "    import awkward\n",
    "    content = df[[f\"VetoLepton_{variable}_0\",\n",
    "                 f\"VetoLepton_{variable}_1\",\n",
    "                 f\"VetoLepton_{variable}_2\",\n",
    "                 f\"VetoLepton_{variable}_3\"]].values.flatten()\n",
    "    \n",
    "    return awkward.JaggedArray.fromcounts(4 + np.zeros(len(df), dtype=np.int), content)"
   ]
  },
  {
   "cell_type": "code",
   "execution_count": 54,
   "metadata": {},
   "outputs": [
    {
     "data": {
      "text/plain": [
       "<JaggedArray [[139.17367553710938 99.70079803466797 78.56649780273438 22.383941650390625] [342.103271484375 128.05360412597656 36.159324645996094 10.100736618041992] [189.14801025390625 70.32777404785156 31.609167098999023 10.948343276977539] ... [251.69728088378906 158.0769500732422 66.212158203125 16.047008514404297] [73.38579559326172 62.21168518066406 17.38884925842285 12.272255897521973] [66.70853424072266 45.80470657348633 39.04925537109375 31.180017471313477]] at 0x7f3f04089b70>"
      ]
     },
     "execution_count": 54,
     "metadata": {},
     "output_type": "execute_result"
    }
   ],
   "source": [
    "jagged_lepton_variable(df, \"pt\")"
   ]
  },
  {
   "cell_type": "code",
   "execution_count": 77,
   "metadata": {},
   "outputs": [],
   "source": [
    "def to_singleton_jagged_array(arr):\n",
    "    import awkward\n",
    "    return awkward.JaggedArray.fromcounts(np.ones(len(arr), dtype=np.int), arr)"
   ]
  },
  {
   "cell_type": "code",
   "execution_count": 208,
   "metadata": {},
   "outputs": [],
   "source": [
    "def find_boson_candidate_indices(df):\n",
    "    z_mass = 91.19\n",
    "\n",
    "    def find_z_candidates(df):\n",
    "\n",
    "        df_out = pd.DataFrame()\n",
    "\n",
    "        for i in range(4):\n",
    "            for j in range(4):\n",
    "                if j <= i:\n",
    "                    continue\n",
    "                mass = df[f\"VetoLeptonPair_mass_{i}{j}\"].copy().values\n",
    "                mass[df[f\"VetoLepton_pdgId_{i}\"] + df[f\"VetoLepton_pdgId_{j}\"] != 0] = np.nan\n",
    "                mass[~df[f\"VetoLepton_passesZid_{i}\"]] = np.nan\n",
    "                mass[~df[f\"VetoLepton_passesZid_{j}\"]] = np.nan\n",
    "\n",
    "                pt_i = df[f\"VetoLepton_pt_{i}\"]\n",
    "                pt_j = df[f\"VetoLepton_pt_{j}\"]\n",
    "                mass[np.max([pt_i, pt_j], axis=0) < 25] = np.nan\n",
    "                mass[np.min([pt_i, pt_j], axis=0) < 10] = np.nan\n",
    "\n",
    "                df_out[f\"VetoLeptonPair_z_cand_mass_{i}{j}\"] = mass\n",
    "\n",
    "        return df_out\n",
    "\n",
    "    z_df = find_z_candidates(df)\n",
    "\n",
    "    def z_idx_to_lep_idx(z_idx):\n",
    "        lep_1_idx = 0 + (z_idx > 2)\n",
    "        lep_2_idx = z_idx + 1\n",
    "\n",
    "        lep_1_idx = lep_1_idx + (z_idx > 4)\n",
    "\n",
    "        lep_2_idx[z_idx == 2] = 3\n",
    "        lep_2_idx[z_idx == 3] = 2\n",
    "        lep_2_idx[z_idx == 4] = 3\n",
    "        lep_2_idx[z_idx == 5] = 3\n",
    "        \n",
    "        lep_1_idx[z_idx < 0] = -99\n",
    "        lep_2_idx[z_idx < 0] = -99\n",
    "\n",
    "        return lep_1_idx, lep_2_idx\n",
    "\n",
    "    has_z_cand = ~(np.sum(~np.isnan(z_df.values), axis=1) == 0)\n",
    "\n",
    "    in_z_window = has_z_cand[:]\n",
    "    in_z_window[has_z_cand] = np.nanmin(np.abs(z_df[has_z_cand].values - z_mass), axis=1) < 10.0\n",
    "    z_idx = np.nanargmin(np.abs(z_df[in_z_window].values - z_mass), axis=1)\n",
    "\n",
    "    w_lep_1_idx = np.zeros(len(df), dtype=np.int) - 99\n",
    "    w_lep_2_idx = np.zeros(len(df), dtype=np.int) - 99\n",
    "\n",
    "    z_lep_1_idx = np.zeros(len(df), dtype=np.int) - 99\n",
    "    z_lep_2_idx = np.zeros(len(df), dtype=np.int) - 99\n",
    "\n",
    "    a, b = z_idx_to_lep_idx(z_idx)\n",
    "    z_lep_1_idx[in_z_window] = a\n",
    "    z_lep_2_idx[in_z_window] = b\n",
    "\n",
    "    w_lep_1_idx[np.logical_and(z_lep_1_idx == 0, z_lep_2_idx == 1)] = 2\n",
    "    w_lep_1_idx[np.logical_and(z_lep_1_idx == 0, z_lep_2_idx == 2)] = 1\n",
    "    w_lep_1_idx[np.logical_and(z_lep_1_idx == 0, z_lep_2_idx == 3)] = 1\n",
    "    w_lep_1_idx[np.logical_and(z_lep_1_idx == 1, z_lep_2_idx == 2)] = 0\n",
    "    w_lep_1_idx[np.logical_and(z_lep_1_idx == 1, z_lep_2_idx == 3)] = 0\n",
    "    w_lep_1_idx[np.logical_and(z_lep_1_idx == 2, z_lep_2_idx == 3)] = 0\n",
    "\n",
    "    w_lep_2_idx[np.logical_and(z_lep_1_idx == 0, z_lep_2_idx == 1)] = 3\n",
    "    w_lep_2_idx[np.logical_and(z_lep_1_idx == 0, z_lep_2_idx == 2)] = 3\n",
    "    w_lep_2_idx[np.logical_and(z_lep_1_idx == 0, z_lep_2_idx == 3)] = 2\n",
    "    w_lep_2_idx[np.logical_and(z_lep_1_idx == 1, z_lep_2_idx == 2)] = 3\n",
    "    w_lep_2_idx[np.logical_and(z_lep_1_idx == 1, z_lep_2_idx == 3)] = 2\n",
    "    w_lep_2_idx[np.logical_and(z_lep_1_idx == 2, z_lep_2_idx == 3)] = 1\n",
    "    \n",
    "    # Don't consider W-leptons if they don' pass the ID\n",
    "    passes_w_id = jagged_lepton_variable(df, \"passesWid\")[in_z_window]\n",
    "    jagged_w_lep_1_idx_in_z_window = to_singleton_jagged_array(w_lep_1_idx[in_z_window])\n",
    "    jagged_w_lep_2_idx_in_z_window = to_singleton_jagged_array(w_lep_2_idx[in_z_window])\n",
    "    passes = np.logical_and(passes_w_id[jagged_w_lep_1_idx_in_z_window],\n",
    "                            passes_w_id[jagged_w_lep_2_idx_in_z_window]).flatten()\n",
    "    passes_all = np.array(in_z_window)\n",
    "    passes_all[in_z_window] = passes\n",
    "    w_lep_1_idx[~passes_all] = -99\n",
    "    w_lep_2_idx[~passes_all] = -99\n",
    "    \n",
    "    # Don't consider W-leptons if they are not opposite charge\n",
    "    w_lep_charge = np.sign(jagged_lepton_variable(df, \"pdgId\"))[in_z_window]\n",
    "    w_charge_1 = w_lep_charge[jagged_w_lep_1_idx_in_z_window].flatten()\n",
    "    w_charge_2 = w_lep_charge[jagged_w_lep_2_idx_in_z_window].flatten()\n",
    "    passes = w_charge_1 + w_charge_2 == 0\n",
    "    passes_all = np.array(in_z_window)\n",
    "    passes_all[in_z_window] = passes\n",
    "    w_lep_1_idx[~passes_all] = -99\n",
    "    w_lep_2_idx[~passes_all] = -99\n",
    "    \n",
    "    # W candidate pt cuts\n",
    "    w_cand_pt = jagged_lepton_variable(df, \"pt\")[in_z_window]\n",
    "    w_pt_1 = w_cand_pt[jagged_w_lep_1_idx_in_z_window].flatten()\n",
    "    w_pt_2 = w_cand_pt[jagged_w_lep_2_idx_in_z_window].flatten()\n",
    "    passes = np.logical_and(np.max([w_pt_1, w_pt_2], axis=0) > 25,\n",
    "                            np.min([w_pt_1, w_pt_2], axis=0) > 10)\n",
    "\n",
    "    passes_all = np.array(in_z_window)\n",
    "    passes_all[in_z_window] = passes\n",
    "    w_lep_1_idx[~passes_all] = -99\n",
    "    w_lep_2_idx[~passes_all] = -99\n",
    "\n",
    "    return pd.DataFrame(dict(z_lep_1_idx=z_lep_1_idx, z_lep_2_idx=z_lep_2_idx,\n",
    "                             w_lep_1_idx=w_lep_1_idx, w_lep_2_idx=w_lep_2_idx))"
   ]
  },
  {
   "cell_type": "code",
   "execution_count": null,
   "metadata": {},
   "outputs": [],
   "source": []
  },
  {
   "cell_type": "code",
   "execution_count": 209,
   "metadata": {},
   "outputs": [
    {
     "data": {
      "text/html": [
       "<div>\n",
       "<style scoped>\n",
       "    .dataframe tbody tr th:only-of-type {\n",
       "        vertical-align: middle;\n",
       "    }\n",
       "\n",
       "    .dataframe tbody tr th {\n",
       "        vertical-align: top;\n",
       "    }\n",
       "\n",
       "    .dataframe thead th {\n",
       "        text-align: right;\n",
       "    }\n",
       "</style>\n",
       "<table border=\"1\" class=\"dataframe\">\n",
       "  <thead>\n",
       "    <tr style=\"text-align: right;\">\n",
       "      <th></th>\n",
       "      <th>z_lep_1_idx</th>\n",
       "      <th>z_lep_2_idx</th>\n",
       "      <th>w_lep_1_idx</th>\n",
       "      <th>w_lep_2_idx</th>\n",
       "    </tr>\n",
       "  </thead>\n",
       "  <tbody>\n",
       "    <tr>\n",
       "      <td>0</td>\n",
       "      <td>0</td>\n",
       "      <td>3</td>\n",
       "      <td>1</td>\n",
       "      <td>2</td>\n",
       "    </tr>\n",
       "    <tr>\n",
       "      <td>1</td>\n",
       "      <td>-99</td>\n",
       "      <td>-99</td>\n",
       "      <td>-99</td>\n",
       "      <td>-99</td>\n",
       "    </tr>\n",
       "    <tr>\n",
       "      <td>2</td>\n",
       "      <td>0</td>\n",
       "      <td>3</td>\n",
       "      <td>-99</td>\n",
       "      <td>-99</td>\n",
       "    </tr>\n",
       "    <tr>\n",
       "      <td>3</td>\n",
       "      <td>0</td>\n",
       "      <td>3</td>\n",
       "      <td>-99</td>\n",
       "      <td>-99</td>\n",
       "    </tr>\n",
       "    <tr>\n",
       "      <td>4</td>\n",
       "      <td>-99</td>\n",
       "      <td>-99</td>\n",
       "      <td>-99</td>\n",
       "      <td>-99</td>\n",
       "    </tr>\n",
       "    <tr>\n",
       "      <td>...</td>\n",
       "      <td>...</td>\n",
       "      <td>...</td>\n",
       "      <td>...</td>\n",
       "      <td>...</td>\n",
       "    </tr>\n",
       "    <tr>\n",
       "      <td>776026</td>\n",
       "      <td>0</td>\n",
       "      <td>1</td>\n",
       "      <td>2</td>\n",
       "      <td>3</td>\n",
       "    </tr>\n",
       "    <tr>\n",
       "      <td>776027</td>\n",
       "      <td>0</td>\n",
       "      <td>2</td>\n",
       "      <td>-99</td>\n",
       "      <td>-99</td>\n",
       "    </tr>\n",
       "    <tr>\n",
       "      <td>776028</td>\n",
       "      <td>-99</td>\n",
       "      <td>-99</td>\n",
       "      <td>-99</td>\n",
       "      <td>-99</td>\n",
       "    </tr>\n",
       "    <tr>\n",
       "      <td>776029</td>\n",
       "      <td>0</td>\n",
       "      <td>1</td>\n",
       "      <td>-99</td>\n",
       "      <td>-99</td>\n",
       "    </tr>\n",
       "    <tr>\n",
       "      <td>776030</td>\n",
       "      <td>-99</td>\n",
       "      <td>-99</td>\n",
       "      <td>-99</td>\n",
       "      <td>-99</td>\n",
       "    </tr>\n",
       "  </tbody>\n",
       "</table>\n",
       "<p>776031 rows × 4 columns</p>\n",
       "</div>"
      ],
      "text/plain": [
       "        z_lep_1_idx  z_lep_2_idx  w_lep_1_idx  w_lep_2_idx\n",
       "0                 0            3            1            2\n",
       "1               -99          -99          -99          -99\n",
       "2                 0            3          -99          -99\n",
       "3                 0            3          -99          -99\n",
       "4               -99          -99          -99          -99\n",
       "...             ...          ...          ...          ...\n",
       "776026            0            1            2            3\n",
       "776027            0            2          -99          -99\n",
       "776028          -99          -99          -99          -99\n",
       "776029            0            1          -99          -99\n",
       "776030          -99          -99          -99          -99\n",
       "\n",
       "[776031 rows x 4 columns]"
      ]
     },
     "execution_count": 209,
     "metadata": {},
     "output_type": "execute_result"
    }
   ],
   "source": [
    "cands_idx"
   ]
  },
  {
   "cell_type": "code",
   "execution_count": 210,
   "metadata": {},
   "outputs": [],
   "source": [
    "def lep_idx_to_z_idx(z_lep_1_idx, z_lep_2_idx):\n",
    "    z_idx = np.zeros(len(z_lep_1_idx), dtype=np.int) - 99\n",
    "    \n",
    "    z_idx[np.logical_and(z_lep_1_idx == 0, z_lep_2_idx == 1)] = 0\n",
    "    z_idx[np.logical_and(z_lep_1_idx == 0, z_lep_2_idx == 2)] = 1\n",
    "    z_idx[np.logical_and(z_lep_1_idx == 0, z_lep_2_idx == 3)] = 2\n",
    "    z_idx[np.logical_and(z_lep_1_idx == 1, z_lep_2_idx == 2)] = 3\n",
    "    z_idx[np.logical_and(z_lep_1_idx == 1, z_lep_2_idx == 3)] = 4\n",
    "    z_idx[np.logical_and(z_lep_1_idx == 2, z_lep_2_idx == 3)] = 5\n",
    "    \n",
    "    return z_idx"
   ]
  },
  {
   "cell_type": "code",
   "execution_count": null,
   "metadata": {},
   "outputs": [],
   "source": []
  },
  {
   "cell_type": "code",
   "execution_count": 217,
   "metadata": {},
   "outputs": [],
   "source": [
    "def get_z_cand_masses(df):\n",
    "    has_z_cand_1 = df[\"z_lep_1_idx\"] >= 0\n",
    "    has_z_cand_2 = df[\"w_lep_1_idx\"] >= 0\n",
    "    \n",
    "    z_lep_1_idx = df[\"z_lep_1_idx\"][has_z_cand_1].values\n",
    "    z_lep_2_idx = df[\"z_lep_2_idx\"][has_z_cand_1].values\n",
    "    w_lep_1_idx = df[\"w_lep_1_idx\"][has_z_cand_2].values\n",
    "    w_lep_2_idx = df[\"w_lep_2_idx\"][has_z_cand_2].values\n",
    "    \n",
    "    pair_masses = jagged_pair_masses(df)\n",
    "    \n",
    "    z_cand_1_mass = pair_masses[has_z_cand_1][to_singleton_jagged_array(lep_idx_to_z_idx(z_lep_1_idx, z_lep_2_idx))]\n",
    "    z_cand_2_mass = pair_masses[has_z_cand_2][to_singleton_jagged_array(lep_idx_to_z_idx(w_lep_1_idx, w_lep_2_idx))]\n",
    "    \n",
    "    lep_pdg_id = jagged_lepton_variable(df, \"pdgId\")[has_z_cand_2]\n",
    "    w_pdg_1 = lep_pdg_id[to_singleton_jagged_array(w_lep_1_idx)]\n",
    "    w_pdg_2 = lep_pdg_id[to_singleton_jagged_array(w_lep_2_idx)]\n",
    "    \n",
    "    z_cand_2_mass[w_pdg_1 + w_pdg_2 != 0] = np.nan\n",
    "\n",
    "    df_out = pd.DataFrame(index=df.index)\n",
    "    df_out.loc[has_z_cand_1, \"ZCand_mass_0\"] = z_cand_1_mass\n",
    "    df_out.loc[has_z_cand_2, \"ZCand_mass_1\"] = z_cand_2_mass\n",
    "    return df_out"
   ]
  },
  {
   "cell_type": "code",
   "execution_count": 218,
   "metadata": {},
   "outputs": [
    {
     "data": {
      "text/plain": [
       "474.14386"
      ]
     },
     "execution_count": 218,
     "metadata": {},
     "output_type": "execute_result"
    }
   ],
   "source": [
    "df = df_full[:].copy()\n",
    "df = pd.concat([df, passes_Z_id(df), passes_W_id(df)], axis=1)\n",
    "df_cands_idx = find_boson_candidate_indices(df)\n",
    "df = pd.concat([df, df_cands_idx], axis=1)\n",
    "df_z_cand_masses = get_z_cand_masses(df)\n",
    "df = pd.concat([df, df_z_cand_masses], axis=1)\n",
    "pre_skim_sumw = 1181.90185546875\n",
    "df[\"genWeight\"].sum()"
   ]
  },
  {
   "cell_type": "code",
   "execution_count": 268,
   "metadata": {},
   "outputs": [],
   "source": [
    "def is_emu_category(df):\n",
    "    selection = np.sum(df[[\"z_lep_1_idx\", \"z_lep_2_idx\", \"w_lep_1_idx\", \"w_lep_2_idx\"]].values, axis=1) == 6\n",
    "    selection = np.logical_and(selection, df[\"ZCand_mass_1\"].isna())\n",
    "    return np.logical_and(selection, df[\"nb\"] == 0)"
   ]
  },
  {
   "cell_type": "code",
   "execution_count": 269,
   "metadata": {},
   "outputs": [],
   "source": [
    "def is_btag_emu_category(df):\n",
    "    selection = np.sum(df[[\"z_lep_1_idx\", \"z_lep_2_idx\", \"w_lep_1_idx\", \"w_lep_2_idx\"]].values, axis=1) == 6\n",
    "    selection = np.logical_and(selection, df[\"ZCand_mass_1\"].isna())\n",
    "    return np.logical_and(selection, df[\"nb\"] > 0)"
   ]
  },
  {
   "cell_type": "code",
   "execution_count": 270,
   "metadata": {},
   "outputs": [],
   "source": [
    "def is_offz_category(df):\n",
    "    selection = np.sum(df[[\"z_lep_1_idx\", \"z_lep_2_idx\", \"w_lep_1_idx\", \"w_lep_2_idx\"]].values, axis=1) == 6\n",
    "    selection = np.logical_and(selection, (df[\"ZCand_mass_1\"] - 91.19).abs() > 10.)\n",
    "    return selection"
   ]
  },
  {
   "cell_type": "code",
   "execution_count": 271,
   "metadata": {},
   "outputs": [],
   "source": [
    "def is_onz_category(df):\n",
    "    selection = np.sum(df[[\"z_lep_1_idx\", \"z_lep_2_idx\", \"w_lep_1_idx\", \"w_lep_2_idx\"]].values, axis=1) == 6\n",
    "    selection = np.logical_and(selection, (df[\"ZCand_mass_1\"] - 91.19).abs() <= 10.)\n",
    "    return selection"
   ]
  },
  {
   "cell_type": "code",
   "execution_count": 272,
   "metadata": {},
   "outputs": [
    {
     "data": {
      "text/plain": [
       "2.141395145347839"
      ]
     },
     "execution_count": 272,
     "metadata": {},
     "output_type": "execute_result"
    }
   ],
   "source": [
    "df[\"genWeight\"][is_btag_emu_category(df)].sum() / 1181.90185546875 * 157 * 4.12"
   ]
  },
  {
   "cell_type": "code",
   "execution_count": 273,
   "metadata": {},
   "outputs": [
    {
     "data": {
      "text/plain": [
       "12.997242873347215"
      ]
     },
     "execution_count": 273,
     "metadata": {},
     "output_type": "execute_result"
    }
   ],
   "source": [
    "df[\"genWeight\"][is_emu_category(df)].sum() / 1181.90185546875 * 157 * 4.12"
   ]
  },
  {
   "cell_type": "code",
   "execution_count": 274,
   "metadata": {},
   "outputs": [
    {
     "data": {
      "text/plain": [
       "13.585907114026446"
      ]
     },
     "execution_count": 274,
     "metadata": {},
     "output_type": "execute_result"
    }
   ],
   "source": [
    "df[\"genWeight\"][is_offz_category(df)].sum() / 1181.90185546875 * 157 * 4.12"
   ]
  },
  {
   "cell_type": "code",
   "execution_count": 275,
   "metadata": {},
   "outputs": [
    {
     "data": {
      "text/plain": [
       "1.7485723938128606"
      ]
     },
     "execution_count": 275,
     "metadata": {},
     "output_type": "execute_result"
    }
   ],
   "source": [
    "df[\"genWeight\"][is_onz_category(df)].sum() / 1181.90185546875 * 157 * 4.12"
   ]
  },
  {
   "cell_type": "code",
   "execution_count": 240,
   "metadata": {},
   "outputs": [
    {
     "data": {
      "text/html": [
       "<div>\n",
       "<style scoped>\n",
       "    .dataframe tbody tr th:only-of-type {\n",
       "        vertical-align: middle;\n",
       "    }\n",
       "\n",
       "    .dataframe tbody tr th {\n",
       "        vertical-align: top;\n",
       "    }\n",
       "\n",
       "    .dataframe thead th {\n",
       "        text-align: right;\n",
       "    }\n",
       "</style>\n",
       "<table border=\"1\" class=\"dataframe\">\n",
       "  <thead>\n",
       "    <tr style=\"text-align: right;\">\n",
       "      <th></th>\n",
       "      <th>ZCand_mass_0</th>\n",
       "      <th>ZCand_mass_1</th>\n",
       "    </tr>\n",
       "  </thead>\n",
       "  <tbody>\n",
       "    <tr>\n",
       "      <td>0</td>\n",
       "      <td>90.464584</td>\n",
       "      <td>93.477148</td>\n",
       "    </tr>\n",
       "    <tr>\n",
       "      <td>1</td>\n",
       "      <td>NaN</td>\n",
       "      <td>NaN</td>\n",
       "    </tr>\n",
       "    <tr>\n",
       "      <td>2</td>\n",
       "      <td>88.756172</td>\n",
       "      <td>NaN</td>\n",
       "    </tr>\n",
       "    <tr>\n",
       "      <td>3</td>\n",
       "      <td>90.716882</td>\n",
       "      <td>NaN</td>\n",
       "    </tr>\n",
       "    <tr>\n",
       "      <td>4</td>\n",
       "      <td>NaN</td>\n",
       "      <td>NaN</td>\n",
       "    </tr>\n",
       "    <tr>\n",
       "      <td>...</td>\n",
       "      <td>...</td>\n",
       "      <td>...</td>\n",
       "    </tr>\n",
       "    <tr>\n",
       "      <td>776026</td>\n",
       "      <td>90.410901</td>\n",
       "      <td>81.734592</td>\n",
       "    </tr>\n",
       "    <tr>\n",
       "      <td>776027</td>\n",
       "      <td>93.682943</td>\n",
       "      <td>NaN</td>\n",
       "    </tr>\n",
       "    <tr>\n",
       "      <td>776028</td>\n",
       "      <td>NaN</td>\n",
       "      <td>NaN</td>\n",
       "    </tr>\n",
       "    <tr>\n",
       "      <td>776029</td>\n",
       "      <td>91.151022</td>\n",
       "      <td>NaN</td>\n",
       "    </tr>\n",
       "    <tr>\n",
       "      <td>776030</td>\n",
       "      <td>NaN</td>\n",
       "      <td>NaN</td>\n",
       "    </tr>\n",
       "  </tbody>\n",
       "</table>\n",
       "<p>776031 rows × 2 columns</p>\n",
       "</div>"
      ],
      "text/plain": [
       "        ZCand_mass_0  ZCand_mass_1\n",
       "0          90.464584     93.477148\n",
       "1                NaN           NaN\n",
       "2          88.756172           NaN\n",
       "3          90.716882           NaN\n",
       "4                NaN           NaN\n",
       "...              ...           ...\n",
       "776026     90.410901     81.734592\n",
       "776027     93.682943           NaN\n",
       "776028           NaN           NaN\n",
       "776029     91.151022           NaN\n",
       "776030           NaN           NaN\n",
       "\n",
       "[776031 rows x 2 columns]"
      ]
     },
     "execution_count": 240,
     "metadata": {},
     "output_type": "execute_result"
    }
   ],
   "source": [
    "df_z_cand_masses"
   ]
  },
  {
   "cell_type": "code",
   "execution_count": 221,
   "metadata": {},
   "outputs": [],
   "source": [
    "import matplotlib.pyplot as plt"
   ]
  },
  {
   "cell_type": "code",
   "execution_count": 222,
   "metadata": {},
   "outputs": [
    {
     "data": {
      "image/png": "[encoded data removed]",
      "text/plain": [
       "<Figure size 432x288 with 1 Axes>"
      ]
     },
     "metadata": {
      "needs_background": "light"
     },
     "output_type": "display_data"
    }
   ],
   "source": [
    "bins = np.linspace(0, 200, 200)\n",
    "plt.hist(df_z_cand_masses[\"ZCand_mass_1\"].dropna().values, bins=bins)\n",
    "plt.show()"
   ]
  },
  {
   "cell_type": "code",
   "execution_count": null,
   "metadata": {},
   "outputs": [],
   "source": []
  },
  {
   "cell_type": "code",
   "execution_count": null,
   "metadata": {},
   "outputs": [],
   "source": []
  }
 ],
 "metadata": {
  "kernelspec": {
   "display_name": "Python 3",
   "language": "python",
   "name": "python3"
  },
  "language_info": {
   "codemirror_mode": {
    "name": "ipython",
    "version": 3
   },
   "file_extension": ".py",
   "mimetype": "text/x-python",
   "name": "python",
   "nbconvert_exporter": "python",
   "pygments_lexer": "ipython3",
   "version": "3.7.0"
  }
 },
 "nbformat": 4,
 "nbformat_minor": 2
}
