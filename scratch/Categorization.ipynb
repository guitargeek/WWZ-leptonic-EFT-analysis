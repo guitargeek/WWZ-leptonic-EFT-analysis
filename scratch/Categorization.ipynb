{
 "cells": [
  {
   "cell_type": "code",
   "execution_count": 17,
   "metadata": {},
   "outputs": [
    {
     "name": "stdout",
     "output_type": "stream",
     "text": [
      "The autoreload extension is already loaded. To reload it, use:\n",
      "  %reload_ext autoreload\n"
     ]
    }
   ],
   "source": [
    "%load_ext autoreload"
   ]
  },
  {
   "cell_type": "code",
   "execution_count": 18,
   "metadata": {},
   "outputs": [],
   "source": [
    "%autoreload 2"
   ]
  },
  {
   "cell_type": "code",
   "execution_count": 19,
   "metadata": {},
   "outputs": [],
   "source": [
    "import matplotlib.pyplot as plt\n",
    "import uproot_methods"
   ]
  },
  {
   "cell_type": "code",
   "execution_count": 20,
   "metadata": {},
   "outputs": [],
   "source": [
    "import libwwz"
   ]
  },
  {
   "cell_type": "code",
   "execution_count": 21,
   "metadata": {},
   "outputs": [],
   "source": [
    "import uproot\n",
    "import os\n",
    "import numpy as np\n",
    "import pandas as pd"
   ]
  },
  {
   "cell_type": "code",
   "execution_count": 22,
   "metadata": {},
   "outputs": [],
   "source": [
    "from geeksw.utils.core import concatenate\n",
    "from geeksw.utils.data_loader_tools import make_data_loader, TreeWrapper, list_root_files_recursively"
   ]
  },
  {
   "cell_type": "code",
   "execution_count": 23,
   "metadata": {},
   "outputs": [],
   "source": [
    "import pyarrow.parquet as pq\n",
    "import pandas as pd"
   ]
  },
  {
   "cell_type": "code",
   "execution_count": 24,
   "metadata": {},
   "outputs": [],
   "source": [
    "_dataset = pq.ParquetDataset(\"/home/llr/cms/rembser/WWZ-leptonic-EFT-analysis/skims/2017_WWZ_four_lepton_skim/parquet\")\n",
    "df_full = _dataset.read_pandas().to_pandas()\n",
    "#nano_event = _df[\"evt\"].values"
   ]
  },
  {
   "cell_type": "code",
   "execution_count": 25,
   "metadata": {},
   "outputs": [
    {
     "data": {
      "text/html": [
       "<div>\n",
       "<style scoped>\n",
       "    .dataframe tbody tr th:only-of-type {\n",
       "        vertical-align: middle;\n",
       "    }\n",
       "\n",
       "    .dataframe tbody tr th {\n",
       "        vertical-align: top;\n",
       "    }\n",
       "\n",
       "    .dataframe thead th {\n",
       "        text-align: right;\n",
       "    }\n",
       "</style>\n",
       "<table border=\"1\" class=\"dataframe\">\n",
       "  <thead>\n",
       "    <tr style=\"text-align: right;\">\n",
       "      <th></th>\n",
       "      <th>evt</th>\n",
       "      <th>evt_passgoodrunlist</th>\n",
       "      <th>evt_scale1fb</th>\n",
       "      <th>firstgoodvertex</th>\n",
       "      <th>hasTau</th>\n",
       "      <th>isData</th>\n",
       "      <th>lumi</th>\n",
       "      <th>met_gen_phi</th>\n",
       "      <th>met_gen_pt</th>\n",
       "      <th>nTrueInt</th>\n",
       "      <th>...</th>\n",
       "      <th>VetoLepton_ip3d_3</th>\n",
       "      <th>VetoLepton_sip3d_3</th>\n",
       "      <th>VetoLepton_pfRelIso03_all_wLep_3</th>\n",
       "      <th>VetoLepton_mediumId_3</th>\n",
       "      <th>VetoLeptonPair_mass_01</th>\n",
       "      <th>VetoLeptonPair_mass_02</th>\n",
       "      <th>VetoLeptonPair_mass_03</th>\n",
       "      <th>VetoLeptonPair_mass_12</th>\n",
       "      <th>VetoLeptonPair_mass_13</th>\n",
       "      <th>VetoLeptonPair_mass_23</th>\n",
       "    </tr>\n",
       "  </thead>\n",
       "  <tbody>\n",
       "    <tr>\n",
       "      <td>0</td>\n",
       "      <td>503</td>\n",
       "      <td>True</td>\n",
       "      <td>1.0</td>\n",
       "      <td>0</td>\n",
       "      <td>True</td>\n",
       "      <td>False</td>\n",
       "      <td>2</td>\n",
       "      <td>0.957520</td>\n",
       "      <td>37.437500</td>\n",
       "      <td>25.0</td>\n",
       "      <td>...</td>\n",
       "      <td>0.000822</td>\n",
       "      <td>0.472656</td>\n",
       "      <td>0.000000</td>\n",
       "      <td>True</td>\n",
       "      <td>143.697401</td>\n",
       "      <td>62.438066</td>\n",
       "      <td>90.464584</td>\n",
       "      <td>93.477148</td>\n",
       "      <td>37.733923</td>\n",
       "      <td>67.137042</td>\n",
       "    </tr>\n",
       "    <tr>\n",
       "      <td>1</td>\n",
       "      <td>502</td>\n",
       "      <td>True</td>\n",
       "      <td>1.0</td>\n",
       "      <td>0</td>\n",
       "      <td>True</td>\n",
       "      <td>False</td>\n",
       "      <td>2</td>\n",
       "      <td>-0.895020</td>\n",
       "      <td>31.546875</td>\n",
       "      <td>31.0</td>\n",
       "      <td>...</td>\n",
       "      <td>0.005295</td>\n",
       "      <td>1.458008</td>\n",
       "      <td>0.000000</td>\n",
       "      <td>True</td>\n",
       "      <td>151.404266</td>\n",
       "      <td>40.771396</td>\n",
       "      <td>93.403486</td>\n",
       "      <td>23.751724</td>\n",
       "      <td>55.727576</td>\n",
       "      <td>29.217539</td>\n",
       "    </tr>\n",
       "    <tr>\n",
       "      <td>2</td>\n",
       "      <td>505</td>\n",
       "      <td>True</td>\n",
       "      <td>1.0</td>\n",
       "      <td>0</td>\n",
       "      <td>True</td>\n",
       "      <td>False</td>\n",
       "      <td>2</td>\n",
       "      <td>-1.295898</td>\n",
       "      <td>64.687500</td>\n",
       "      <td>42.0</td>\n",
       "      <td>...</td>\n",
       "      <td>0.006180</td>\n",
       "      <td>1.581055</td>\n",
       "      <td>0.101182</td>\n",
       "      <td>True</td>\n",
       "      <td>324.954213</td>\n",
       "      <td>212.194452</td>\n",
       "      <td>88.756172</td>\n",
       "      <td>81.510747</td>\n",
       "      <td>61.287820</td>\n",
       "      <td>39.509616</td>\n",
       "    </tr>\n",
       "    <tr>\n",
       "      <td>3</td>\n",
       "      <td>506</td>\n",
       "      <td>True</td>\n",
       "      <td>1.0</td>\n",
       "      <td>0</td>\n",
       "      <td>True</td>\n",
       "      <td>False</td>\n",
       "      <td>2</td>\n",
       "      <td>-0.474365</td>\n",
       "      <td>87.000000</td>\n",
       "      <td>29.0</td>\n",
       "      <td>...</td>\n",
       "      <td>0.000734</td>\n",
       "      <td>0.540527</td>\n",
       "      <td>0.000000</td>\n",
       "      <td>True</td>\n",
       "      <td>485.168165</td>\n",
       "      <td>485.085465</td>\n",
       "      <td>90.716882</td>\n",
       "      <td>55.521427</td>\n",
       "      <td>88.122441</td>\n",
       "      <td>80.697789</td>\n",
       "    </tr>\n",
       "    <tr>\n",
       "      <td>4</td>\n",
       "      <td>509</td>\n",
       "      <td>True</td>\n",
       "      <td>1.0</td>\n",
       "      <td>0</td>\n",
       "      <td>True</td>\n",
       "      <td>False</td>\n",
       "      <td>2</td>\n",
       "      <td>1.686523</td>\n",
       "      <td>77.562500</td>\n",
       "      <td>26.0</td>\n",
       "      <td>...</td>\n",
       "      <td>0.004650</td>\n",
       "      <td>1.261719</td>\n",
       "      <td>0.000000</td>\n",
       "      <td>True</td>\n",
       "      <td>294.926013</td>\n",
       "      <td>229.174682</td>\n",
       "      <td>250.270564</td>\n",
       "      <td>89.220929</td>\n",
       "      <td>80.797395</td>\n",
       "      <td>80.862403</td>\n",
       "    </tr>\n",
       "    <tr>\n",
       "      <td>...</td>\n",
       "      <td>...</td>\n",
       "      <td>...</td>\n",
       "      <td>...</td>\n",
       "      <td>...</td>\n",
       "      <td>...</td>\n",
       "      <td>...</td>\n",
       "      <td>...</td>\n",
       "      <td>...</td>\n",
       "      <td>...</td>\n",
       "      <td>...</td>\n",
       "      <td>...</td>\n",
       "      <td>...</td>\n",
       "      <td>...</td>\n",
       "      <td>...</td>\n",
       "      <td>...</td>\n",
       "      <td>...</td>\n",
       "      <td>...</td>\n",
       "      <td>...</td>\n",
       "      <td>...</td>\n",
       "      <td>...</td>\n",
       "      <td>...</td>\n",
       "    </tr>\n",
       "    <tr>\n",
       "      <td>776026</td>\n",
       "      <td>1561484</td>\n",
       "      <td>True</td>\n",
       "      <td>1.0</td>\n",
       "      <td>0</td>\n",
       "      <td>True</td>\n",
       "      <td>False</td>\n",
       "      <td>3123</td>\n",
       "      <td>-0.308105</td>\n",
       "      <td>90.187500</td>\n",
       "      <td>28.0</td>\n",
       "      <td>...</td>\n",
       "      <td>0.002522</td>\n",
       "      <td>1.143555</td>\n",
       "      <td>0.027120</td>\n",
       "      <td>True</td>\n",
       "      <td>257.916769</td>\n",
       "      <td>197.636105</td>\n",
       "      <td>185.584127</td>\n",
       "      <td>91.244896</td>\n",
       "      <td>236.715948</td>\n",
       "      <td>166.844858</td>\n",
       "    </tr>\n",
       "    <tr>\n",
       "      <td>776027</td>\n",
       "      <td>1561490</td>\n",
       "      <td>True</td>\n",
       "      <td>1.0</td>\n",
       "      <td>0</td>\n",
       "      <td>True</td>\n",
       "      <td>False</td>\n",
       "      <td>3123</td>\n",
       "      <td>-2.962891</td>\n",
       "      <td>198.125000</td>\n",
       "      <td>31.0</td>\n",
       "      <td>...</td>\n",
       "      <td>0.006710</td>\n",
       "      <td>1.272461</td>\n",
       "      <td>0.000000</td>\n",
       "      <td>True</td>\n",
       "      <td>327.107632</td>\n",
       "      <td>289.383912</td>\n",
       "      <td>30.162529</td>\n",
       "      <td>118.092972</td>\n",
       "      <td>90.331441</td>\n",
       "      <td>89.411150</td>\n",
       "    </tr>\n",
       "    <tr>\n",
       "      <td>776028</td>\n",
       "      <td>1561485</td>\n",
       "      <td>True</td>\n",
       "      <td>1.0</td>\n",
       "      <td>0</td>\n",
       "      <td>True</td>\n",
       "      <td>False</td>\n",
       "      <td>3123</td>\n",
       "      <td>-0.555176</td>\n",
       "      <td>6.265625</td>\n",
       "      <td>42.0</td>\n",
       "      <td>...</td>\n",
       "      <td>0.000274</td>\n",
       "      <td>0.229614</td>\n",
       "      <td>0.000000</td>\n",
       "      <td>True</td>\n",
       "      <td>203.640905</td>\n",
       "      <td>126.851868</td>\n",
       "      <td>95.132182</td>\n",
       "      <td>100.397624</td>\n",
       "      <td>69.520810</td>\n",
       "      <td>89.670707</td>\n",
       "    </tr>\n",
       "    <tr>\n",
       "      <td>776029</td>\n",
       "      <td>1561481</td>\n",
       "      <td>True</td>\n",
       "      <td>1.0</td>\n",
       "      <td>0</td>\n",
       "      <td>True</td>\n",
       "      <td>False</td>\n",
       "      <td>3123</td>\n",
       "      <td>-0.408203</td>\n",
       "      <td>85.250000</td>\n",
       "      <td>59.0</td>\n",
       "      <td>...</td>\n",
       "      <td>0.001357</td>\n",
       "      <td>0.981445</td>\n",
       "      <td>0.000000</td>\n",
       "      <td>True</td>\n",
       "      <td>81.748331</td>\n",
       "      <td>84.613287</td>\n",
       "      <td>65.386663</td>\n",
       "      <td>34.576776</td>\n",
       "      <td>52.841185</td>\n",
       "      <td>27.135409</td>\n",
       "    </tr>\n",
       "    <tr>\n",
       "      <td>776030</td>\n",
       "      <td>1561500</td>\n",
       "      <td>True</td>\n",
       "      <td>1.0</td>\n",
       "      <td>0</td>\n",
       "      <td>True</td>\n",
       "      <td>False</td>\n",
       "      <td>3123</td>\n",
       "      <td>-1.621094</td>\n",
       "      <td>59.500000</td>\n",
       "      <td>27.0</td>\n",
       "      <td>...</td>\n",
       "      <td>0.000781</td>\n",
       "      <td>0.719727</td>\n",
       "      <td>0.000000</td>\n",
       "      <td>True</td>\n",
       "      <td>71.132772</td>\n",
       "      <td>149.865843</td>\n",
       "      <td>30.354784</td>\n",
       "      <td>89.501396</td>\n",
       "      <td>47.326800</td>\n",
       "      <td>98.647023</td>\n",
       "    </tr>\n",
       "  </tbody>\n",
       "</table>\n",
       "<p>776031 rows × 60 columns</p>\n",
       "</div>"
      ],
      "text/plain": [
       "            evt  evt_passgoodrunlist  evt_scale1fb  firstgoodvertex  hasTau  \\\n",
       "0           503                 True           1.0                0    True   \n",
       "1           502                 True           1.0                0    True   \n",
       "2           505                 True           1.0                0    True   \n",
       "3           506                 True           1.0                0    True   \n",
       "4           509                 True           1.0                0    True   \n",
       "...         ...                  ...           ...              ...     ...   \n",
       "776026  1561484                 True           1.0                0    True   \n",
       "776027  1561490                 True           1.0                0    True   \n",
       "776028  1561485                 True           1.0                0    True   \n",
       "776029  1561481                 True           1.0                0    True   \n",
       "776030  1561500                 True           1.0                0    True   \n",
       "\n",
       "        isData  lumi  met_gen_phi  met_gen_pt  nTrueInt  ...  \\\n",
       "0        False     2     0.957520   37.437500      25.0  ...   \n",
       "1        False     2    -0.895020   31.546875      31.0  ...   \n",
       "2        False     2    -1.295898   64.687500      42.0  ...   \n",
       "3        False     2    -0.474365   87.000000      29.0  ...   \n",
       "4        False     2     1.686523   77.562500      26.0  ...   \n",
       "...        ...   ...          ...         ...       ...  ...   \n",
       "776026   False  3123    -0.308105   90.187500      28.0  ...   \n",
       "776027   False  3123    -2.962891  198.125000      31.0  ...   \n",
       "776028   False  3123    -0.555176    6.265625      42.0  ...   \n",
       "776029   False  3123    -0.408203   85.250000      59.0  ...   \n",
       "776030   False  3123    -1.621094   59.500000      27.0  ...   \n",
       "\n",
       "        VetoLepton_ip3d_3  VetoLepton_sip3d_3  \\\n",
       "0                0.000822            0.472656   \n",
       "1                0.005295            1.458008   \n",
       "2                0.006180            1.581055   \n",
       "3                0.000734            0.540527   \n",
       "4                0.004650            1.261719   \n",
       "...                   ...                 ...   \n",
       "776026           0.002522            1.143555   \n",
       "776027           0.006710            1.272461   \n",
       "776028           0.000274            0.229614   \n",
       "776029           0.001357            0.981445   \n",
       "776030           0.000781            0.719727   \n",
       "\n",
       "        VetoLepton_pfRelIso03_all_wLep_3  VetoLepton_mediumId_3  \\\n",
       "0                               0.000000                   True   \n",
       "1                               0.000000                   True   \n",
       "2                               0.101182                   True   \n",
       "3                               0.000000                   True   \n",
       "4                               0.000000                   True   \n",
       "...                                  ...                    ...   \n",
       "776026                          0.027120                   True   \n",
       "776027                          0.000000                   True   \n",
       "776028                          0.000000                   True   \n",
       "776029                          0.000000                   True   \n",
       "776030                          0.000000                   True   \n",
       "\n",
       "        VetoLeptonPair_mass_01  VetoLeptonPair_mass_02  \\\n",
       "0                   143.697401               62.438066   \n",
       "1                   151.404266               40.771396   \n",
       "2                   324.954213              212.194452   \n",
       "3                   485.168165              485.085465   \n",
       "4                   294.926013              229.174682   \n",
       "...                        ...                     ...   \n",
       "776026              257.916769              197.636105   \n",
       "776027              327.107632              289.383912   \n",
       "776028              203.640905              126.851868   \n",
       "776029               81.748331               84.613287   \n",
       "776030               71.132772              149.865843   \n",
       "\n",
       "        VetoLeptonPair_mass_03  VetoLeptonPair_mass_12  \\\n",
       "0                    90.464584               93.477148   \n",
       "1                    93.403486               23.751724   \n",
       "2                    88.756172               81.510747   \n",
       "3                    90.716882               55.521427   \n",
       "4                   250.270564               89.220929   \n",
       "...                        ...                     ...   \n",
       "776026              185.584127               91.244896   \n",
       "776027               30.162529              118.092972   \n",
       "776028               95.132182              100.397624   \n",
       "776029               65.386663               34.576776   \n",
       "776030               30.354784               89.501396   \n",
       "\n",
       "        VetoLeptonPair_mass_13  VetoLeptonPair_mass_23  \n",
       "0                    37.733923               67.137042  \n",
       "1                    55.727576               29.217539  \n",
       "2                    61.287820               39.509616  \n",
       "3                    88.122441               80.697789  \n",
       "4                    80.797395               80.862403  \n",
       "...                        ...                     ...  \n",
       "776026              236.715948              166.844858  \n",
       "776027               90.331441               89.411150  \n",
       "776028               69.520810               89.670707  \n",
       "776029               52.841185               27.135409  \n",
       "776030               47.326800               98.647023  \n",
       "\n",
       "[776031 rows x 60 columns]"
      ]
     },
     "execution_count": 25,
     "metadata": {},
     "output_type": "execute_result"
    }
   ],
   "source": [
    "df_full"
   ]
  },
  {
   "cell_type": "code",
   "execution_count": 26,
   "metadata": {},
   "outputs": [],
   "source": [
    "def passes_Z_id(df):\n",
    "    df_out = pd.DataFrame()\n",
    "    for i in range(4):\n",
    "        base_selection = df[f\"VetoLepton_ip3d_{i}\"].abs() / df[f\"VetoLepton_sip3d_{i}\"] < 4\n",
    "        \n",
    "        is_ele = df[f\"VetoLepton_pdgId_{i}\"].abs() == 11\n",
    "        is_mu = df[f\"VetoLepton_pdgId_{i}\"].abs() == 13\n",
    "        \n",
    "        electron_selection = df[f\"VetoLepton_pfRelIso03_all_wLep_{i}\"] < 0.2\n",
    "        \n",
    "        muon_selection = df[f\"VetoLepton_mediumId_{i}\"] & df[f\"VetoLepton_pfRelIso03_all_wLep_{i}\"] < 0.25\n",
    "        \n",
    "        selection = base_selection & ((is_ele & electron_selection) | (is_mu & muon_selection))\n",
    "        \n",
    "        df_out[f\"VetoLepton_passesZid_{i}\"] = selection\n",
    "    return df_out"
   ]
  },
  {
   "cell_type": "code",
   "execution_count": 27,
   "metadata": {},
   "outputs": [],
   "source": [
    "def passes_W_id(df):\n",
    "    df_out = pd.DataFrame()\n",
    "    for i in range(4):\n",
    "        base_selection = df[f\"VetoLepton_ip3d_{i}\"].abs() / df[f\"VetoLepton_sip3d_{i}\"] < 4\n",
    "        \n",
    "        is_ele = df[f\"VetoLepton_pdgId_{i}\"].abs() == 11\n",
    "        is_mu = df[f\"VetoLepton_pdgId_{i}\"].abs() == 13\n",
    "        \n",
    "        electron_selection = df[f\"VetoLepton_mediumId_{i}\"] & df[f\"VetoLepton_pfRelIso03_all_wLep_{i}\"] < 0.2\n",
    "        \n",
    "        muon_selection = df[f\"VetoLepton_mediumId_{i}\"] & df[f\"VetoLepton_pfRelIso03_all_wLep_{i}\"] < 0.15\n",
    "        \n",
    "        selection = base_selection & ((is_ele & electron_selection) | (is_mu & muon_selection))\n",
    "        \n",
    "        df_out[f\"VetoLepton_passesWid_{i}\"] = selection\n",
    "    return df_out"
   ]
  },
  {
   "cell_type": "code",
   "execution_count": null,
   "metadata": {},
   "outputs": [],
   "source": []
  },
  {
   "cell_type": "code",
   "execution_count": null,
   "metadata": {},
   "outputs": [],
   "source": []
  },
  {
   "cell_type": "code",
   "execution_count": null,
   "metadata": {},
   "outputs": [],
   "source": []
  },
  {
   "cell_type": "code",
   "execution_count": 28,
   "metadata": {},
   "outputs": [],
   "source": [
    "def jagged_pair_masses(df):\n",
    "    import awkward\n",
    "    content = df[[\"VetoLeptonPair_mass_01\", \"VetoLeptonPair_mass_02\", \"VetoLeptonPair_mass_03\", \n",
    "               \"VetoLeptonPair_mass_12\", \"VetoLeptonPair_mass_13\", \"VetoLeptonPair_mass_23\"]].values.flatten()\n",
    "    \n",
    "    return awkward.JaggedArray.fromcounts(6 + np.zeros(len(df), dtype=np.int), content)"
   ]
  },
  {
   "cell_type": "code",
   "execution_count": 29,
   "metadata": {},
   "outputs": [],
   "source": [
    "def jagged_lepton_variable(df, variable):\n",
    "    import awkward\n",
    "    content = df[[f\"VetoLepton_{variable}_0\",\n",
    "                 f\"VetoLepton_{variable}_1\",\n",
    "                 f\"VetoLepton_{variable}_2\",\n",
    "                 f\"VetoLepton_{variable}_3\"]].values.flatten()\n",
    "    \n",
    "    return awkward.JaggedArray.fromcounts(4 + np.zeros(len(df), dtype=np.int), content)"
   ]
  },
  {
   "cell_type": "code",
   "execution_count": 30,
   "metadata": {},
   "outputs": [
    {
     "data": {
      "text/plain": [
       "<JaggedArray [[139.17367553710938 99.70079803466797 78.56649780273438 22.383941650390625] [342.103271484375 128.05360412597656 36.159324645996094 10.100736618041992] [189.14801025390625 70.32777404785156 31.609167098999023 10.948343276977539] ... [99.73120880126953 78.73763275146484 52.699317932128906 37.645652770996094] [77.63190460205078 31.449344635009766 23.090087890625 14.866924285888672] [56.65717697143555 42.4954719543457 39.98412322998047 38.79512405395508]] at 0x7f4e9484bc88>"
      ]
     },
     "execution_count": 30,
     "metadata": {},
     "output_type": "execute_result"
    }
   ],
   "source": [
    "jagged_lepton_variable(df_full, \"pt\")"
   ]
  },
  {
   "cell_type": "code",
   "execution_count": 31,
   "metadata": {},
   "outputs": [],
   "source": [
    "def to_singleton_jagged_array(arr):\n",
    "    import awkward\n",
    "    return awkward.JaggedArray.fromcounts(np.ones(len(arr), dtype=np.int), arr)"
   ]
  },
  {
   "cell_type": "code",
   "execution_count": 32,
   "metadata": {},
   "outputs": [],
   "source": [
    "def find_boson_candidate_indices(df):\n",
    "    z_mass = 91.19\n",
    "\n",
    "    def find_z_candidates(df):\n",
    "\n",
    "        df_out = pd.DataFrame()\n",
    "\n",
    "        for i in range(4):\n",
    "            for j in range(4):\n",
    "                if j <= i:\n",
    "                    continue\n",
    "                mass = df[f\"VetoLeptonPair_mass_{i}{j}\"].copy().values\n",
    "                mass[df[f\"VetoLepton_pdgId_{i}\"] + df[f\"VetoLepton_pdgId_{j}\"] != 0] = np.nan\n",
    "                mass[~df[f\"VetoLepton_passesZid_{i}\"]] = np.nan\n",
    "                mass[~df[f\"VetoLepton_passesZid_{j}\"]] = np.nan\n",
    "\n",
    "                pt_i = df[f\"VetoLepton_pt_{i}\"]\n",
    "                pt_j = df[f\"VetoLepton_pt_{j}\"]\n",
    "                mass[np.max([pt_i, pt_j], axis=0) < 25] = np.nan\n",
    "                mass[np.min([pt_i, pt_j], axis=0) < 10] = np.nan\n",
    "\n",
    "                df_out[f\"VetoLeptonPair_z_cand_mass_{i}{j}\"] = mass\n",
    "\n",
    "        return df_out\n",
    "\n",
    "    z_df = find_z_candidates(df)\n",
    "\n",
    "    def z_idx_to_lep_idx(z_idx):\n",
    "        lep_1_idx = 0 + (z_idx > 2)\n",
    "        lep_2_idx = z_idx + 1\n",
    "\n",
    "        lep_1_idx = lep_1_idx + (z_idx > 4)\n",
    "\n",
    "        lep_2_idx[z_idx == 2] = 3\n",
    "        lep_2_idx[z_idx == 3] = 2\n",
    "        lep_2_idx[z_idx == 4] = 3\n",
    "        lep_2_idx[z_idx == 5] = 3\n",
    "        \n",
    "        lep_1_idx[z_idx < 0] = -99\n",
    "        lep_2_idx[z_idx < 0] = -99\n",
    "\n",
    "        return lep_1_idx, lep_2_idx\n",
    "\n",
    "    has_z_cand = ~(np.sum(~np.isnan(z_df.values), axis=1) == 0)\n",
    "\n",
    "    in_z_window = has_z_cand[:]\n",
    "    in_z_window[has_z_cand] = np.nanmin(np.abs(z_df[has_z_cand].values - z_mass), axis=1) < 10.0\n",
    "    z_idx = np.nanargmin(np.abs(z_df[in_z_window].values - z_mass), axis=1)\n",
    "\n",
    "    w_lep_1_idx = np.zeros(len(df), dtype=np.int) - 99\n",
    "    w_lep_2_idx = np.zeros(len(df), dtype=np.int) - 99\n",
    "\n",
    "    z_lep_1_idx = np.zeros(len(df), dtype=np.int) - 99\n",
    "    z_lep_2_idx = np.zeros(len(df), dtype=np.int) - 99\n",
    "\n",
    "    a, b = z_idx_to_lep_idx(z_idx)\n",
    "    z_lep_1_idx[in_z_window] = a\n",
    "    z_lep_2_idx[in_z_window] = b\n",
    "\n",
    "    w_lep_1_idx[np.logical_and(z_lep_1_idx == 0, z_lep_2_idx == 1)] = 2\n",
    "    w_lep_1_idx[np.logical_and(z_lep_1_idx == 0, z_lep_2_idx == 2)] = 1\n",
    "    w_lep_1_idx[np.logical_and(z_lep_1_idx == 0, z_lep_2_idx == 3)] = 1\n",
    "    w_lep_1_idx[np.logical_and(z_lep_1_idx == 1, z_lep_2_idx == 2)] = 0\n",
    "    w_lep_1_idx[np.logical_and(z_lep_1_idx == 1, z_lep_2_idx == 3)] = 0\n",
    "    w_lep_1_idx[np.logical_and(z_lep_1_idx == 2, z_lep_2_idx == 3)] = 0\n",
    "\n",
    "    w_lep_2_idx[np.logical_and(z_lep_1_idx == 0, z_lep_2_idx == 1)] = 3\n",
    "    w_lep_2_idx[np.logical_and(z_lep_1_idx == 0, z_lep_2_idx == 2)] = 3\n",
    "    w_lep_2_idx[np.logical_and(z_lep_1_idx == 0, z_lep_2_idx == 3)] = 2\n",
    "    w_lep_2_idx[np.logical_and(z_lep_1_idx == 1, z_lep_2_idx == 2)] = 3\n",
    "    w_lep_2_idx[np.logical_and(z_lep_1_idx == 1, z_lep_2_idx == 3)] = 2\n",
    "    w_lep_2_idx[np.logical_and(z_lep_1_idx == 2, z_lep_2_idx == 3)] = 1\n",
    "    \n",
    "    # Don't consider W-leptons if they don' pass the ID\n",
    "    passes_w_id = jagged_lepton_variable(df, \"passesWid\")[in_z_window]\n",
    "    jagged_w_lep_1_idx_in_z_window = to_singleton_jagged_array(w_lep_1_idx[in_z_window])\n",
    "    jagged_w_lep_2_idx_in_z_window = to_singleton_jagged_array(w_lep_2_idx[in_z_window])\n",
    "    passes = np.logical_and(passes_w_id[jagged_w_lep_1_idx_in_z_window],\n",
    "                            passes_w_id[jagged_w_lep_2_idx_in_z_window]).flatten()\n",
    "    passes_all = np.array(in_z_window)\n",
    "    passes_all[in_z_window] = passes\n",
    "    w_lep_1_idx[~passes_all] = -99\n",
    "    w_lep_2_idx[~passes_all] = -99\n",
    "    \n",
    "    # Don't consider W-leptons if they are not opposite charge\n",
    "    w_lep_charge = np.sign(jagged_lepton_variable(df, \"pdgId\"))[in_z_window]\n",
    "    w_charge_1 = w_lep_charge[jagged_w_lep_1_idx_in_z_window].flatten()\n",
    "    w_charge_2 = w_lep_charge[jagged_w_lep_2_idx_in_z_window].flatten()\n",
    "    passes = w_charge_1 + w_charge_2 == 0\n",
    "    passes_all = np.array(in_z_window)\n",
    "    passes_all[in_z_window] = passes\n",
    "    w_lep_1_idx[~passes_all] = -99\n",
    "    w_lep_2_idx[~passes_all] = -99\n",
    "    \n",
    "    # W candidate pt cuts\n",
    "    w_cand_pt = jagged_lepton_variable(df, \"pt\")[in_z_window]\n",
    "    w_pt_1 = w_cand_pt[jagged_w_lep_1_idx_in_z_window].flatten()\n",
    "    w_pt_2 = w_cand_pt[jagged_w_lep_2_idx_in_z_window].flatten()\n",
    "    passes = np.logical_and(np.max([w_pt_1, w_pt_2], axis=0) > 25,\n",
    "                            np.min([w_pt_1, w_pt_2], axis=0) > 10)\n",
    "\n",
    "    passes_all = np.array(in_z_window)\n",
    "    passes_all[in_z_window] = passes\n",
    "    w_lep_1_idx[~passes_all] = -99\n",
    "    w_lep_2_idx[~passes_all] = -99\n",
    "\n",
    "    return pd.DataFrame(dict(z_lep_1_idx=z_lep_1_idx, z_lep_2_idx=z_lep_2_idx,\n",
    "                             w_lep_1_idx=w_lep_1_idx, w_lep_2_idx=w_lep_2_idx))"
   ]
  },
  {
   "cell_type": "code",
   "execution_count": null,
   "metadata": {},
   "outputs": [],
   "source": []
  },
  {
   "cell_type": "code",
   "execution_count": 35,
   "metadata": {},
   "outputs": [],
   "source": [
    "def lep_idx_to_z_idx(z_lep_1_idx, z_lep_2_idx):\n",
    "    z_idx = np.zeros(len(z_lep_1_idx), dtype=np.int) - 99\n",
    "    \n",
    "    z_idx[np.logical_and(z_lep_1_idx == 0, z_lep_2_idx == 1)] = 0\n",
    "    z_idx[np.logical_and(z_lep_1_idx == 0, z_lep_2_idx == 2)] = 1\n",
    "    z_idx[np.logical_and(z_lep_1_idx == 0, z_lep_2_idx == 3)] = 2\n",
    "    z_idx[np.logical_and(z_lep_1_idx == 1, z_lep_2_idx == 2)] = 3\n",
    "    z_idx[np.logical_and(z_lep_1_idx == 1, z_lep_2_idx == 3)] = 4\n",
    "    z_idx[np.logical_and(z_lep_1_idx == 2, z_lep_2_idx == 3)] = 5\n",
    "    \n",
    "    return z_idx"
   ]
  },
  {
   "cell_type": "code",
   "execution_count": null,
   "metadata": {},
   "outputs": [],
   "source": []
  },
  {
   "cell_type": "code",
   "execution_count": 36,
   "metadata": {},
   "outputs": [],
   "source": [
    "def get_z_cand_masses(df):\n",
    "    has_z_cand_1 = df[\"z_lep_1_idx\"] >= 0\n",
    "    has_z_cand_2 = df[\"w_lep_1_idx\"] >= 0\n",
    "    \n",
    "    z_lep_1_idx = df[\"z_lep_1_idx\"][has_z_cand_1].values\n",
    "    z_lep_2_idx = df[\"z_lep_2_idx\"][has_z_cand_1].values\n",
    "    w_lep_1_idx = df[\"w_lep_1_idx\"][has_z_cand_2].values\n",
    "    w_lep_2_idx = df[\"w_lep_2_idx\"][has_z_cand_2].values\n",
    "    \n",
    "    pair_masses = jagged_pair_masses(df)\n",
    "    \n",
    "    z_cand_1_mass = pair_masses[has_z_cand_1][to_singleton_jagged_array(lep_idx_to_z_idx(z_lep_1_idx, z_lep_2_idx))]\n",
    "    z_cand_2_mass = pair_masses[has_z_cand_2][to_singleton_jagged_array(lep_idx_to_z_idx(w_lep_1_idx, w_lep_2_idx))]\n",
    "    \n",
    "    lep_pdg_id = jagged_lepton_variable(df, \"pdgId\")[has_z_cand_2]\n",
    "    w_pdg_1 = lep_pdg_id[to_singleton_jagged_array(w_lep_1_idx)]\n",
    "    w_pdg_2 = lep_pdg_id[to_singleton_jagged_array(w_lep_2_idx)]\n",
    "    \n",
    "    z_cand_2_mass[w_pdg_1 + w_pdg_2 != 0] = np.nan\n",
    "\n",
    "    df_out = pd.DataFrame(index=df.index)\n",
    "    df_out.loc[has_z_cand_1, \"ZCand_mass_0\"] = z_cand_1_mass\n",
    "    df_out.loc[has_z_cand_2, \"ZCand_mass_1\"] = z_cand_2_mass\n",
    "    return df_out"
   ]
  },
  {
   "cell_type": "code",
   "execution_count": 37,
   "metadata": {},
   "outputs": [
    {
     "data": {
      "text/plain": [
       "474.14383"
      ]
     },
     "execution_count": 37,
     "metadata": {},
     "output_type": "execute_result"
    }
   ],
   "source": []
  },
  {
   "cell_type": "code",
   "execution_count": 38,
   "metadata": {},
   "outputs": [],
   "source": [
    "def is_emu_category(df):\n",
    "    selection = np.sum(df[[\"z_lep_1_idx\", \"z_lep_2_idx\", \"w_lep_1_idx\", \"w_lep_2_idx\"]].values, axis=1) == 6\n",
    "    selection = np.logical_and(selection, df[\"ZCand_mass_1\"].isna())\n",
    "    return np.logical_and(selection, df[\"nb\"] == 0)"
   ]
  },
  {
   "cell_type": "code",
   "execution_count": 39,
   "metadata": {},
   "outputs": [],
   "source": [
    "def is_btag_emu_category(df):\n",
    "    selection = np.sum(df[[\"z_lep_1_idx\", \"z_lep_2_idx\", \"w_lep_1_idx\", \"w_lep_2_idx\"]].values, axis=1) == 6\n",
    "    selection = np.logical_and(selection, df[\"ZCand_mass_1\"].isna())\n",
    "    return np.logical_and(selection, df[\"nb\"] > 0)"
   ]
  },
  {
   "cell_type": "code",
   "execution_count": 40,
   "metadata": {},
   "outputs": [],
   "source": [
    "def is_offz_category(df):\n",
    "    selection = np.sum(df[[\"z_lep_1_idx\", \"z_lep_2_idx\", \"w_lep_1_idx\", \"w_lep_2_idx\"]].values, axis=1) == 6\n",
    "    selection = np.logical_and(selection, (df[\"ZCand_mass_1\"] - 91.19).abs() > 10.)\n",
    "    return selection"
   ]
  },
  {
   "cell_type": "code",
   "execution_count": 41,
   "metadata": {},
   "outputs": [],
   "source": [
    "def is_onz_category(df):\n",
    "    selection = np.sum(df[[\"z_lep_1_idx\", \"z_lep_2_idx\", \"w_lep_1_idx\", \"w_lep_2_idx\"]].values, axis=1) == 6\n",
    "    selection = np.logical_and(selection, (df[\"ZCand_mass_1\"] - 91.19).abs() <= 10.)\n",
    "    return selection"
   ]
  },
  {
   "cell_type": "code",
   "execution_count": null,
   "metadata": {},
   "outputs": [],
   "source": [
    "def four_lepton_analysis(df):\n",
    "    df = df_full[:].copy()\n",
    "    df = pd.concat([df, passes_Z_id(df), passes_W_id(df)], axis=1)\n",
    "    df_cands_idx = find_boson_candidate_indices(df)\n",
    "    df = pd.concat([df, df_cands_idx], axis=1)\n",
    "    df_z_cand_masses = get_z_cand_masses(df)\n",
    "    df = pd.concat([df, df_z_cand_masses], axis=1)\n",
    "    df.loc[is_btag_emu_category(df), \"category\"] = \"BTagEMu\"\n",
    "    df[\"category\"] = \"uncategorized\"\n",
    "    df.loc[is_emu_category(df), \"category\"] = \"EMu\"\n",
    "    df.loc[is_offz_category(df), \"category\"] = \"OffZ\"\n",
    "    df.loc[is_onz_category(df), \"category\"] = \"OnZ\"\n",
    "    return df"
   ]
  },
  {
   "cell_type": "code",
   "execution_count": 55,
   "metadata": {},
   "outputs": [
    {
     "data": {
      "text/plain": [
       "474.14383"
      ]
     },
     "execution_count": 55,
     "metadata": {},
     "output_type": "execute_result"
    }
   ],
   "source": [
    "\n",
    "pre_skim_sumw = 1181.90185546875\n",
    "df[\"genWeight\"].sum()"
   ]
  },
  {
   "cell_type": "code",
   "execution_count": 56,
   "metadata": {},
   "outputs": [
    {
     "data": {
      "text/plain": [
       "776031"
      ]
     },
     "execution_count": 56,
     "metadata": {},
     "output_type": "execute_result"
    }
   ],
   "source": [
    "len(df)"
   ]
  },
  {
   "cell_type": "code",
   "execution_count": 57,
   "metadata": {},
   "outputs": [
    {
     "data": {
      "text/plain": [
       "category\n",
       "EMu               12.997242\n",
       "OffZ              13.585909\n",
       "OnZ                1.748573\n",
       "uncategorized    231.161224\n",
       "Name: genWeight, dtype: float32"
      ]
     },
     "execution_count": 57,
     "metadata": {},
     "output_type": "execute_result"
    }
   ],
   "source": [
    "df.groupby(\"category\")[\"genWeight\"].sum() / 1181.90185546875 * 157 * 4.12"
   ]
  },
  {
   "cell_type": "code",
   "execution_count": 42,
   "metadata": {},
   "outputs": [
    {
     "data": {
      "text/plain": [
       "2.141395145347839"
      ]
     },
     "execution_count": 42,
     "metadata": {},
     "output_type": "execute_result"
    }
   ],
   "source": [
    "df[\"genWeight\"][is_btag_emu_category(df)].sum() / 1181.90185546875 * 157 * 4.12"
   ]
  },
  {
   "cell_type": "code",
   "execution_count": 43,
   "metadata": {},
   "outputs": [
    {
     "data": {
      "text/plain": [
       "12.99724182947933"
      ]
     },
     "execution_count": 43,
     "metadata": {},
     "output_type": "execute_result"
    }
   ],
   "source": [
    "df[\"genWeight\"][is_emu_category(df)].sum() / 1181.90185546875 * 157 * 4.12"
   ]
  },
  {
   "cell_type": "code",
   "execution_count": 44,
   "metadata": {},
   "outputs": [
    {
     "data": {
      "text/plain": [
       "13.585908157894329"
      ]
     },
     "execution_count": 44,
     "metadata": {},
     "output_type": "execute_result"
    }
   ],
   "source": [
    "df[\"genWeight\"][is_offz_category(df)].sum() / 1181.90185546875 * 157 * 4.12"
   ]
  },
  {
   "cell_type": "code",
   "execution_count": 45,
   "metadata": {},
   "outputs": [
    {
     "data": {
      "text/plain": [
       "1.7485723938128606"
      ]
     },
     "execution_count": 45,
     "metadata": {},
     "output_type": "execute_result"
    }
   ],
   "source": [
    "df[\"genWeight\"][is_onz_category(df)].sum() / 1181.90185546875 * 157 * 4.12"
   ]
  },
  {
   "cell_type": "code",
   "execution_count": 46,
   "metadata": {},
   "outputs": [
    {
     "data": {
      "text/html": [
       "<div>\n",
       "<style scoped>\n",
       "    .dataframe tbody tr th:only-of-type {\n",
       "        vertical-align: middle;\n",
       "    }\n",
       "\n",
       "    .dataframe tbody tr th {\n",
       "        vertical-align: top;\n",
       "    }\n",
       "\n",
       "    .dataframe thead th {\n",
       "        text-align: right;\n",
       "    }\n",
       "</style>\n",
       "<table border=\"1\" class=\"dataframe\">\n",
       "  <thead>\n",
       "    <tr style=\"text-align: right;\">\n",
       "      <th></th>\n",
       "      <th>ZCand_mass_0</th>\n",
       "      <th>ZCand_mass_1</th>\n",
       "    </tr>\n",
       "  </thead>\n",
       "  <tbody>\n",
       "    <tr>\n",
       "      <td>0</td>\n",
       "      <td>90.464584</td>\n",
       "      <td>93.477148</td>\n",
       "    </tr>\n",
       "    <tr>\n",
       "      <td>1</td>\n",
       "      <td>NaN</td>\n",
       "      <td>NaN</td>\n",
       "    </tr>\n",
       "    <tr>\n",
       "      <td>2</td>\n",
       "      <td>88.756172</td>\n",
       "      <td>NaN</td>\n",
       "    </tr>\n",
       "    <tr>\n",
       "      <td>3</td>\n",
       "      <td>90.716882</td>\n",
       "      <td>NaN</td>\n",
       "    </tr>\n",
       "    <tr>\n",
       "      <td>4</td>\n",
       "      <td>NaN</td>\n",
       "      <td>NaN</td>\n",
       "    </tr>\n",
       "    <tr>\n",
       "      <td>...</td>\n",
       "      <td>...</td>\n",
       "      <td>...</td>\n",
       "    </tr>\n",
       "    <tr>\n",
       "      <td>776026</td>\n",
       "      <td>NaN</td>\n",
       "      <td>NaN</td>\n",
       "    </tr>\n",
       "    <tr>\n",
       "      <td>776027</td>\n",
       "      <td>89.411150</td>\n",
       "      <td>NaN</td>\n",
       "    </tr>\n",
       "    <tr>\n",
       "      <td>776028</td>\n",
       "      <td>NaN</td>\n",
       "      <td>NaN</td>\n",
       "    </tr>\n",
       "    <tr>\n",
       "      <td>776029</td>\n",
       "      <td>NaN</td>\n",
       "      <td>NaN</td>\n",
       "    </tr>\n",
       "    <tr>\n",
       "      <td>776030</td>\n",
       "      <td>89.501396</td>\n",
       "      <td>NaN</td>\n",
       "    </tr>\n",
       "  </tbody>\n",
       "</table>\n",
       "<p>776031 rows × 2 columns</p>\n",
       "</div>"
      ],
      "text/plain": [
       "        ZCand_mass_0  ZCand_mass_1\n",
       "0          90.464584     93.477148\n",
       "1                NaN           NaN\n",
       "2          88.756172           NaN\n",
       "3          90.716882           NaN\n",
       "4                NaN           NaN\n",
       "...              ...           ...\n",
       "776026           NaN           NaN\n",
       "776027     89.411150           NaN\n",
       "776028           NaN           NaN\n",
       "776029           NaN           NaN\n",
       "776030     89.501396           NaN\n",
       "\n",
       "[776031 rows x 2 columns]"
      ]
     },
     "execution_count": 46,
     "metadata": {},
     "output_type": "execute_result"
    }
   ],
   "source": [
    "df_z_cand_masses"
   ]
  },
  {
   "cell_type": "code",
   "execution_count": 47,
   "metadata": {},
   "outputs": [],
   "source": [
    "import matplotlib.pyplot as plt"
   ]
  },
  {
   "cell_type": "code",
   "execution_count": 48,
   "metadata": {},
   "outputs": [
    {
     "data": {
      "image/png": "[encoded data removed]",
      "text/plain": [
       "<Figure size 432x288 with 1 Axes>"
      ]
     },
     "metadata": {
      "needs_background": "light"
     },
     "output_type": "display_data"
    }
   ],
   "source": [
    "bins = np.linspace(0, 200, 200)\n",
    "plt.hist(df_z_cand_masses[\"ZCand_mass_1\"].dropna().values, bins=bins)\n",
    "plt.show()"
   ]
  },
  {
   "cell_type": "code",
   "execution_count": null,
   "metadata": {},
   "outputs": [],
   "source": []
  },
  {
   "cell_type": "code",
   "execution_count": null,
   "metadata": {},
   "outputs": [],
   "source": []
  }
 ],
 "metadata": {
  "kernelspec": {
   "display_name": "Python 3",
   "language": "python",
   "name": "python3"
  },
  "language_info": {
   "codemirror_mode": {
    "name": "ipython",
    "version": 3
   },
   "file_extension": ".py",
   "mimetype": "text/x-python",
   "name": "python",
   "nbconvert_exporter": "python",
   "pygments_lexer": "ipython3",
   "version": "3.7.0"
  }
 },
 "nbformat": 4,
 "nbformat_minor": 2
}
