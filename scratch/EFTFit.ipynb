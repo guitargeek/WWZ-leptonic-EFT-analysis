{
 "cells": [
  {
   "cell_type": "code",
   "execution_count": 74,
   "metadata": {},
   "outputs": [
    {
     "name": "stdout",
     "output_type": "stream",
     "text": [
      "The autoreload extension is already loaded. To reload it, use:\n",
      "  %reload_ext autoreload\n"
     ]
    }
   ],
   "source": [
    "%load_ext autoreload"
   ]
  },
  {
   "cell_type": "code",
   "execution_count": 75,
   "metadata": {},
   "outputs": [],
   "source": [
    "%autoreload 2"
   ]
  },
  {
   "cell_type": "code",
   "execution_count": 76,
   "metadata": {},
   "outputs": [],
   "source": [
    "import matplotlib.pyplot as plt\n",
    "import uproot_methods"
   ]
  },
  {
   "cell_type": "code",
   "execution_count": 77,
   "metadata": {},
   "outputs": [],
   "source": [
    "import libwwz\n",
    "libwwz.config.year = 2018"
   ]
  },
  {
   "cell_type": "code",
   "execution_count": 78,
   "metadata": {},
   "outputs": [],
   "source": [
    "import uproot\n",
    "import os\n",
    "import numpy as np\n",
    "import pandas as pd"
   ]
  },
  {
   "cell_type": "code",
   "execution_count": 79,
   "metadata": {},
   "outputs": [],
   "source": [
    "from geeksw.utils.core import concatenate\n",
    "from geeksw.utils.data_loader_tools import make_data_loader, TreeWrapper, list_root_files_recursively"
   ]
  },
  {
   "cell_type": "code",
   "execution_count": 80,
   "metadata": {},
   "outputs": [],
   "source": [
    "import pyarrow.parquet as pq\n",
    "import pandas as pd"
   ]
  },
  {
   "cell_type": "code",
   "execution_count": 81,
   "metadata": {},
   "outputs": [],
   "source": [
    "_dataset_wz = pq.ParquetDataset(\"/scratch/skims/mc/2018/WZ/four_lepton_skim/parquet\")\n",
    "df_full_wz = _dataset_wz.read_pandas().to_pandas()"
   ]
  },
  {
   "cell_type": "code",
   "execution_count": 82,
   "metadata": {},
   "outputs": [],
   "source": [
    "_dataset = pq.ParquetDataset(\"/home/llr/cms/rembser/WWZ-leptonic-EFT-analysis/skims/2018_WWZ_dim8_four_lepton_skim/parquet\")\n",
    "df_full = _dataset.read_pandas().to_pandas()"
   ]
  },
  {
   "cell_type": "code",
   "execution_count": 83,
   "metadata": {},
   "outputs": [],
   "source": [
    "df_wz = libwwz.four_lepton_analysis.four_lepton_analysis(df_full_wz, use_z_id_as_w_id=False)"
   ]
  },
  {
   "cell_type": "code",
   "execution_count": 84,
   "metadata": {},
   "outputs": [],
   "source": [
    "df = libwwz.four_lepton_analysis.four_lepton_analysis(df_full, use_z_id_as_w_id=False)"
   ]
  },
  {
   "cell_type": "code",
   "execution_count": 104,
   "metadata": {},
   "outputs": [
    {
     "data": {
      "text/plain": [
       "category\n",
       "EMu               476\n",
       "OffZ              452\n",
       "OnZ                49\n",
       "uncategorized    7808\n",
       "Name: genWeight, dtype: int64"
      ]
     },
     "execution_count": 104,
     "metadata": {},
     "output_type": "execute_result"
    }
   ],
   "source": [
    "df.groupby(\"category\")[\"genWeight\"].count()"
   ]
  },
  {
   "cell_type": "code",
   "execution_count": 86,
   "metadata": {},
   "outputs": [
    {
     "data": {
      "text/plain": [
       "0"
      ]
     },
     "execution_count": 86,
     "metadata": {},
     "output_type": "execute_result"
    }
   ],
   "source": [
    "df_full['VetoLepton_pt_0'].isna().sum()"
   ]
  },
  {
   "cell_type": "code",
   "execution_count": 148,
   "metadata": {},
   "outputs": [],
   "source": [
    "missing_factor = 1.\n",
    "df[\"weight\"] = df[\"genWeight\"] * 157. / 583156.50390625 * 165.1 * missing_factor\n",
    "df_wz[\"weight\"] = df_wz[\"genWeight\"] * 157. / 96752136.5 * 4429.7"
   ]
  },
  {
   "cell_type": "code",
   "execution_count": 149,
   "metadata": {},
   "outputs": [],
   "source": [
    "x = np.array([-10, -5.0, 0, 5.0, 10])\n",
    "xx = np.linspace(-10, 10, 200)\n",
    "EFT_FT0_0p2 = np.zeros(len(df))\n",
    "for i, y in enumerate(df[[\"EFT_FT0_m10\", \"EFT_FT0_m5\", \"EFT_SM\", \"EFT_FT0_5\", \"EFT_FT0_10\"]].values):\n",
    "    #print()\n",
    "    p = np.polyfit(x, y, 2)\n",
    "    EFT_FT0_0p2[i] = np.polyval(p, [0.2])\n",
    "df[\"EFT_FT0_0p2\"] = EFT_FT0_0p2"
   ]
  },
  {
   "cell_type": "code",
   "execution_count": null,
   "metadata": {},
   "outputs": [],
   "source": []
  },
  {
   "cell_type": "code",
   "execution_count": 151,
   "metadata": {},
   "outputs": [
    {
     "data": {
      "image/png": "[encoded data removed]",
      "text/plain": [
       "<Figure size 432x288 with 1 Axes>"
      ]
     },
     "metadata": {
      "needs_background": "light"
     },
     "output_type": "display_data"
    }
   ],
   "source": [
    "bins = np.linspace(0, 4000, 10)\n",
    "df_q = df.query(\"category == 'EMu'\")\n",
    "df_q_wz = df_wz.query(\"category == 'EMu'\")\n",
    "\n",
    "plt.hist(df_q[\"veto_lepton_pt_sum\"],\n",
    "         bins=bins,\n",
    "         weights=df_q[\"weight\"],\n",
    "         histtype=\"step\")\n",
    "plt.hist(df_q[\"veto_lepton_pt_sum\"],\n",
    "         bins=bins,\n",
    "         weights=df_q[\"weight\"] * df_q[\"EFT_FT0_5\"],\n",
    "         histtype=\"step\")\n",
    "plt.hist(df_q[\"veto_lepton_pt_sum\"],\n",
    "         bins=bins,\n",
    "         weights=df_q[\"weight\"] * df_q[\"EFT_FT0_0p2\"],\n",
    "         histtype=\"step\")\n",
    "\n",
    "plt.hist(df_q_wz[\"veto_lepton_pt_sum\"],\n",
    "         bins=bins,\n",
    "         weights=df_q_wz[\"weight\"],\n",
    "         histtype=\"step\")\n",
    "#plt.yscale('log', nonposy='clip')\n",
    "plt.show()"
   ]
  },
  {
   "cell_type": "code",
   "execution_count": 145,
   "metadata": {},
   "outputs": [
    {
     "data": {
      "text/plain": [
       "0       1927.396149\n",
       "1       1365.971344\n",
       "2        487.534369\n",
       "3       1801.294731\n",
       "4        277.286350\n",
       "           ...     \n",
       "8780    1676.833584\n",
       "8781    1938.130524\n",
       "8782     574.799183\n",
       "8783     238.851397\n",
       "8784     227.095367\n",
       "Name: veto_lepton_pt_sum, Length: 8785, dtype: float64"
      ]
     },
     "execution_count": 145,
     "metadata": {},
     "output_type": "execute_result"
    }
   ],
   "source": [
    "df[\"veto_lepton_pt_sum\"]"
   ]
  },
  {
   "cell_type": "code",
   "execution_count": null,
   "metadata": {},
   "outputs": [],
   "source": []
  },
  {
   "cell_type": "code",
   "execution_count": null,
   "metadata": {},
   "outputs": [],
   "source": []
  },
  {
   "cell_type": "code",
   "execution_count": null,
   "metadata": {},
   "outputs": [],
   "source": []
  }
 ],
 "metadata": {
  "kernelspec": {
   "display_name": "Python 3",
   "language": "python",
   "name": "python3"
  },
  "language_info": {
   "codemirror_mode": {
    "name": "ipython",
    "version": 3
   },
   "file_extension": ".py",
   "mimetype": "text/x-python",
   "name": "python",
   "nbconvert_exporter": "python",
   "pygments_lexer": "ipython3",
   "version": "3.7.0"
  }
 },
 "nbformat": 4,
 "nbformat_minor": 2
}
