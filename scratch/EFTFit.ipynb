{
 "cells": [
  {
   "cell_type": "code",
   "execution_count": 1,
   "metadata": {},
   "outputs": [],
   "source": [
    "%load_ext autoreload"
   ]
  },
  {
   "cell_type": "code",
   "execution_count": 2,
   "metadata": {},
   "outputs": [],
   "source": [
    "%autoreload 2"
   ]
  },
  {
   "cell_type": "code",
   "execution_count": 3,
   "metadata": {},
   "outputs": [],
   "source": [
    "import geeksw.plotting.cmsplot as plt\n",
    "from libwwz import wwz_plotting\n",
    "import uproot_methods"
   ]
  },
  {
   "cell_type": "code",
   "execution_count": 4,
   "metadata": {},
   "outputs": [],
   "source": [
    "import libwwz\n",
    "libwwz.config.year = 2018"
   ]
  },
  {
   "cell_type": "code",
   "execution_count": 5,
   "metadata": {},
   "outputs": [],
   "source": [
    "import uproot\n",
    "import os\n",
    "import numpy as np\n",
    "import pandas as pd"
   ]
  },
  {
   "cell_type": "code",
   "execution_count": 6,
   "metadata": {},
   "outputs": [],
   "source": [
    "from geeksw.utils.core import concatenate\n",
    "from geeksw.utils.data_loader_tools import make_data_loader, TreeWrapper, list_root_files_recursively"
   ]
  },
  {
   "cell_type": "code",
   "execution_count": 18,
   "metadata": {},
   "outputs": [],
   "source": [
    "def analyze_dataset(year, short_name, override_path=None, scale=1.):\n",
    "    df_full = libwwz.utils.load_four_lepton_skim(year, short_name)\n",
    "    \n",
    "    return libwwz.four_lepton_analysis.four_lepton_analysis(df_full, use_z_id_as_w_id=True)"
   ]
  },
  {
   "cell_type": "code",
   "execution_count": 19,
   "metadata": {},
   "outputs": [],
   "source": [
    "samples_info = {\"wwz\" : [(2016, \"WWZ_incl\"), # skim validated for all years\n",
    "                         (2017, \"WWZ_4l\"),\n",
    "                         (2018, \"WWZ_4l\")],\n",
    "                \"ttz\" : [(2016, \"TTZnlo_ext2\"), # skim validated for all years\n",
    "                         (2017, \"TTZnlo\"),\n",
    "                         (2018, \"TTZnlo\"),\n",
    "                        (2016, \"TTZLOW\"),\n",
    "                         (2017, \"TTZLOW\"),\n",
    "                         (2018, \"TTZLOW\")],\n",
    "                \"zz\" : [(2016, \"ZZ\"), (2017, \"ZZ\"), (2018, \"ZZ_ext1\")],\n",
    "               \"wz\" : [(2016, \"WZ\"), (2017, \"WZ\"), (2018, \"WZ\")],\n",
    "               \"twz\" : [(2016, \"TWZ\"), (2017, \"TWZ\"), (2018, \"TWZ\")],\n",
    "               \"othernoh\" : [(2016, \"DY_high\"), (2017, \"DY_high\"), (2018, \"DY_high\")]}"
   ]
  },
  {
   "cell_type": "code",
   "execution_count": 75,
   "metadata": {},
   "outputs": [],
   "source": [
    "def analyze_data():\n",
    "    dfs = []\n",
    "    paths = [\"/scratch/skims/data/2016/data_Run2016Bv1_ee/four_lepton_skim\",\n",
    "            \"/scratch/skims/data/2016/data_Run2016Bv2_ee/four_lepton_skim\",\n",
    "            \"/scratch/skims/data/2016/data_Run2016C_ee/four_lepton_skim\",\n",
    "             \"/scratch/skims/data/2016/data_Run2016D_ee/four_lepton_skim\",\n",
    "             \"/scratch/skims/data/2016/data_Run2016E_ee/four_lepton_skim\",\n",
    "             \"/scratch/skims/data/2016/data_Run2016F_ee/four_lepton_skim\",\n",
    "             \"/scratch/skims/data/2017/data_Run2017B_ee/four_lepton_skim\",\n",
    "             \"/scratch/skims/data/2017/data_Run2017C_ee/four_lepton_skim\",\n",
    "             \"/scratch/skims/data/2017/data_Run2017D_ee/four_lepton_skim\",\n",
    "             \"/scratch/skims/data/2017/data_Run2017E_ee/four_lepton_skim\",\n",
    "             \"/scratch/skims/data/2017/data_Run2017F_ee/four_lepton_skim\",\n",
    "            \"/scratch/skims/data/2018/EGamma_2018A/four_lepton_skim\",\n",
    "            ]\n",
    "    for path in paths:\n",
    "        df_full = libwwz.utils.load_four_lepton_skim(None, None, override_path=path)\n",
    "        dfs.append(libwwz.four_lepton_analysis.four_lepton_analysis(df_full, use_z_id_as_w_id=True))\n",
    "        \n",
    "    return pd.concat(dfs, ignore_index=True, axis=0)"
   ]
  },
  {
   "cell_type": "code",
   "execution_count": 21,
   "metadata": {},
   "outputs": [],
   "source": [
    "def analyze_sample(sample_name):\n",
    "    dfs = []\n",
    "    for tup in samples_info[sample_name]:\n",
    "        scale = 1.\n",
    "        if len(tup) == 2:\n",
    "            year, short_name = tup\n",
    "        else:\n",
    "            year, short_name, scale = tup\n",
    "        dfs.append(analyze_dataset(year, short_name, scale=scale))\n",
    "    return pd.concat(dfs, ignore_index=True)"
   ]
  },
  {
   "cell_type": "code",
   "execution_count": 22,
   "metadata": {},
   "outputs": [
    {
     "name": "stdout",
     "output_type": "stream",
     "text": [
      "\u001b[0m\u001b[01;34mDY_high\u001b[0m/      \u001b[01;34mTTWnlo\u001b[0m/  \u001b[01;34mVHtoNonBB\u001b[0m/  \u001b[01;34mWZZ_incl\u001b[0m/          \u001b[01;34mZZcontTo4tau\u001b[0m/\r\n",
      "\u001b[01;34mDY_low\u001b[0m/       \u001b[01;34mTTWW\u001b[0m/    \u001b[01;34mWWW_2l\u001b[0m/     \u001b[01;34mZZcontTo2e2mu\u001b[0m/     \u001b[01;34mZZcontTo4tau_ext\u001b[0m/\r\n",
      "\u001b[01;34mDYzpt150\u001b[0m/     \u001b[01;34mTTWZ\u001b[0m/    \u001b[01;34mWWW_incl\u001b[0m/   \u001b[01;34mZZcontTo2e2tau\u001b[0m/    \u001b[01;34mZZ_ext1\u001b[0m/\r\n",
      "\u001b[01;34mGGHtoZZto4L\u001b[0m/  \u001b[01;34mTTZH\u001b[0m/    \u001b[01;34mWWZ_4l\u001b[0m/     \u001b[01;34mZZcontTo2mu2tau\u001b[0m/   \u001b[01;34mZZ_ext2\u001b[0m/\r\n",
      "\u001b[01;34mTTDL\u001b[0m/         \u001b[01;34mTTZLOW\u001b[0m/  \u001b[01;34mWWZ_incl\u001b[0m/   \u001b[01;34mZZcontTo4e\u001b[0m/        \u001b[01;34mZZZ_4l\u001b[0m/\r\n",
      "\u001b[01;34mTTHtoNonBB\u001b[0m/   \u001b[01;34mTTZnlo\u001b[0m/  \u001b[01;34mWZ\u001b[0m/         \u001b[01;34mZZcontTo4e_ext1\u001b[0m/   \u001b[01;34mZZZ_incl\u001b[0m/\r\n",
      "\u001b[01;34mTTSL\u001b[0m/         \u001b[01;34mTTZZ\u001b[0m/    \u001b[01;34mWZG\u001b[0m/        \u001b[01;34mZZcontTo4mu\u001b[0m/\r\n",
      "\u001b[01;34mTTWH\u001b[0m/         \u001b[01;34mTWZ\u001b[0m/     \u001b[01;34mWZZ_4l\u001b[0m/     \u001b[01;34mZZcontTo4mu_ext1\u001b[0m/\r\n"
     ]
    }
   ],
   "source": [
    "ls /scratch/skims/mc/2018"
   ]
  },
  {
   "cell_type": "code",
   "execution_count": 27,
   "metadata": {},
   "outputs": [],
   "source": [
    "samples = {}\n",
    "samples[\"wwz\"] = analyze_sample(\"wwz\")"
   ]
  },
  {
   "cell_type": "code",
   "execution_count": 85,
   "metadata": {},
   "outputs": [],
   "source": [
    "samples[\"data\"] = analyze_data()"
   ]
  },
  {
   "cell_type": "code",
   "execution_count": 29,
   "metadata": {},
   "outputs": [],
   "source": [
    "samples[\"ttz\"] = analyze_sample(\"ttz\")"
   ]
  },
  {
   "cell_type": "code",
   "execution_count": 30,
   "metadata": {},
   "outputs": [],
   "source": [
    "samples[\"zz\"] = analyze_sample(\"zz\")"
   ]
  },
  {
   "cell_type": "code",
   "execution_count": 31,
   "metadata": {},
   "outputs": [],
   "source": [
    "samples[\"wz\"] = analyze_sample(\"wz\")\n",
    "samples[\"twz\"] = analyze_sample(\"twz\")"
   ]
  },
  {
   "cell_type": "code",
   "execution_count": 32,
   "metadata": {},
   "outputs": [],
   "source": [
    "samples[\"othernoh\"] = analyze_sample(\"othernoh\")"
   ]
  },
  {
   "cell_type": "code",
   "execution_count": 86,
   "metadata": {},
   "outputs": [
    {
     "name": "stderr",
     "output_type": "stream",
     "text": [
      "/home/llr/cms/rembser/.local/lib/python3.7/site-packages/ipykernel_launcher.py:7: RuntimeWarning: divide by zero encountered in log\n",
      "  import sys\n",
      "/home/llr/cms/rembser/.local/lib/python3.7/site-packages/ipykernel_launcher.py:8: RuntimeWarning: divide by zero encountered in log\n",
      "  \n"
     ]
    }
   ],
   "source": [
    "jagged_lepton_variable = libwwz.four_lepton_analysis.jagged_lepton_variable\n",
    "\n",
    "for sample_name in samples:\n",
    "    lep_pt = jagged_lepton_variable(samples[sample_name], \"pt\")\n",
    "    samples[sample_name][\"lep_min_pt\"] = lep_pt.min()\n",
    "    samples[sample_name][\"lep_max_pt\"] = lep_pt.max()\n",
    "    samples[sample_name][\"lep_min_iso\"] = np.log(jagged_lepton_variable(samples[sample_name], \"pfRelIso03_all_wLep\").min())\n",
    "    samples[sample_name][\"lep_max_iso\"] = np.log(jagged_lepton_variable(samples[sample_name], \"pfRelIso03_all_wLep\").max())\n",
    "    \n",
    "    samples[sample_name][\"ZCand_mass_1\"] = samples[sample_name][\"ZCand_mass_1\"].fillna(0.0)\n",
    "    \n",
    "    samples[sample_name][\"sT\"] = samples[sample_name][\"veto_lepton_pt_sum\"] + samples[sample_name][\"MET_pt\"]"
   ]
  },
  {
   "cell_type": "code",
   "execution_count": 34,
   "metadata": {},
   "outputs": [
    {
     "data": {
      "image/png": "[encoded data removed]",
      "text/plain": [
       "<Figure size 432x288 with 1 Axes>"
      ]
     },
     "metadata": {
      "needs_background": "light"
     },
     "output_type": "display_data"
    }
   ],
   "source": [
    "\n",
    "def clip(a, a_max=800):\n",
    "    return np.clip(a, a_min=None, a_max=a_max)\n",
    "\n",
    "bins = np.linspace(0, 800, 16)\n",
    "#bins = np.linspace(0, 300, 46)\n",
    "\n",
    "for sample_name in [\"wwz\", \"ttz\", \"zz\", \"wz\"]:\n",
    "    #print(sample_name)\n",
    "    #print(samples[sample_name].groupby(\"category\")[\"weight\"].sum())\n",
    "    #print()\n",
    "    df_q = samples[sample_name].query(\"category == 'EMu'\")\n",
    "    #print(sample_name, df_q[\"weight\"].sum())\n",
    "\n",
    "    plt.hist(clip(df_q[\"ZCand_mass_1\"]),\n",
    "    #plt.hist(clip(df_q[\"VetoLepton_pt_2\"]),\n",
    "    #plt.hist(clip(df_q[\"veto_lepton_pt_min\"]),\n",
    "             bins=bins,\n",
    "             weights=np.clip(df_q[\"weight\"], a_min=None, a_max=None),\n",
    "             histtype=\"step\",\n",
    "             label=sample_name)\n",
    "    \n",
    "plt.legend(loc=\"upper right\")\n",
    "\n",
    "#plt.yscale('log', nonposy='clip')\n",
    "plt.show()"
   ]
  },
  {
   "cell_type": "code",
   "execution_count": 35,
   "metadata": {},
   "outputs": [
    {
     "data": {
      "text/html": [
       "<div>\n",
       "<style scoped>\n",
       "    .dataframe tbody tr th:only-of-type {\n",
       "        vertical-align: middle;\n",
       "    }\n",
       "\n",
       "    .dataframe tbody tr th {\n",
       "        vertical-align: top;\n",
       "    }\n",
       "\n",
       "    .dataframe thead th {\n",
       "        text-align: right;\n",
       "    }\n",
       "</style>\n",
       "<table border=\"1\" class=\"dataframe\">\n",
       "  <thead>\n",
       "    <tr style=\"text-align: right;\">\n",
       "      <th></th>\n",
       "      <th>z_lep_1_idx</th>\n",
       "      <th>z_lep_2_idx</th>\n",
       "      <th>w_lep_1_idx</th>\n",
       "      <th>w_lep_2_idx</th>\n",
       "    </tr>\n",
       "  </thead>\n",
       "  <tbody>\n",
       "    <tr>\n",
       "      <td>2</td>\n",
       "      <td>0</td>\n",
       "      <td>3</td>\n",
       "      <td>1</td>\n",
       "      <td>2</td>\n",
       "    </tr>\n",
       "    <tr>\n",
       "      <td>10</td>\n",
       "      <td>1</td>\n",
       "      <td>2</td>\n",
       "      <td>0</td>\n",
       "      <td>3</td>\n",
       "    </tr>\n",
       "    <tr>\n",
       "      <td>11</td>\n",
       "      <td>0</td>\n",
       "      <td>1</td>\n",
       "      <td>2</td>\n",
       "      <td>3</td>\n",
       "    </tr>\n",
       "    <tr>\n",
       "      <td>19</td>\n",
       "      <td>0</td>\n",
       "      <td>1</td>\n",
       "      <td>2</td>\n",
       "      <td>3</td>\n",
       "    </tr>\n",
       "    <tr>\n",
       "      <td>21</td>\n",
       "      <td>0</td>\n",
       "      <td>3</td>\n",
       "      <td>1</td>\n",
       "      <td>2</td>\n",
       "    </tr>\n",
       "    <tr>\n",
       "      <td>...</td>\n",
       "      <td>...</td>\n",
       "      <td>...</td>\n",
       "      <td>...</td>\n",
       "      <td>...</td>\n",
       "    </tr>\n",
       "    <tr>\n",
       "      <td>9340</td>\n",
       "      <td>0</td>\n",
       "      <td>2</td>\n",
       "      <td>1</td>\n",
       "      <td>3</td>\n",
       "    </tr>\n",
       "    <tr>\n",
       "      <td>9344</td>\n",
       "      <td>1</td>\n",
       "      <td>2</td>\n",
       "      <td>0</td>\n",
       "      <td>3</td>\n",
       "    </tr>\n",
       "    <tr>\n",
       "      <td>9345</td>\n",
       "      <td>0</td>\n",
       "      <td>2</td>\n",
       "      <td>1</td>\n",
       "      <td>3</td>\n",
       "    </tr>\n",
       "    <tr>\n",
       "      <td>9346</td>\n",
       "      <td>0</td>\n",
       "      <td>1</td>\n",
       "      <td>2</td>\n",
       "      <td>3</td>\n",
       "    </tr>\n",
       "    <tr>\n",
       "      <td>9350</td>\n",
       "      <td>0</td>\n",
       "      <td>3</td>\n",
       "      <td>1</td>\n",
       "      <td>2</td>\n",
       "    </tr>\n",
       "  </tbody>\n",
       "</table>\n",
       "<p>1913 rows × 4 columns</p>\n",
       "</div>"
      ],
      "text/plain": [
       "      z_lep_1_idx  z_lep_2_idx  w_lep_1_idx  w_lep_2_idx\n",
       "2               0            3            1            2\n",
       "10              1            2            0            3\n",
       "11              0            1            2            3\n",
       "19              0            1            2            3\n",
       "21              0            3            1            2\n",
       "...           ...          ...          ...          ...\n",
       "9340            0            2            1            3\n",
       "9344            1            2            0            3\n",
       "9345            0            2            1            3\n",
       "9346            0            1            2            3\n",
       "9350            0            3            1            2\n",
       "\n",
       "[1913 rows x 4 columns]"
      ]
     },
     "execution_count": 35,
     "metadata": {},
     "output_type": "execute_result"
    }
   ],
   "source": [
    "samples[\"wz\"].query(\"ZCand_mass_1 > 0\")[['z_lep_1_idx', 'z_lep_2_idx', 'w_lep_1_idx', 'w_lep_2_idx']]"
   ]
  },
  {
   "cell_type": "code",
   "execution_count": 87,
   "metadata": {},
   "outputs": [
    {
     "name": "stderr",
     "output_type": "stream",
     "text": [
      "/home/llr/cms/rembser/WWZ-leptonic-EFT-analysis/libwwz/wwz_plotting.py:192: RuntimeWarning: invalid value encountered in true_divide\n",
      "  y = data_events / baseline_events\n",
      "/home/llr/cms/rembser/WWZ-leptonic-EFT-analysis/libwwz/wwz_plotting.py:193: RuntimeWarning: invalid value encountered in true_divide\n",
      "  yerr = data_errors2 ** 0.5 / baseline_events\n",
      "/home/llr/cms/rembser/WWZ-leptonic-EFT-analysis/libwwz/wwz_plotting.py:206: RuntimeWarning: invalid value encountered in true_divide\n",
      "  to_y((baseline_events - baseline_errors) / baseline_events),\n",
      "/home/llr/cms/rembser/WWZ-leptonic-EFT-analysis/libwwz/wwz_plotting.py:207: RuntimeWarning: invalid value encountered in true_divide\n",
      "  to_y((baseline_events + baseline_errors) / baseline_events),\n",
      "No handles with labels found to put in legend.\n"
     ]
    },
    {
     "data": {
      "image/png": "[encoded data removed]",
      "text/plain": [
       "<Figure size 617.04x579.84 with 2 Axes>"
      ]
     },
     "metadata": {
      "needs_background": "light"
     },
     "output_type": "display_data"
    }
   ],
   "source": [
    "query = \"category == 'EMu' and m_ll > 135\"# and MET_pt < 50\"\n",
    "#query = \"category == 'OffZ'\"# and MET_pt < 50\"\n",
    "#query = \"m_ll > 100\"\n",
    "#query = \"not category == 'OnZ'\"\n",
    "\n",
    "bins = np.linspace(0, 1000, 16)\n",
    "#bins = np.linspace(0, 500, 15)\n",
    "\n",
    "wwz_plotting.wvz_hist(\n",
    "    samples,\n",
    "    \"sT\",\n",
    "    #\"m_ll\",\n",
    "    bins,\n",
    "    #query=\"is_ChannelEMu\",\n",
    "    main_background=\"ttz\",\n",
    "    plot_data=True,\n",
    "    data_scale=None,\n",
    "    ratio_plot=True,\n",
    "    xlabel=r\"$p_T^{4l}$ scalar sum [GeV]\",\n",
    "    query=query,\n",
    "    stack_signal_on_background=True,\n",
    "    #ylim=(0,7.4),\n",
    "    #log_scale=True,\n",
    ")\n",
    "#plt.show()\n",
    "df_q = samples[\"wwz\"].query(query)\n",
    "#h = np.histogram(clip(df_q[\"sT\"], a_max=bins[-1]), bins, weights=df_q[\"weight\"])[0] * h_eft_scale\n",
    "#plt.step(bins[1:], h, label=r\"WWZ $f_{T0} = 1$ TeV${}^{-4}$\")\n",
    "plt.legend(loc=\"upper left\")\n",
    "plt.savefig(\"eft_plot.pdf\")\n",
    "plt.show()\n",
    "plt.close()\n",
    "#plt.ylim(0, 11)"
   ]
  },
  {
   "cell_type": "code",
   "execution_count": 37,
   "metadata": {},
   "outputs": [
    {
     "ename": "NameError",
     "evalue": "name 'h_eft_scale' is not defined",
     "output_type": "error",
     "traceback": [
      "\u001b[0;31m---------------------------------------------------------------------------\u001b[0m",
      "\u001b[0;31mNameError\u001b[0m                                 Traceback (most recent call last)",
      "\u001b[0;32m<ipython-input-37-51e8946a8451>\u001b[0m in \u001b[0;36m<module>\u001b[0;34m\u001b[0m\n\u001b[0;32m----> 1\u001b[0;31m \u001b[0mh_eft_scale\u001b[0m\u001b[0;34m\u001b[0m\u001b[0m\n\u001b[0m",
      "\u001b[0;31mNameError\u001b[0m: name 'h_eft_scale' is not defined"
     ]
    }
   ],
   "source": [
    "h_eft_scale"
   ]
  },
  {
   "cell_type": "code",
   "execution_count": null,
   "metadata": {},
   "outputs": [],
   "source": [
    "#df_wz = analyze_dataset(2018, \"WZ\")"
   ]
  },
  {
   "cell_type": "code",
   "execution_count": null,
   "metadata": {},
   "outputs": [],
   "source": [
    "df_eft = analyze_dataset(None, None, override_path=\"/home/llr/cms/rembser/WWZ-leptonic-EFT-analysis/skims/2018_WWZ_dim8_four_lepton_skim\")"
   ]
  },
  {
   "cell_type": "code",
   "execution_count": null,
   "metadata": {},
   "outputs": [],
   "source": [
    "def get_weigth_scales_for_ft0(df, ft0_value):\n",
    "    \n",
    "    x = np.array([-10, -5.0, 0, 5.0, 10])\n",
    "    xx = np.linspace(-10, 10, 200)\n",
    "    weights = np.zeros(len(df))\n",
    "    for i, y in enumerate(df[[\"EFT_FT0_m10\", \"EFT_FT0_m5\", \"EFT_SM\", \"EFT_FT0_5\", \"EFT_FT0_10\"]].values):\n",
    "        p = np.polyfit(x, y, 2)\n",
    "        weights[i] = np.polyval(p, [ft0_value])\n",
    "    return weights"
   ]
  },
  {
   "cell_type": "code",
   "execution_count": null,
   "metadata": {},
   "outputs": [],
   "source": [
    "df_eft[\"sT\"] = df_eft[\"veto_lepton_pt_sum\"] + df_eft[\"MET_pt\"]\n",
    "df_eft_q = df_eft.query(query)"
   ]
  },
  {
   "cell_type": "code",
   "execution_count": null,
   "metadata": {},
   "outputs": [],
   "source": [
    "plt.hist(df_eft_q[\"sT\"], bins=bins);"
   ]
  },
  {
   "cell_type": "code",
   "execution_count": 228,
   "metadata": {},
   "outputs": [],
   "source": [
    "scale_eft = get_weigth_scales_for_ft0(df_eft_q, 1.)"
   ]
  },
  {
   "cell_type": "code",
   "execution_count": 229,
   "metadata": {},
   "outputs": [
    {
     "name": "stderr",
     "output_type": "stream",
     "text": [
      "/home/llr/cms/rembser/.local/lib/python3.7/site-packages/ipykernel_launcher.py:3: RuntimeWarning: invalid value encountered in true_divide\n",
      "  This is separate from the ipykernel package so we can avoid doing imports until\n"
     ]
    }
   ],
   "source": [
    "h_sm = np.histogram(clip(df_eft_q[\"sT\"], a_max=bins[-1]), bins, weights=df_eft_q[\"genWeight\"])[0]\n",
    "h_eft = np.histogram(clip(df_eft_q[\"sT\"], a_max=bins[-1]), bins, weights=df_eft_q[\"genWeight\"] * scale_eft)[0]\n",
    "h_eft_scale = h_eft / h_sm"
   ]
  },
  {
   "cell_type": "code",
   "execution_count": 230,
   "metadata": {},
   "outputs": [],
   "source": [
    "def get_n_high_mass_events(ft0_value):\n",
    "    mass_cut = 1200.\n",
    "    query = f\"category == 'EMu' and veto_lepton_pt_sum > {mass_cut}\"\n",
    "    #query = f\"veto_lepton_pt_sum > {mass_cut}\"\n",
    "    if ft0_value == 0.0:\n",
    "        return df_wwz_4l.query(query)[\"weight\"].sum()\n",
    "    \n",
    "    df_q = df.query(query)\n",
    "    weights = get_weigth_scales_for_ft0(df_q, ft0_value)\n",
    "    return np.sum(weights * df_q[\"weight\"])"
   ]
  },
  {
   "cell_type": "code",
   "execution_count": null,
   "metadata": {},
   "outputs": [],
   "source": [
    "def nll_term(s, b, n):\n",
    "    return (s + b) - n * np.log(s + b)"
   ]
  },
  {
   "cell_type": "code",
   "execution_count": null,
   "metadata": {},
   "outputs": [],
   "source": [
    "ft0_vals = np.linspace(-5, 5, 50)\n",
    "n_events = np.array(list(map(get_n_high_mass_events, ft0_vals)))\n",
    "nll = np.array(list(map(lambda n : nll_term(0, get_n_high_mass_events(0.0), n), n_events)))"
   ]
  },
  {
   "cell_type": "code",
   "execution_count": null,
   "metadata": {},
   "outputs": [],
   "source": [
    "plt.plot(ft0_vals, nll)"
   ]
  },
  {
   "cell_type": "code",
   "execution_count": null,
   "metadata": {},
   "outputs": [],
   "source": [
    "df[\"EFT_FT0_0p2\"] = get_weigths_for_ft0(df, 0.2)"
   ]
  },
  {
   "cell_type": "code",
   "execution_count": null,
   "metadata": {},
   "outputs": [],
   "source": []
  },
  {
   "cell_type": "code",
   "execution_count": null,
   "metadata": {},
   "outputs": [],
   "source": []
  },
  {
   "cell_type": "code",
   "execution_count": null,
   "metadata": {},
   "outputs": [],
   "source": []
  }
 ],
 "metadata": {
  "kernelspec": {
   "display_name": "Python 3",
   "language": "python",
   "name": "python3"
  },
  "language_info": {
   "codemirror_mode": {
    "name": "ipython",
    "version": 3
   },
   "file_extension": ".py",
   "mimetype": "text/x-python",
   "name": "python",
   "nbconvert_exporter": "python",
   "pygments_lexer": "ipython3",
   "version": "3.7.0"
  }
 },
 "nbformat": 4,
 "nbformat_minor": 2
}
