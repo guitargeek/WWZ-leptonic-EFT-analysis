{
 "cells": [
  {
   "cell_type": "code",
   "execution_count": 1,
   "metadata": {},
   "outputs": [],
   "source": [
    "%load_ext autoreload"
   ]
  },
  {
   "cell_type": "code",
   "execution_count": 2,
   "metadata": {},
   "outputs": [],
   "source": [
    "%autoreload 2"
   ]
  },
  {
   "cell_type": "code",
   "execution_count": 358,
   "metadata": {},
   "outputs": [],
   "source": [
    "import geeksw.plotting.cmsplot as plt\n",
    "from libwwz import wwz_plotting\n",
    "import uproot_methods"
   ]
  },
  {
   "cell_type": "code",
   "execution_count": 4,
   "metadata": {},
   "outputs": [],
   "source": [
    "import libwwz\n",
    "libwwz.config.year = 2018"
   ]
  },
  {
   "cell_type": "code",
   "execution_count": 5,
   "metadata": {},
   "outputs": [],
   "source": [
    "import uproot\n",
    "import os\n",
    "import numpy as np\n",
    "import pandas as pd"
   ]
  },
  {
   "cell_type": "code",
   "execution_count": 6,
   "metadata": {},
   "outputs": [],
   "source": [
    "from geeksw.utils.core import concatenate\n",
    "from geeksw.utils.data_loader_tools import make_data_loader, TreeWrapper, list_root_files_recursively"
   ]
  },
  {
   "cell_type": "code",
   "execution_count": 7,
   "metadata": {},
   "outputs": [],
   "source": [
    "import pyarrow.parquet as pq\n",
    "import pandas as pd"
   ]
  },
  {
   "cell_type": "code",
   "execution_count": 194,
   "metadata": {},
   "outputs": [],
   "source": [
    "lumi = {2016 : 35.92, 2017 : 41.53, 2018 : 59.74}"
   ]
  },
  {
   "cell_type": "code",
   "execution_count": 384,
   "metadata": {},
   "outputs": [],
   "source": [
    "xsec = dict(WZ=4429.7, WWZ_4l=4.12, WWZ_incl=165.1,\n",
    "            TTZLOW=49.3, TTZnlo=272.8, TTZnlo_ext1=272.8, TTZnlo_ext2=272.8, TTZnlo_ext=272.8,\n",
    "            ZZ=1381.6, ZZ_ext1=1381.6)"
   ]
  },
  {
   "cell_type": "code",
   "execution_count": 268,
   "metadata": {},
   "outputs": [],
   "source": [
    "import json\n",
    "import os"
   ]
  },
  {
   "cell_type": "code",
   "execution_count": 385,
   "metadata": {},
   "outputs": [],
   "source": [
    "def analyze_dataset(year, short_name, override_path=None, scale=1.):\n",
    "    if not override_path is None:\n",
    "        path = override_path\n",
    "    else:\n",
    "        path = f\"/scratch/skims/mc/{year}/{short_name}/four_lepton_skim\"\n",
    "\n",
    "        \n",
    "    _dataset = pq.ParquetDataset(os.path.join(path, \"parquet\"))\n",
    "    df_full = _dataset.read_pandas().to_pandas()\n",
    "    \n",
    "    df = libwwz.four_lepton_analysis.four_lepton_analysis(df_full, use_z_id_as_w_id=False)\n",
    "    \n",
    "    if short_name in xsec:\n",
    "    \n",
    "        with open(os.path.join(path, 'metainfo.json'), 'r') as myfile:\n",
    "            data = myfile.read()\n",
    "            full_weight_sum = json.loads(data)[\"genWeightSum\"]\n",
    "        df[\"weight\"] = df[\"genWeight\"] * lumi[year] * xsec[short_name] / full_weight_sum * scale\n",
    "    \n",
    "    return df"
   ]
  },
  {
   "cell_type": "code",
   "execution_count": 386,
   "metadata": {},
   "outputs": [],
   "source": [
    "samples_info = {\"wwz\" : [(2016, \"WWZ_incl\"), # skim validated for all years\n",
    "                         (2017, \"WWZ_4l\"),\n",
    "                         (2018, \"WWZ_4l\")],\n",
    "                \"ttz\" : [(2016, \"TTZnlo_ext2\"), # skim validated for all years\n",
    "                         (2017, \"TTZnlo\"),\n",
    "                         (2018, \"TTZnlo\"),\n",
    "                        (2016, \"TTZLOW\"),\n",
    "                         (2017, \"TTZLOW\"),\n",
    "                         (2018, \"TTZLOW\")],\n",
    "                \"zz\" : [(2016, \"ZZ\"), (2017, \"ZZ\"), (2018, \"ZZ_ext1\")],\n",
    "               \"wz\" : [(2016, \"WZ\"), (2017, \"WZ\"), (2018, \"WZ\")]}"
   ]
  },
  {
   "cell_type": "code",
   "execution_count": 309,
   "metadata": {},
   "outputs": [],
   "source": [
    "def analyze_sample(sample_name):\n",
    "    dfs = []\n",
    "    for tup in samples_info[sample_name]:\n",
    "        scale = 1.\n",
    "        if len(tup) == 2:\n",
    "            year, short_name = tup\n",
    "        else:\n",
    "            year, short_name, scale = tup\n",
    "        dfs.append(analyze_dataset(year, short_name, scale=scale))\n",
    "    return pd.concat(dfs, ignore_index=True)"
   ]
  },
  {
   "cell_type": "code",
   "execution_count": 396,
   "metadata": {},
   "outputs": [
    {
     "name": "stdout",
     "output_type": "stream",
     "text": [
      "\u001b[0m\u001b[01;34mDY_high\u001b[0m/      \u001b[01;34mTTWnlo\u001b[0m/  \u001b[01;34mVHtoNonBB\u001b[0m/  \u001b[01;34mWZZ_incl\u001b[0m/          \u001b[01;34mZZcontTo4tau\u001b[0m/\r\n",
      "\u001b[01;34mDY_low\u001b[0m/       \u001b[01;34mTTWW\u001b[0m/    \u001b[01;34mWWW_2l\u001b[0m/     \u001b[01;34mZZcontTo2e2mu\u001b[0m/     \u001b[01;34mZZcontTo4tau_ext\u001b[0m/\r\n",
      "\u001b[01;34mDYzpt150\u001b[0m/     \u001b[01;34mTTWZ\u001b[0m/    \u001b[01;34mWWW_incl\u001b[0m/   \u001b[01;34mZZcontTo2e2tau\u001b[0m/    \u001b[01;34mZZ_ext1\u001b[0m/\r\n",
      "\u001b[01;34mGGHtoZZto4L\u001b[0m/  \u001b[01;34mTTZH\u001b[0m/    \u001b[01;34mWWZ_4l\u001b[0m/     \u001b[01;34mZZcontTo2mu2tau\u001b[0m/   \u001b[01;34mZZ_ext2\u001b[0m/\r\n",
      "\u001b[01;34mTTDL\u001b[0m/         \u001b[01;34mTTZLOW\u001b[0m/  \u001b[01;34mWWZ_incl\u001b[0m/   \u001b[01;34mZZcontTo4e\u001b[0m/        \u001b[01;34mZZZ_4l\u001b[0m/\r\n",
      "\u001b[01;34mTTHtoNonBB\u001b[0m/   \u001b[01;34mTTZnlo\u001b[0m/  \u001b[01;34mWZ\u001b[0m/         \u001b[01;34mZZcontTo4e_ext1\u001b[0m/   \u001b[01;34mZZZ_incl\u001b[0m/\r\n",
      "\u001b[01;34mTTSL\u001b[0m/         \u001b[01;34mTTZZ\u001b[0m/    \u001b[01;34mWZG\u001b[0m/        \u001b[01;34mZZcontTo4mu\u001b[0m/\r\n",
      "\u001b[01;34mTTWH\u001b[0m/         \u001b[01;34mTWZ\u001b[0m/     \u001b[01;34mWZZ_4l\u001b[0m/     \u001b[01;34mZZcontTo4mu_ext1\u001b[0m/\r\n"
     ]
    }
   ],
   "source": [
    "ls /scratch/skims/mc/2018"
   ]
  },
  {
   "cell_type": "code",
   "execution_count": 387,
   "metadata": {},
   "outputs": [],
   "source": [
    "samples = {}\n",
    "samples[\"wwz\"] = analyze_sample(\"wwz\")"
   ]
  },
  {
   "cell_type": "code",
   "execution_count": 389,
   "metadata": {},
   "outputs": [],
   "source": [
    "#samples[\"ttz\"]"
   ]
  },
  {
   "cell_type": "code",
   "execution_count": 388,
   "metadata": {},
   "outputs": [],
   "source": [
    "samples[\"ttz\"] = analyze_sample(\"ttz\")"
   ]
  },
  {
   "cell_type": "code",
   "execution_count": 391,
   "metadata": {},
   "outputs": [],
   "source": [
    "samples[\"zz\"] = analyze_sample(\"zz\")"
   ]
  },
  {
   "cell_type": "code",
   "execution_count": 392,
   "metadata": {},
   "outputs": [],
   "source": [
    "samples[\"wz\"] = analyze_sample(\"wz\")"
   ]
  },
  {
   "cell_type": "code",
   "execution_count": 458,
   "metadata": {},
   "outputs": [
    {
     "name": "stdout",
     "output_type": "stream",
     "text": [
      "wwz\n",
      "category\n",
      "BTagEMu            1.437243\n",
      "EMu                8.572844\n",
      "OffZ               9.092642\n",
      "OnZ                1.198208\n",
      "uncategorized    156.011852\n",
      "Name: weight, dtype: float64\n",
      "\n",
      "ttz\n",
      "category\n",
      "BTagEMu           11.479790\n",
      "EMu                1.136398\n",
      "OffZ              12.119847\n",
      "OnZ                1.800374\n",
      "uncategorized    293.885274\n",
      "Name: weight, dtype: float64\n",
      "\n",
      "zz\n",
      "category\n",
      "BTagEMu             1.044761\n",
      "EMu                 8.796092\n",
      "OffZ              159.673769\n",
      "OnZ               379.072233\n",
      "uncategorized    4205.856822\n",
      "Name: weight, dtype: float64\n",
      "\n",
      "wz\n",
      "category\n",
      "BTagEMu            0.662188\n",
      "EMu                4.419024\n",
      "OffZ               5.853382\n",
      "OnZ                0.894913\n",
      "uncategorized    117.611534\n",
      "Name: weight, dtype: float32\n",
      "\n"
     ]
    },
    {
     "data": {
      "image/png": "[encoded data removed]",
      "text/plain": [
       "<Figure size 432x288 with 1 Axes>"
      ]
     },
     "metadata": {
      "needs_background": "light"
     },
     "output_type": "display_data"
    }
   ],
   "source": [
    "def clip(a):\n",
    "    return np.clip(a, a_min=None, a_max=800)\n",
    "\n",
    "bins = np.linspace(0, 800, 16)\n",
    "#bins = np.linspace(0, 300, 46)\n",
    "\n",
    "for sample_name in [\"wwz\", \"ttz\", \"zz\", \"wz\"]:\n",
    "    print(sample_name)\n",
    "    print(samples[sample_name].groupby(\"category\")[\"weight\"].sum())\n",
    "    print()\n",
    "    df_q = samples[sample_name].query(\"category == 'EMu'\")\n",
    "    #print(sample_name, df_q[\"weight\"].sum())\n",
    "\n",
    "    plt.hist(clip(df_q[\"veto_lepton_pt_sum\"]),\n",
    "    #plt.hist(clip(df_q[\"VetoLepton_pt_2\"]),\n",
    "    #plt.hist(clip(df_q[\"veto_lepton_pt_min\"]),\n",
    "             bins=bins,\n",
    "             weights=np.clip(df_q[\"weight\"], a_min=None, a_max=None),\n",
    "             histtype=\"step\",\n",
    "            label=sample_name)\n",
    "    \n",
    "plt.legend(loc=\"upper right\")\n",
    "\n",
    "#plt.yscale('log', nonposy='clip')\n",
    "plt.show()"
   ]
  },
  {
   "cell_type": "code",
   "execution_count": 465,
   "metadata": {},
   "outputs": [
    {
     "data": {
      "image/png": "[encoded data removed]",
      "text/plain": [
       "<Figure size 617.04x434.88 with 1 Axes>"
      ]
     },
     "metadata": {
      "needs_background": "light"
     },
     "output_type": "display_data"
    }
   ],
   "source": [
    "query = \"category == 'EMu'\"\n",
    "#query = \"not category == 'OnZ'\"\n",
    "\n",
    "wwz_plotting.wvz_hist(\n",
    "    samples,\n",
    "    \"veto_lepton_pt_sum\",\n",
    "    bins,\n",
    "    #query=\"is_ChannelEMu\",\n",
    "    main_background=\"ttz\",\n",
    "    plot_data=False,\n",
    "    ratio_plot=False,\n",
    "    xlabel=r\"$p_T^{4l}$ scalar sum [GeV]\",\n",
    "    query=query,\n",
    "    #ylim=(0,11.4),\n",
    "    #log_scale=True,\n",
    ")\n",
    "df_q = samples[\"wwz\"].query(query)\n",
    "h = np.histogram(clip(df_q[\"veto_lepton_pt_sum\"]), bins, weights=df_q[\"weight\"])[0] * h_eft_scale\n",
    "plt.step(bins[1:], h, label=r\"WWZ $f_{T0} = 1$ TeV${}^{-4}$\")\n",
    "plt.legend(loc=\"upper center\")\n",
    "plt.savefig(\"eft_plot.pdf\")\n",
    "#plt.show()\n",
    "#plt.ylim(0, 11)"
   ]
  },
  {
   "cell_type": "code",
   "execution_count": 208,
   "metadata": {},
   "outputs": [],
   "source": [
    "#df_wz = analyze_dataset(2018, \"WZ\")"
   ]
  },
  {
   "cell_type": "code",
   "execution_count": 401,
   "metadata": {},
   "outputs": [],
   "source": [
    "df_eft = analyze_dataset(None, None, override_path=\"/home/llr/cms/rembser/WWZ-leptonic-EFT-analysis/skims/2018_WWZ_dim8_four_lepton_skim\")"
   ]
  },
  {
   "cell_type": "code",
   "execution_count": 459,
   "metadata": {},
   "outputs": [],
   "source": [
    "def get_weigth_scales_for_ft0(df, ft0_value):\n",
    "    \n",
    "    x = np.array([-10, -5.0, 0, 5.0, 10])\n",
    "    xx = np.linspace(-10, 10, 200)\n",
    "    weights = np.zeros(len(df))\n",
    "    for i, y in enumerate(df[[\"EFT_FT0_m10\", \"EFT_FT0_m5\", \"EFT_SM\", \"EFT_FT0_5\", \"EFT_FT0_10\"]].values):\n",
    "        p = np.polyfit(x, y, 2)\n",
    "        weights[i] = np.polyval(p, [ft0_value])\n",
    "    return weights"
   ]
  },
  {
   "cell_type": "code",
   "execution_count": 460,
   "metadata": {},
   "outputs": [],
   "source": [
    "df_eft_q = df_eft.query(\"category == 'EMu'\")"
   ]
  },
  {
   "cell_type": "code",
   "execution_count": 461,
   "metadata": {},
   "outputs": [],
   "source": [
    "scale_eft = get_weigth_scales_for_ft0(df_eft_q, 5.)"
   ]
  },
  {
   "cell_type": "code",
   "execution_count": 462,
   "metadata": {},
   "outputs": [
    {
     "name": "stderr",
     "output_type": "stream",
     "text": [
      "/home/llr/cms/rembser/.local/lib/python3.7/site-packages/ipykernel_launcher.py:3: RuntimeWarning: invalid value encountered in true_divide\n",
      "  This is separate from the ipykernel package so we can avoid doing imports until\n"
     ]
    }
   ],
   "source": [
    "h_sm = np.histogram(clip(df_eft_q[\"veto_lepton_pt_sum\"]), bins, weights=df_eft_q[\"genWeight\"])[0]\n",
    "h_eft = np.histogram(clip(df_eft_q[\"veto_lepton_pt_sum\"]), bins, weights=df_eft_q[\"genWeight\"] * scale_eft)[0]\n",
    "h_eft_scale = h_eft / h_sm"
   ]
  },
  {
   "cell_type": "code",
   "execution_count": 212,
   "metadata": {},
   "outputs": [],
   "source": [
    "def get_n_high_mass_events(ft0_value):\n",
    "    mass_cut = 1200.\n",
    "    query = f\"category == 'EMu' and veto_lepton_pt_sum > {mass_cut}\"\n",
    "    #query = f\"veto_lepton_pt_sum > {mass_cut}\"\n",
    "    if ft0_value == 0.0:\n",
    "        return df_wwz_4l.query(query)[\"weight\"].sum()\n",
    "    \n",
    "    df_q = df.query(query)\n",
    "    weights = get_weigth_scales_for_ft0(df_q, ft0_value)\n",
    "    return np.sum(weights * df_q[\"weight\"])"
   ]
  },
  {
   "cell_type": "code",
   "execution_count": 156,
   "metadata": {},
   "outputs": [],
   "source": [
    "def nll_term(s, b, n):\n",
    "    return (s + b) - n * np.log(s + b)"
   ]
  },
  {
   "cell_type": "code",
   "execution_count": 175,
   "metadata": {},
   "outputs": [],
   "source": [
    "ft0_vals = np.linspace(-5, 5, 50)\n",
    "n_events = np.array(list(map(get_n_high_mass_events, ft0_vals)))\n",
    "nll = np.array(list(map(lambda n : nll_term(0, get_n_high_mass_events(0.0), n), n_events)))"
   ]
  },
  {
   "cell_type": "code",
   "execution_count": 176,
   "metadata": {},
   "outputs": [
    {
     "data": {
      "text/plain": [
       "[<matplotlib.lines.Line2D at 0x7f5bcf8b5198>]"
      ]
     },
     "execution_count": 176,
     "metadata": {},
     "output_type": "execute_result"
    },
    {
     "data": {
      "image/png": "[encoded data removed]",
      "text/plain": [
       "<Figure size 432x288 with 1 Axes>"
      ]
     },
     "metadata": {
      "needs_background": "light"
     },
     "output_type": "display_data"
    }
   ],
   "source": [
    "plt.plot(ft0_vals, nll)"
   ]
  },
  {
   "cell_type": "code",
   "execution_count": 112,
   "metadata": {},
   "outputs": [],
   "source": [
    "df[\"EFT_FT0_0p2\"] = get_weigths_for_ft0(df, 0.2)"
   ]
  },
  {
   "cell_type": "code",
   "execution_count": 178,
   "metadata": {},
   "outputs": [],
   "source": []
  }
 ],
 "metadata": {
  "kernelspec": {
   "display_name": "Python 3",
   "language": "python",
   "name": "python3"
  },
  "language_info": {
   "codemirror_mode": {
    "name": "ipython",
    "version": 3
   },
   "file_extension": ".py",
   "mimetype": "text/x-python",
   "name": "python",
   "nbconvert_exporter": "python",
   "pygments_lexer": "ipython3",
   "version": "3.7.0"
  }
 },
 "nbformat": 4,
 "nbformat_minor": 2
}
