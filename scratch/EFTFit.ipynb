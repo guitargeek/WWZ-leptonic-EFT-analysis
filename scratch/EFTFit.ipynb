{
 "cells": [
  {
   "cell_type": "code",
   "execution_count": 1,
   "metadata": {},
   "outputs": [],
   "source": [
    "%load_ext autoreload"
   ]
  },
  {
   "cell_type": "code",
   "execution_count": 2,
   "metadata": {},
   "outputs": [],
   "source": [
    "%autoreload 2"
   ]
  },
  {
   "cell_type": "code",
   "execution_count": 3,
   "metadata": {},
   "outputs": [],
   "source": [
    "import geeksw.plotting.cmsplot as plt\n",
    "from libwwz import wwz_plotting\n",
    "import uproot_methods"
   ]
  },
  {
   "cell_type": "code",
   "execution_count": 4,
   "metadata": {},
   "outputs": [],
   "source": [
    "import libwwz\n",
    "libwwz.config.year = 2018"
   ]
  },
  {
   "cell_type": "code",
   "execution_count": 5,
   "metadata": {},
   "outputs": [],
   "source": [
    "import json\n",
    "import numba\n",
    "from numba.typed import Dict\n",
    "from numba import types\n",
    "import numpy as np\n",
    "\n",
    "class LumiMask(object):\n",
    "    \"\"\"Holds a luminosity mask index, and provides vectorized lookup\n",
    "    Parameters\n",
    "    ----------\n",
    "        jsonfile : str\n",
    "            Path the the 'golden json' file or other valid lumiSection database in json format.\n",
    "    This class parses a CMS lumi json into an efficient valid lumiSection lookup table\n",
    "    \"\"\"\n",
    "    def __init__(self, jsonfile):\n",
    "        with open(jsonfile) as fin:\n",
    "            goldenjson = json.load(fin)\n",
    "\n",
    "        self._masks = Dict.empty(\n",
    "            key_type=types.uint32,\n",
    "            value_type=types.uint32[:]\n",
    "        )\n",
    "\n",
    "        for run, lumilist in goldenjson.items():\n",
    "            mask = np.array(lumilist, dtype=np.uint32).flatten()\n",
    "            mask[::2] -= 1\n",
    "            self._masks[np.uint32(run)] = mask\n",
    "\n",
    "    def __call__(self, runs, lumis):\n",
    "        \"\"\"Check if run and lumi are valid\n",
    "        Parameters\n",
    "        ----------\n",
    "            runs : numpy.ndarray\n",
    "                Vectorized list of run numbers\n",
    "            lumis : numpy.ndarray\n",
    "                Vectorized list of lumiSection numbers\n",
    "        Returns\n",
    "        -------\n",
    "            mask_out : numpy.ndarray\n",
    "                An array of dtype `bool` where valid (run, lumi) tuples\n",
    "                will have their corresponding entry set ``True``.\n",
    "        \"\"\"\n",
    "        mask_out = np.zeros(dtype='bool', shape=runs.shape)\n",
    "        LumiMask._apply_run_lumi_mask(self._masks, runs, lumis, mask_out)\n",
    "        return mask_out\n",
    "\n",
    "    @staticmethod\n",
    "    def _apply_run_lumi_mask(masks, runs, lumis, mask_out):\n",
    "        LumiMask._apply_run_lumi_mask_kernel(masks, runs, lumis, mask_out)\n",
    "\n",
    "    # This could be run in parallel, but windows does not support it\n",
    "    @staticmethod\n",
    "    @numba.njit(parallel=False, fastmath=True)\n",
    "    def _apply_run_lumi_mask_kernel(masks, runs, lumis, mask_out):\n",
    "        for iev in numba.prange(len(runs)):\n",
    "            run = np.uint32(runs[iev])\n",
    "            lumi = np.uint32(lumis[iev])\n",
    "\n",
    "            if run in masks:\n",
    "                lumimask = masks[run]\n",
    "                ind = np.searchsorted(lumimask, lumi)\n",
    "                if np.mod(ind, 2) == 1:\n",
    "                    mask_out[iev] = 1"
   ]
  },
  {
   "cell_type": "code",
   "execution_count": 6,
   "metadata": {},
   "outputs": [],
   "source": [
    "lumi_masks = {\n",
    "    2016 : LumiMask(\"Cert_271036-284044_13TeV_23Sep2016ReReco_Collisions16_JSON.txt\"),\n",
    "    2017 : LumiMask(\"Cert_294927-306462_13TeV_PromptReco_Collisions17_JSON.txt\"),\n",
    "    2018 : LumiMask(\"Cert_314472-325175_13TeV_17SeptEarlyReReco2018ABC_PromptEraD_Collisions18_JSON.txt\"),\n",
    "}"
   ]
  },
  {
   "cell_type": "code",
   "execution_count": 7,
   "metadata": {},
   "outputs": [],
   "source": [
    "import uproot\n",
    "import os\n",
    "import numpy as np\n",
    "import pandas as pd"
   ]
  },
  {
   "cell_type": "code",
   "execution_count": 8,
   "metadata": {},
   "outputs": [],
   "source": [
    "from geeksw.utils.core import concatenate\n",
    "from geeksw.utils.data_loader_tools import make_data_loader, TreeWrapper, list_root_files_recursively"
   ]
  },
  {
   "cell_type": "code",
   "execution_count": 9,
   "metadata": {},
   "outputs": [],
   "source": [
    "def analyze_dataset(year, short_name, override_path=None, scale=1.):\n",
    "    df_full = libwwz.utils.load_four_lepton_skim(year, short_name)\n",
    "    \n",
    "    return libwwz.four_lepton_analysis.four_lepton_analysis(df_full, use_z_id_as_w_id=False)"
   ]
  },
  {
   "cell_type": "code",
   "execution_count": 10,
   "metadata": {},
   "outputs": [],
   "source": [
    "samples_info = {\"wwz\" : [(2016, \"WWZ_incl\"), # skim validated for all years\n",
    "                         (2017, \"WWZ_4l\"),\n",
    "                         (2018, \"WWZ_4l\")],\n",
    "                \"ttz\" : [(2016, \"TTZnlo_ext2\"), # skim validated for all years\n",
    "                         (2017, \"TTZnlo\"),\n",
    "                         (2018, \"TTZnlo\"),\n",
    "                        (2016, \"TTZLOW\"),\n",
    "                         (2017, \"TTZLOW\"),\n",
    "                         (2018, \"TTZLOW\")],\n",
    "                \"zz\" : [(2016, \"ZZ\"), (2017, \"ZZ\"), (2018, \"ZZ_ext1\")],\n",
    "               \"wz\" : [(2016, \"WZ\"), (2017, \"WZ\"), (2018, \"WZ\")],\n",
    "               \"twz\" : [(2016, \"TWZ\"), (2017, \"TWZ\"), (2018, \"TWZ\")],\n",
    "               \"tt\" : [\n",
    "                   (2016, \"TTDL\"),\n",
    "                   (2016, \"TTSLtop\"),\n",
    "                   (2016, \"TTSLtopbar\"),\n",
    "                   (2017, \"TTDL\"),\n",
    "                   (2017, \"TTSL\"),\n",
    "                   (2018, \"TTDL\"),\n",
    "                   (2018, \"TTSL\"),\n",
    "               ],\n",
    "               \"othernoh\" : [(2016, \"DY_high\"), (2017, \"DY_high\"), (2018, \"DY_high\")]}"
   ]
  },
  {
   "cell_type": "code",
   "execution_count": 11,
   "metadata": {},
   "outputs": [],
   "source": [
    "def analyze_data():\n",
    "    dfs = []\n",
    "    \n",
    "    paths = [\n",
    "            \"/scratch/skims/data/2016/data_Run2016Bv1_ee/four_lepton_skim\",\n",
    "            \"/scratch/skims/data/2016/data_Run2016Bv2_ee/four_lepton_skim\",\n",
    "            \"/scratch/skims/data/2016/data_Run2016C_ee/four_lepton_skim\",\n",
    "             \"/scratch/skims/data/2016/data_Run2016D_ee/four_lepton_skim\",\n",
    "             \"/scratch/skims/data/2016/data_Run2016E_ee/four_lepton_skim\",\n",
    "             \"/scratch/skims/data/2016/data_Run2016F_ee/four_lepton_skim\",\n",
    "             \"/scratch/skims/data/2016/data_Run2016G_ee/four_lepton_skim\",\n",
    "             \"/scratch/skims/data/2016/data_Run2016H_ee/four_lepton_skim\",\n",
    "        \n",
    "            \"/scratch/skims/data/2016/data_Run2016Bv1_em/four_lepton_skim\",\n",
    "            \"/scratch/skims/data/2016/data_Run2016Bv2_em/four_lepton_skim\",\n",
    "            \"/scratch/skims/data/2016/data_Run2016C_em/four_lepton_skim\",\n",
    "             \"/scratch/skims/data/2016/data_Run2016D_em/four_lepton_skim\",\n",
    "             \"/scratch/skims/data/2016/data_Run2016E_em/four_lepton_skim\",\n",
    "             \"/scratch/skims/data/2016/data_Run2016F_em/four_lepton_skim\",\n",
    "             \"/scratch/skims/data/2016/data_Run2016G_em/four_lepton_skim\",\n",
    "             \"/scratch/skims/data/2016/data_Run2016H_em/four_lepton_skim\",\n",
    "        \n",
    "            \"/scratch/skims/data/2016/data_Run2016Bv1_mm/four_lepton_skim\",\n",
    "            \"/scratch/skims/data/2016/data_Run2016Bv2_mm/four_lepton_skim\",\n",
    "            \"/scratch/skims/data/2016/data_Run2016C_mm/four_lepton_skim\",\n",
    "             \"/scratch/skims/data/2016/data_Run2016D_mm/four_lepton_skim\",\n",
    "             \"/scratch/skims/data/2016/data_Run2016E_mm/four_lepton_skim\",\n",
    "             \"/scratch/skims/data/2016/data_Run2016F_mm/four_lepton_skim\",\n",
    "             \"/scratch/skims/data/2016/data_Run2016G_mm/four_lepton_skim\",\n",
    "             \"/scratch/skims/data/2016/data_Run2016H_mm/four_lepton_skim\",\n",
    "\n",
    "             \"/scratch/skims/data/2017/data_Run2017B_ee/four_lepton_skim\",\n",
    "             \"/scratch/skims/data/2017/data_Run2017C_ee/four_lepton_skim\",\n",
    "             \"/scratch/skims/data/2017/data_Run2017D_ee/four_lepton_skim\",\n",
    "             \"/scratch/skims/data/2017/data_Run2017E_ee/four_lepton_skim\",\n",
    "             \"/scratch/skims/data/2017/data_Run2017F_ee/four_lepton_skim\",\n",
    "             \"/scratch/skims/data/2017/data_Run2017B_em/four_lepton_skim\",\n",
    "             \"/scratch/skims/data/2017/data_Run2017C_em/four_lepton_skim\",\n",
    "             \"/scratch/skims/data/2017/data_Run2017D_em/four_lepton_skim\",\n",
    "             \"/scratch/skims/data/2017/data_Run2017E_em/four_lepton_skim\",\n",
    "             \"/scratch/skims/data/2017/data_Run2017F_em/four_lepton_skim\",\n",
    "             \"/scratch/skims/data/2017/data_Run2017B_mm/four_lepton_skim\",\n",
    "             \"/scratch/skims/data/2017/data_Run2017C_mm/four_lepton_skim\",\n",
    "             \"/scratch/skims/data/2017/data_Run2017D_mm/four_lepton_skim\",\n",
    "             \"/scratch/skims/data/2017/data_Run2017E_mm/four_lepton_skim\",\n",
    "             \"/scratch/skims/data/2017/data_Run2017F_mm/four_lepton_skim\",\n",
    "\n",
    "            \"/scratch/skims/data/2018/EGamma_2018A/four_lepton_skim\",\n",
    "            \"/scratch/skims/data/2018/EGamma_2018B/four_lepton_skim\",\n",
    "            \"/scratch/skims/data/2018/EGamma_2018C/four_lepton_skim\",\n",
    "            \"/scratch/skims/data/2018/EGamma_2018D/four_lepton_skim\",\n",
    "            \"/scratch/skims/data/2018/DoubleMuon_2018A/four_lepton_skim\",\n",
    "        \"/scratch/skims/data/2018/DoubleMuon_2018B/four_lepton_skim\",\n",
    "        \"/scratch/skims/data/2018/DoubleMuon_2018C/four_lepton_skim\",\n",
    "        \"/scratch/skims/data/2018/DoubleMuon_2018D/four_lepton_skim\",\n",
    "            \"/scratch/skims/data/2018/MuonEG_2018A/four_lepton_skim\",\n",
    "            \"/scratch/skims/data/2018/MuonEG_2018B/four_lepton_skim\",\n",
    "            \"/scratch/skims/data/2018/MuonEG_2018C/four_lepton_skim\",\n",
    "            \"/scratch/skims/data/2018/MuonEG_2018D/four_lepton_skim\",\n",
    "        \n",
    "            ]\n",
    "    for path in paths:\n",
    "        df_full = libwwz.utils.load_four_lepton_skim(None, None, override_path=path)\n",
    "        dfs.append(libwwz.four_lepton_analysis.four_lepton_analysis(df_full, use_z_id_as_w_id=False))\n",
    "        \n",
    "        if \"2016\" in path:\n",
    "            mask = lumi_masks[2016]\n",
    "        if \"2017\" in path:\n",
    "            mask = lumi_masks[2017]\n",
    "        if \"2018\" in path:\n",
    "            mask = lumi_masks[2018]\n",
    "            \n",
    "        dfs[-1] = dfs[-1][mask(dfs[-1].run.values, dfs[-1].lumi.values)]\n",
    "        \n",
    "    df = pd.concat(dfs, ignore_index=True, axis=0)\n",
    "    \n",
    "    return df.drop_duplicates(\"evt\")"
   ]
  },
  {
   "cell_type": "code",
   "execution_count": 12,
   "metadata": {},
   "outputs": [],
   "source": [
    "def analyze_sample(sample_name):\n",
    "    dfs = []\n",
    "    for tup in samples_info[sample_name]:\n",
    "        scale = 1.\n",
    "        if len(tup) == 2:\n",
    "            year, short_name = tup\n",
    "        else:\n",
    "            year, short_name, scale = tup\n",
    "        dfs.append(analyze_dataset(year, short_name, scale=scale))\n",
    "    return pd.concat(dfs, ignore_index=True)"
   ]
  },
  {
   "cell_type": "code",
   "execution_count": 27,
   "metadata": {},
   "outputs": [],
   "source": [
    "samples = {}"
   ]
  },
  {
   "cell_type": "code",
   "execution_count": 28,
   "metadata": {},
   "outputs": [],
   "source": [
    "samples[\"wwz\"] = analyze_sample(\"wwz\")"
   ]
  },
  {
   "cell_type": "code",
   "execution_count": 29,
   "metadata": {},
   "outputs": [],
   "source": [
    "samples[\"data\"] = analyze_data()"
   ]
  },
  {
   "cell_type": "code",
   "execution_count": 30,
   "metadata": {},
   "outputs": [],
   "source": [
    "samples[\"ttz\"] = analyze_sample(\"ttz\")"
   ]
  },
  {
   "cell_type": "code",
   "execution_count": 31,
   "metadata": {},
   "outputs": [],
   "source": [
    "samples[\"tt\"] = analyze_sample(\"tt\")"
   ]
  },
  {
   "cell_type": "code",
   "execution_count": 32,
   "metadata": {},
   "outputs": [],
   "source": [
    "samples[\"zz\"] = analyze_sample(\"zz\")"
   ]
  },
  {
   "cell_type": "code",
   "execution_count": 33,
   "metadata": {},
   "outputs": [],
   "source": [
    "samples[\"wz\"] = analyze_sample(\"wz\")\n",
    "samples[\"twz\"] = analyze_sample(\"twz\")"
   ]
  },
  {
   "cell_type": "code",
   "execution_count": 34,
   "metadata": {},
   "outputs": [],
   "source": [
    "samples[\"othernoh\"] = analyze_sample(\"othernoh\")"
   ]
  },
  {
   "cell_type": "code",
   "execution_count": 35,
   "metadata": {},
   "outputs": [
    {
     "name": "stderr",
     "output_type": "stream",
     "text": [
      "/home/llr/cms/rembser/.local/lib/python3.7/site-packages/ipykernel_launcher.py:7: RuntimeWarning: divide by zero encountered in log\n",
      "  import sys\n",
      "/home/llr/cms/rembser/.local/lib/python3.7/site-packages/ipykernel_launcher.py:8: RuntimeWarning: divide by zero encountered in log\n",
      "  \n"
     ]
    }
   ],
   "source": [
    "jagged_lepton_variable = libwwz.four_lepton_analysis.jagged_lepton_variable\n",
    "\n",
    "for sample_name in samples:\n",
    "    lep_pt = jagged_lepton_variable(samples[sample_name], \"pt\")\n",
    "    samples[sample_name][\"lep_min_pt\"] = lep_pt.min()\n",
    "    samples[sample_name][\"lep_max_pt\"] = lep_pt.max()\n",
    "    samples[sample_name][\"lep_min_iso\"] = np.log(jagged_lepton_variable(samples[sample_name], \"pfRelIso03_all_wLep\").min())\n",
    "    samples[sample_name][\"lep_max_iso\"] = np.log(jagged_lepton_variable(samples[sample_name], \"pfRelIso03_all_wLep\").max())\n",
    "    \n",
    "    samples[sample_name][\"ZCand_mass_1\"] = samples[sample_name][\"ZCand_mass_1\"].fillna(0.0)\n",
    "    \n",
    "    samples[sample_name][\"sT\"] = samples[sample_name][\"veto_lepton_pt_sum\"] + samples[sample_name][\"MET_pt\"]"
   ]
  },
  {
   "cell_type": "code",
   "execution_count": 43,
   "metadata": {},
   "outputs": [
    {
     "name": "stdout",
     "output_type": "stream",
     "text": [
      "wwz\n",
      "category\n",
      "BTagEMu            1.437243\n",
      "EMu                8.572844\n",
      "OffZ               9.092642\n",
      "OnZ                1.198208\n",
      "uncategorized    156.011852\n",
      "Name: weight, dtype: float64\n",
      "\n",
      "ttz\n",
      "category\n",
      "BTagEMu           11.479790\n",
      "EMu                1.136398\n",
      "OffZ              12.119847\n",
      "OnZ                1.800374\n",
      "uncategorized    293.885274\n",
      "Name: weight, dtype: float64\n",
      "\n",
      "zz\n",
      "category\n",
      "BTagEMu             1.044761\n",
      "EMu                 8.796092\n",
      "OffZ              159.673769\n",
      "OnZ               379.072233\n",
      "uncategorized    4205.856822\n",
      "Name: weight, dtype: float64\n",
      "\n",
      "wz\n",
      "category\n",
      "BTagEMu            0.662188\n",
      "EMu                4.419024\n",
      "OffZ               5.853382\n",
      "OnZ                0.894913\n",
      "uncategorized    117.611534\n",
      "Name: weight, dtype: float32\n",
      "\n"
     ]
    }
   ],
   "source": [
    "\n",
    "def clip(a, a_max=800):\n",
    "    return np.clip(a, a_min=None, a_max=a_max)\n",
    "\n",
    "bins = np.linspace(0, 800, 16)\n",
    "#bins = np.linspace(0, 300, 46)\n",
    "\n",
    "for sample_name in [\"wwz\", \"ttz\", \"zz\", \"wz\"]:\n",
    "    print(sample_name)\n",
    "    print(samples[sample_name].groupby(\"category\")[\"weight\"].sum())\n",
    "    print()\n",
    "    df_q = samples[sample_name].query(\"category == 'EMu'\")\n",
    "    #print(sample_name, df_q[\"weight\"].sum())\n",
    "\n",
    "    #plt.hist(clip(df_q[\"ZCand_mass_1\"]),\n",
    "    ##plt.hist(clip(df_q[\"VetoLepton_pt_2\"]),\n",
    "    ##plt.hist(clip(df_q[\"veto_lepton_pt_min\"]),\n",
    "    #         bins=bins,\n",
    "    #         weights=np.clip(df_q[\"weight\"], a_min=None, a_max=None),\n",
    "    #         histtype=\"step\",\n",
    "    #         label=sample_name)\n",
    "    \n",
    "#plt.legend(loc=\"upper right\")\n",
    "\n",
    "#plt.yscale('log', nonposy='clip')\n",
    "#plt.show()"
   ]
  },
  {
   "cell_type": "code",
   "execution_count": 55,
   "metadata": {},
   "outputs": [
    {
     "name": "stderr",
     "output_type": "stream",
     "text": [
      "/home/llr/cms/rembser/WWZ-leptonic-EFT-analysis/libwwz/wwz_plotting.py:193: RuntimeWarning: invalid value encountered in true_divide\n",
      "  y = data_events / baseline_events\n",
      "/home/llr/cms/rembser/WWZ-leptonic-EFT-analysis/libwwz/wwz_plotting.py:194: RuntimeWarning: invalid value encountered in true_divide\n",
      "  yerr = data_errors2 ** 0.5 / baseline_events\n",
      "/home/llr/cms/rembser/WWZ-leptonic-EFT-analysis/libwwz/wwz_plotting.py:207: RuntimeWarning: invalid value encountered in true_divide\n",
      "  to_y((baseline_events - baseline_errors) / baseline_events),\n",
      "/home/llr/cms/rembser/WWZ-leptonic-EFT-analysis/libwwz/wwz_plotting.py:208: RuntimeWarning: invalid value encountered in true_divide\n",
      "  to_y((baseline_events + baseline_errors) / baseline_events),\n",
      "No handles with labels found to put in legend.\n"
     ]
    },
    {
     "data": {
      "image/png": "[encoded data removed]",
      "text/plain": [
       "<Figure size 617.04x579.84 with 2 Axes>"
      ]
     },
     "metadata": {
      "needs_background": "light"
     },
     "output_type": "display_data"
    }
   ],
   "source": [
    "#query = \"category == 'EMu' and m_ll > 135\"# and MET_pt < 50\"\n",
    "query = \"category == 'OnZ'\"# and MET_pt < 50\"\n",
    "#query = \"m_ll > 100\"\n",
    "#query = \"not category == 'OnZ'\"\n",
    "\n",
    "bins = np.linspace(0, 1000, 51)\n",
    "#bins = np.linspace(0, 250, 4)\n",
    "\n",
    "wwz_plotting.wvz_hist(\n",
    "    samples,\n",
    "    \"sT\",\n",
    "    #\"m_ll\",\n",
    "    bins,\n",
    "    #query=\"is_ChannelEMu\",\n",
    "    main_background=\"ttz\",\n",
    "    plot_data=True,\n",
    "    data_scale=None,\n",
    "    ratio_plot=True,\n",
    "    xlabel=r\"$p_T^{4l}$ scalar sum [GeV]\",\n",
    "    query=query,\n",
    "    stack_signal_on_background=True,\n",
    "    #ylim=(0,7.4),\n",
    "    #log_scale=True,\n",
    ")\n",
    "#plt.show()\n",
    "df_q = samples[\"wwz\"].query(query)\n",
    "#h = np.histogram(clip(df_q[\"sT\"], a_max=bins[-1]), bins, weights=df_q[\"weight\"])[0] * h_eft_scale\n",
    "#plt.step(bins[1:], h, label=r\"WWZ $f_{T0} = 1$ TeV${}^{-4}$\")\n",
    "plt.legend(loc=\"upper left\")\n",
    "plt.savefig(\"eft_plot.pdf\")\n",
    "plt.show()\n",
    "plt.close()\n",
    "#plt.ylim(0, 11)"
   ]
  },
  {
   "cell_type": "code",
   "execution_count": 89,
   "metadata": {},
   "outputs": [
    {
     "ename": "NameError",
     "evalue": "name 'h_eft_scale' is not defined",
     "output_type": "error",
     "traceback": [
      "\u001b[0;31m---------------------------------------------------------------------------\u001b[0m",
      "\u001b[0;31mNameError\u001b[0m                                 Traceback (most recent call last)",
      "\u001b[0;32m<ipython-input-89-51e8946a8451>\u001b[0m in \u001b[0;36m<module>\u001b[0;34m\u001b[0m\n\u001b[0;32m----> 1\u001b[0;31m \u001b[0mh_eft_scale\u001b[0m\u001b[0;34m\u001b[0m\u001b[0m\n\u001b[0m",
      "\u001b[0;31mNameError\u001b[0m: name 'h_eft_scale' is not defined"
     ]
    }
   ],
   "source": [
    "h_eft_scale"
   ]
  },
  {
   "cell_type": "code",
   "execution_count": null,
   "metadata": {},
   "outputs": [],
   "source": [
    "#df_wz = analyze_dataset(2018, \"WZ\")"
   ]
  },
  {
   "cell_type": "code",
   "execution_count": null,
   "metadata": {},
   "outputs": [],
   "source": [
    "df_eft = analyze_dataset(None, None, override_path=\"/home/llr/cms/rembser/WWZ-leptonic-EFT-analysis/skims/2018_WWZ_dim8_four_lepton_skim\")"
   ]
  },
  {
   "cell_type": "code",
   "execution_count": null,
   "metadata": {},
   "outputs": [],
   "source": [
    "def get_weigth_scales_for_ft0(df, ft0_value):\n",
    "    \n",
    "    x = np.array([-10, -5.0, 0, 5.0, 10])\n",
    "    xx = np.linspace(-10, 10, 200)\n",
    "    weights = np.zeros(len(df))\n",
    "    for i, y in enumerate(df[[\"EFT_FT0_m10\", \"EFT_FT0_m5\", \"EFT_SM\", \"EFT_FT0_5\", \"EFT_FT0_10\"]].values):\n",
    "        p = np.polyfit(x, y, 2)\n",
    "        weights[i] = np.polyval(p, [ft0_value])\n",
    "    return weights"
   ]
  },
  {
   "cell_type": "code",
   "execution_count": null,
   "metadata": {},
   "outputs": [],
   "source": [
    "df_eft[\"sT\"] = df_eft[\"veto_lepton_pt_sum\"] + df_eft[\"MET_pt\"]\n",
    "df_eft_q = df_eft.query(query)"
   ]
  },
  {
   "cell_type": "code",
   "execution_count": null,
   "metadata": {},
   "outputs": [],
   "source": [
    "plt.hist(df_eft_q[\"sT\"], bins=bins);"
   ]
  },
  {
   "cell_type": "code",
   "execution_count": 228,
   "metadata": {},
   "outputs": [],
   "source": [
    "scale_eft = get_weigth_scales_for_ft0(df_eft_q, 1.)"
   ]
  },
  {
   "cell_type": "code",
   "execution_count": 229,
   "metadata": {},
   "outputs": [
    {
     "name": "stderr",
     "output_type": "stream",
     "text": [
      "/home/llr/cms/rembser/.local/lib/python3.7/site-packages/ipykernel_launcher.py:3: RuntimeWarning: invalid value encountered in true_divide\n",
      "  This is separate from the ipykernel package so we can avoid doing imports until\n"
     ]
    }
   ],
   "source": [
    "h_sm = np.histogram(clip(df_eft_q[\"sT\"], a_max=bins[-1]), bins, weights=df_eft_q[\"genWeight\"])[0]\n",
    "h_eft = np.histogram(clip(df_eft_q[\"sT\"], a_max=bins[-1]), bins, weights=df_eft_q[\"genWeight\"] * scale_eft)[0]\n",
    "h_eft_scale = h_eft / h_sm"
   ]
  },
  {
   "cell_type": "code",
   "execution_count": 230,
   "metadata": {},
   "outputs": [],
   "source": [
    "def get_n_high_mass_events(ft0_value):\n",
    "    mass_cut = 1200.\n",
    "    query = f\"category == 'EMu' and veto_lepton_pt_sum > {mass_cut}\"\n",
    "    #query = f\"veto_lepton_pt_sum > {mass_cut}\"\n",
    "    if ft0_value == 0.0:\n",
    "        return df_wwz_4l.query(query)[\"weight\"].sum()\n",
    "    \n",
    "    df_q = df.query(query)\n",
    "    weights = get_weigth_scales_for_ft0(df_q, ft0_value)\n",
    "    return np.sum(weights * df_q[\"weight\"])"
   ]
  },
  {
   "cell_type": "code",
   "execution_count": null,
   "metadata": {},
   "outputs": [],
   "source": [
    "def nll_term(s, b, n):\n",
    "    return (s + b) - n * np.log(s + b)"
   ]
  },
  {
   "cell_type": "code",
   "execution_count": null,
   "metadata": {},
   "outputs": [],
   "source": [
    "ft0_vals = np.linspace(-5, 5, 50)\n",
    "n_events = np.array(list(map(get_n_high_mass_events, ft0_vals)))\n",
    "nll = np.array(list(map(lambda n : nll_term(0, get_n_high_mass_events(0.0), n), n_events)))"
   ]
  },
  {
   "cell_type": "code",
   "execution_count": null,
   "metadata": {},
   "outputs": [],
   "source": [
    "plt.plot(ft0_vals, nll)"
   ]
  },
  {
   "cell_type": "code",
   "execution_count": null,
   "metadata": {},
   "outputs": [],
   "source": [
    "df[\"EFT_FT0_0p2\"] = get_weigths_for_ft0(df, 0.2)"
   ]
  },
  {
   "cell_type": "code",
   "execution_count": null,
   "metadata": {},
   "outputs": [],
   "source": []
  },
  {
   "cell_type": "code",
   "execution_count": 90,
   "metadata": {},
   "outputs": [],
   "source": [
    "import awkward"
   ]
  },
  {
   "cell_type": "code",
   "execution_count": 91,
   "metadata": {},
   "outputs": [],
   "source": [
    "def jagged_pair_masses(df):\n",
    "    content = df[\n",
    "        [\n",
    "            \"VetoLeptonPair_mass_01\",\n",
    "            \"VetoLeptonPair_mass_02\",\n",
    "            \"VetoLeptonPair_mass_03\",\n",
    "            \"VetoLeptonPair_mass_12\",\n",
    "            \"VetoLeptonPair_mass_13\",\n",
    "            \"VetoLeptonPair_mass_23\",\n",
    "        ]\n",
    "    ].values.flatten()\n",
    "\n",
    "    return awkward.JaggedArray.fromcounts(6 + np.zeros(len(df), dtype=np.int), content)"
   ]
  },
  {
   "cell_type": "code",
   "execution_count": 94,
   "metadata": {},
   "outputs": [
    {
     "data": {
      "text/plain": [
       "<JaggedArray [[57.78742156760853 93.98619351153155 89.989714126135 83.5981694059316 71.78007070746519 27.887991810728256] [188.36628981707972 98.37212236230381 69.432742447723 117.49792739251417 87.97240471358678 46.58377405650752] [114.01133745354326 74.42071621807783 35.667216623079284 101.51600865958387 36.46201372742267 54.71326222912688] ... [69.6757841836272 60.88277093948502 11.195919401437529 15.946587379144981 30.21529792561081 26.718241714053335] [44.57130805027947 84.21411781023134 74.21799292901146 81.29365283231905 69.03624453222281 30.840726559208473] [60.05178056122186 74.84367192069962 46.3410399128571 136.69181968103155 67.47795057968695 23.428901773183927]] at 0x7fca84729cc0>"
      ]
     },
     "execution_count": 94,
     "metadata": {},
     "output_type": "execute_result"
    }
   ],
   "source": [
    "jagged_pair_masses(samples[\"data\"])"
   ]
  },
  {
   "cell_type": "code",
   "execution_count": 66,
   "metadata": {},
   "outputs": [],
   "source": [
    "from geeksw.utils.array_utils import unpack_pair_values, awksel"
   ]
  },
  {
   "cell_type": "code",
   "execution_count": 23,
   "metadata": {},
   "outputs": [],
   "source": [
    "a = unpack_pair_values(samples[\"data\"],\n",
    "                       column_getter=lambda i, j : f\"VetoLeptonPair_mass_{i}{j}\",\n",
    "                       diagonal=np.nan,\n",
    "                       jagged=False)"
   ]
  },
  {
   "cell_type": "code",
   "execution_count": 114,
   "metadata": {},
   "outputs": [],
   "source": [
    "b = unpack_pair_values(samples[\"data\"],\n",
    "                       column_getter=lambda i, j : f\"VetoLeptonPair_mass_{i}{j}\",\n",
    "                       diagonal=np.nan,\n",
    "                       jagged=True)"
   ]
  },
  {
   "cell_type": "code",
   "execution_count": 62,
   "metadata": {},
   "outputs": [],
   "source": [
    "x = np.array([1,2,3])\n",
    "y = np.array([2,1,1])"
   ]
  },
  {
   "cell_type": "code",
   "execution_count": 33,
   "metadata": {},
   "outputs": [
    {
     "data": {
      "text/plain": [
       "array([[1],\n",
       "       [2],\n",
       "       [1]])"
      ]
     },
     "execution_count": 33,
     "metadata": {},
     "output_type": "execute_result"
    }
   ],
   "source": [
    "x[:,None]"
   ]
  },
  {
   "cell_type": "code",
   "execution_count": 28,
   "metadata": {},
   "outputs": [
    {
     "data": {
      "text/plain": [
       "array([[nan, nan, nan],\n",
       "       [nan, nan, nan],\n",
       "       [nan, nan, nan]])"
      ]
     },
     "execution_count": 28,
     "metadata": {},
     "output_type": "execute_result"
    }
   ],
   "source": [
    "a[[0,1,3]][:,x,y]"
   ]
  },
  {
   "cell_type": "code",
   "execution_count": 150,
   "metadata": {},
   "outputs": [
    {
     "data": {
      "text/plain": [
       "array([ 57.78742157, 188.36628982, 114.01133745, ...,  69.67578418,\n",
       "        44.57130805,  60.05178056])"
      ]
     },
     "execution_count": 150,
     "metadata": {},
     "output_type": "execute_result"
    }
   ],
   "source": [
    "b[:,0,1]"
   ]
  },
  {
   "cell_type": "code",
   "execution_count": 48,
   "metadata": {},
   "outputs": [],
   "source": [
    "def foo(arr):\n",
    "    import awkward\n",
    "    return awkward.JaggedArray.fromcounts(np.ones(len(arr), dtype=np.int), arr)"
   ]
  },
  {
   "cell_type": "code",
   "execution_count": 49,
   "metadata": {},
   "outputs": [
    {
     "data": {
      "text/plain": [
       "<JaggedArray [[1] [2] [3]] at 0x7fce6c81da90>"
      ]
     },
     "execution_count": 49,
     "metadata": {},
     "output_type": "execute_result"
    }
   ],
   "source": [
    "foo(x)"
   ]
  },
  {
   "cell_type": "code",
   "execution_count": 65,
   "metadata": {},
   "outputs": [
    {
     "data": {
      "text/plain": [
       "array([117.49792739, 101.51600866,  90.21829102])"
      ]
     },
     "execution_count": 65,
     "metadata": {},
     "output_type": "execute_result"
    }
   ],
   "source": [
    "b[[1,2,3]][foo(x)].flatten()[foo(y)].flatten()"
   ]
  },
  {
   "cell_type": "code",
   "execution_count": 64,
   "metadata": {},
   "outputs": [
    {
     "data": {
      "text/plain": [
       "117.49792739251417"
      ]
     },
     "execution_count": 64,
     "metadata": {},
     "output_type": "execute_result"
    }
   ],
   "source": [
    "a[1,2,1]"
   ]
  },
  {
   "cell_type": "code",
   "execution_count": 69,
   "metadata": {},
   "outputs": [
    {
     "data": {
      "text/plain": [
       "array([117.49792739, 101.51600866,  90.21829102])"
      ]
     },
     "execution_count": 69,
     "metadata": {},
     "output_type": "execute_result"
    }
   ],
   "source": [
    "awksel(b[[1,2,3]], x, y)"
   ]
  },
  {
   "cell_type": "code",
   "execution_count": 112,
   "metadata": {},
   "outputs": [],
   "source": [
    "b.content = b.content.flatten()"
   ]
  },
  {
   "cell_type": "code",
   "execution_count": 115,
   "metadata": {},
   "outputs": [
    {
     "data": {
      "text/plain": [
       "<JaggedArray [[[nan 57.78742156760853 93.98619351153155 89.989714126135] [57.78742156760853 nan 83.5981694059316 71.78007070746519] [93.98619351153155 83.5981694059316 nan 27.887991810728256] [89.989714126135 71.78007070746519 27.887991810728256 nan]] [[nan 188.36628981707972 98.37212236230381 69.432742447723] [188.36628981707972 nan 117.49792739251417 87.97240471358678] [98.37212236230381 117.49792739251417 nan 46.58377405650752] [69.432742447723 87.97240471358678 46.58377405650752 nan]] [[nan 114.01133745354326 74.42071621807783 35.667216623079284] [114.01133745354326 nan 101.51600865958387 36.46201372742267] [74.42071621807783 101.51600865958387 nan 54.71326222912688] [35.667216623079284 36.46201372742267 54.71326222912688 nan]] ... [[nan 69.6757841836272 60.88277093948502 11.195919401437529] [69.6757841836272 nan 15.946587379144981 30.21529792561081] [60.88277093948502 15.946587379144981 nan 26.718241714053335] [11.195919401437529 30.21529792561081 26.718241714053335 nan]] [[nan 44.57130805027947 84.21411781023134 74.21799292901146] [44.57130805027947 nan 81.29365283231905 69.03624453222281] [84.21411781023134 81.29365283231905 nan 30.840726559208473] [74.21799292901146 69.03624453222281 30.840726559208473 nan]] [[nan 60.05178056122186 74.84367192069962 46.3410399128571] [60.05178056122186 nan 136.69181968103155 67.47795057968695] [74.84367192069962 136.69181968103155 nan 23.428901773183927] [46.3410399128571 67.47795057968695 23.428901773183927 nan]]] at 0x7fce6a02c860>"
      ]
     },
     "execution_count": 115,
     "metadata": {},
     "output_type": "execute_result"
    }
   ],
   "source": [
    "b"
   ]
  },
  {
   "cell_type": "code",
   "execution_count": null,
   "metadata": {},
   "outputs": [],
   "source": []
  }
 ],
 "metadata": {
  "kernelspec": {
   "display_name": "Python 3",
   "language": "python",
   "name": "python3"
  },
  "language_info": {
   "codemirror_mode": {
    "name": "ipython",
    "version": 3
   },
   "file_extension": ".py",
   "mimetype": "text/x-python",
   "name": "python",
   "nbconvert_exporter": "python",
   "pygments_lexer": "ipython3",
   "version": "3.7.0"
  }
 },
 "nbformat": 4,
 "nbformat_minor": 2
}
