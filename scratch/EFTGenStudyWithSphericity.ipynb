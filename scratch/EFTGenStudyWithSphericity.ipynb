{
 "cells": [
  {
   "cell_type": "code",
   "execution_count": 1,
   "metadata": {},
   "outputs": [],
   "source": [
    "import uproot\n",
    "import numpy as np\n",
    "import pandas as pd\n",
    "import matplotlib.pyplot as plt\n",
    "import awkward\n",
    "\n",
    "from geeksw.analysis.eft import EFTReweighter"
   ]
  },
  {
   "cell_type": "code",
   "execution_count": 2,
   "metadata": {},
   "outputs": [],
   "source": [
    "filenames = [\n",
    "    \"samples/WWZ_dim8_extended_20200605_four_lepton_RunIISummer16/NanoAODv7/file-001.root\",\n",
    "    \"samples/WWZ_dim8_extended_20200605_four_lepton_RunIISummer16/NanoAODv7/file-002.root\",\n",
    "    \"samples/WWZ_dim8_extended_20200605_four_lepton_RunIIFall17/NanoAODv7/file-001.root\",\n",
    "    \"samples/WWZ_dim8_extended_20200605_four_lepton_RunIIFall17/NanoAODv7/file-002.root\",\n",
    "    \"samples/WWZ_dim8_extended_20200605_four_lepton_RunIIAutumn18/NanoAODv7/file-001.root\",\n",
    "    \"samples/WWZ_dim8_extended_20200605_four_lepton_RunIIAutumn18/NanoAODv7/file-002.root\",\n",
    "]"
   ]
  },
  {
   "cell_type": "code",
   "execution_count": 3,
   "metadata": {},
   "outputs": [],
   "source": [
    "events = [uproot.open(filename)[\"Events\"] for filename in filenames]"
   ]
  },
  {
   "cell_type": "code",
   "execution_count": 4,
   "metadata": {},
   "outputs": [],
   "source": [
    "mg_reweighting_title = events[0][\"LHEWeight_mg_reweighting\"].title.decode(\"utf-8\")\n",
    "mg_reweighting = awkward.concatenate([e.array(\"LHEWeight_mg_reweighting\") for e in events])\n",
    "gen_weight = np.concatenate([e.array(\"genWeight\") for e in events])"
   ]
  },
  {
   "cell_type": "code",
   "execution_count": 5,
   "metadata": {},
   "outputs": [],
   "source": [
    "reweighter = EFTReweighter(gen_weight, mg_reweighting, mg_reweighting_title)"
   ]
  },
  {
   "cell_type": "code",
   "execution_count": 6,
   "metadata": {},
   "outputs": [],
   "source": [
    "data = dict()\n",
    "cols_lhe = [\"LHEPart_pt\", \"LHEPart_eta\", \"LHEPart_phi\", \"LHEPart_pdgId\", \"LHEPart_mass\"]"
   ]
  },
  {
   "cell_type": "code",
   "execution_count": 7,
   "metadata": {},
   "outputs": [],
   "source": [
    "for col in cols_lhe:\n",
    "    data[col] = awkward.concatenate([e.array(col) for e in events])"
   ]
  },
  {
   "cell_type": "code",
   "execution_count": 8,
   "metadata": {},
   "outputs": [],
   "source": [
    "data[\"LHEZ_eta\"] = data[\"LHEPart_eta\"][data[\"LHEPart_pdgId\"] == 23].flatten()\n",
    "data[\"LHEW_eta\"] = data[\"LHEPart_eta\"][np.abs(data[\"LHEPart_pdgId\"]) == 24]\n",
    "\n",
    "data[\"LHEZ_pt\"] = data[\"LHEPart_pt\"][data[\"LHEPart_pdgId\"] == 23].flatten()\n",
    "data[\"LHEW_pt\"] = data[\"LHEPart_pt\"][np.abs(data[\"LHEPart_pdgId\"]) == 24]\n",
    "\n",
    "data[\"LHEZ_phi\"] = data[\"LHEPart_phi\"][data[\"LHEPart_pdgId\"] == 23].flatten()\n",
    "data[\"LHEW_phi\"] = data[\"LHEPart_phi\"][np.abs(data[\"LHEPart_pdgId\"]) == 24]\n",
    "\n",
    "data[\"LHEWZ_etadiff\"] = data[\"LHEZ_eta\"] - data[\"LHEW_eta\"]\n",
    "data[\"LHEWZ_phidiff\"] = data[\"LHEZ_phi\"] - data[\"LHEW_phi\"]\n",
    "\n",
    "data[\"LHEWZ_deltaR\"] = np.sqrt(data[\"LHEWZ_etadiff\"]**2 + data[\"LHEWZ_phidiff\"]**2)\n",
    "data[\"LHEWZ_deltaRdiff\"] = np.abs(data[\"LHEWZ_deltaR\"][:,1] - data[\"LHEWZ_deltaR\"][:,0])"
   ]
  },
  {
   "cell_type": "code",
   "execution_count": 9,
   "metadata": {},
   "outputs": [],
   "source": [
    "data[\"LHEWW_phidiff\"] = data[\"LHEW_phi\"][:,1] - data[\"LHEW_phi\"][:,0]\n",
    "data[\"LHEWW_etadiff\"] = data[\"LHEW_eta\"][:,1] - data[\"LHEW_eta\"][:,0]\n",
    "data[\"LHEWW_deltaR\"] = np.sqrt(data[\"LHEWW_etadiff\"]**2 + data[\"LHEWW_phidiff\"]**2)\n",
    "\n",
    "# minimal distance between vector bosons\n",
    "data[\"LHEVVV_deltaRmin\"] = np.min([data[\"LHEWZ_deltaR\"].min(), data[\"LHEWW_deltaR\"]], axis=0)\n",
    "data[\"LHEVVV_deltaRmax\"] = np.max([data[\"LHEWZ_deltaR\"].max(), data[\"LHEWW_deltaR\"]], axis=0)"
   ]
  },
  {
   "cell_type": "code",
   "execution_count": 10,
   "metadata": {},
   "outputs": [],
   "source": [
    "import uproot_methods"
   ]
  },
  {
   "cell_type": "code",
   "execution_count": 11,
   "metadata": {},
   "outputs": [],
   "source": [
    "def sort_tribosons_by_pt(bosons):\n",
    "    i_max = bosons.pt.argmax()\n",
    "    i_min = bosons.pt.argmin()\n",
    "    i_mid = 3 - i_max - i_min\n",
    "    \n",
    "    return awkward.concatenate([bosons[i_max], bosons[i_mid], bosons[i_min]], axis=1)"
   ]
  },
  {
   "cell_type": "code",
   "execution_count": 12,
   "metadata": {},
   "outputs": [],
   "source": [
    "lhe_particles = uproot_methods.TLorentzVectorArray.from_ptetaphim(data[\"LHEPart_pt\"],\n",
    "                                                            data[\"LHEPart_eta\"],\n",
    "                                                            data[\"LHEPart_phi\"],\n",
    "                                                            data[\"LHEPart_mass\"])\n",
    "lhe_bosons = lhe_particles[np.logical_or(data[\"LHEPart_pdgId\"] == 23, np.abs(data[\"LHEPart_pdgId\"]) == 24)]\n",
    "lhe_bosons = sort_tribosons_by_pt(lhe_bosons)"
   ]
  },
  {
   "cell_type": "code",
   "execution_count": 13,
   "metadata": {},
   "outputs": [],
   "source": [
    "def get_philip_variable(bosons):\n",
    "    # bosons must be pt-sorted!\n",
    "    m01 = (bosons[:,0] + bosons[:,1]).mass\n",
    "    m02 = (bosons[:,0] + bosons[:,2]).mass\n",
    "    m12 = (bosons[:,1] + bosons[:,2]).mass\n",
    "    \n",
    "    A = np.abs(m01 + m02)\n",
    "    B = np.abs(m01 - m12)\n",
    "    C = np.abs(m02 - m12)\n",
    "    \n",
    "    return A - B - C"
   ]
  },
  {
   "cell_type": "code",
   "execution_count": 14,
   "metadata": {},
   "outputs": [],
   "source": [
    "data[\"philip_variable\"] = get_philip_variable(lhe_bosons)"
   ]
  },
  {
   "cell_type": "code",
   "execution_count": 15,
   "metadata": {},
   "outputs": [],
   "source": [
    "def get_quadratic_momentum_tensor(lhe_bosons):\n",
    "    x = lhe_bosons.x\n",
    "    y = lhe_bosons.y\n",
    "    z = lhe_bosons.z\n",
    "    \n",
    "    #x = x / lhe_bosons.p\n",
    "    #y = y / lhe_bosons.p\n",
    "    #z = z / lhe_bosons.p\n",
    "    \n",
    "    p = np.array([[x[:,0], y[:,0], z[:,0]],\n",
    "                  [x[:,1], y[:,1], z[:,1]],\n",
    "                  [x[:,2], y[:,2], z[:,2]]])\n",
    "    tensor = np.zeros((3, 3, len(lhe_bosons)), dtype=np.float32)\n",
    "    for alpha in range(3):\n",
    "        for beta in range(3):\n",
    "            tensor[alpha,beta] = np.sum(p[:,alpha] * p[:,beta], axis=0)\n",
    " \n",
    "    norm = ((lhe_bosons.p)**2).sum()\n",
    "    tensor = tensor / norm\n",
    "    return tensor.T"
   ]
  },
  {
   "cell_type": "code",
   "execution_count": null,
   "metadata": {},
   "outputs": [],
   "source": []
  },
  {
   "cell_type": "code",
   "execution_count": 16,
   "metadata": {},
   "outputs": [],
   "source": [
    "tensor = get_quadratic_momentum_tensor(lhe_bosons)"
   ]
  },
  {
   "cell_type": "code",
   "execution_count": 17,
   "metadata": {},
   "outputs": [
    {
     "data": {
      "text/plain": [
       "array([[ 0.08271463, -0.11465307, -0.20343491],\n",
       "       [-0.11465307,  0.37693727,  0.24252328],\n",
       "       [-0.20343491,  0.24252328,  0.54034812]])"
      ]
     },
     "execution_count": 17,
     "metadata": {},
     "output_type": "execute_result"
    }
   ],
   "source": [
    "tensor[0]"
   ]
  },
  {
   "cell_type": "code",
   "execution_count": 18,
   "metadata": {},
   "outputs": [],
   "source": [
    "eigvals = np.linalg.eigvals(tensor)"
   ]
  },
  {
   "cell_type": "code",
   "execution_count": 19,
   "metadata": {},
   "outputs": [],
   "source": [
    "lam_1 = np.max(eigvals, axis=1)\n",
    "lam_3 = np.min(eigvals, axis=1)\n",
    "lam_2 = np.sum(eigvals, axis=1) - lam_1 - lam_3 # the sum should be 1, but just to make sure"
   ]
  },
  {
   "cell_type": "code",
   "execution_count": 20,
   "metadata": {},
   "outputs": [],
   "source": [
    "sphericity = 3./2 * (lam_2 + lam_3)\n",
    "aplanarity = 3./2 * lam_3\n",
    "planarity = lam_2 - lam_3"
   ]
  },
  {
   "cell_type": "code",
   "execution_count": 21,
   "metadata": {},
   "outputs": [
    {
     "data": {
      "text/plain": [
       "<JaggedArray [[1698.375 1099.5625 855.5625] [134.421875 128.0078125 38.244140625] [174.3046875 149.859375 109.0703125] ... [1457.1874999999998 1348.1875 124.3515625] [542.34375 373.734375 274.171875] [3293.8749999999995 2607.75 706.46875]] at 0x7f3e36150d90>"
      ]
     },
     "execution_count": 21,
     "metadata": {},
     "output_type": "execute_result"
    }
   ],
   "source": [
    "(lhe_bosons.y**2 + lhe_bosons.x**2)**0.5"
   ]
  },
  {
   "cell_type": "code",
   "execution_count": 22,
   "metadata": {},
   "outputs": [
    {
     "data": {
      "text/plain": [
       "<JaggedArray [[2.0431902 3.6225874] [3.5453572 5.308548] [2.283912 3.092148] ... [0.529327 3.430701] [3.2667663 1.7896904] [3.092351 0.9968838]] at 0x7f3e35eb92e0>"
      ]
     },
     "execution_count": 22,
     "metadata": {},
     "output_type": "execute_result"
    }
   ],
   "source": [
    "data[\"LHEWZ_deltaR\"]"
   ]
  },
  {
   "cell_type": "code",
   "execution_count": 23,
   "metadata": {},
   "outputs": [],
   "source": [
    "data[\"LHE_mVVV\"] = (lhe_bosons[:,0] + lhe_bosons[:,1] + lhe_bosons[:,2]).mass"
   ]
  },
  {
   "cell_type": "code",
   "execution_count": 24,
   "metadata": {},
   "outputs": [],
   "source": [
    "#for key in events.keys():\n",
    "#    if b\"LHE\" in key:\n",
    "#        print(key)"
   ]
  },
  {
   "cell_type": "code",
   "execution_count": 25,
   "metadata": {},
   "outputs": [],
   "source": [
    "def get_st_variable(events):\n",
    "    return np.concatenate([e.array(\"Electron_pt\").sum() + \\\n",
    "           e.array(\"Jet_pt\").sum() + \\\n",
    "           e.array(\"MET_pt\") for e in events])"
   ]
  },
  {
   "cell_type": "code",
   "execution_count": 26,
   "metadata": {},
   "outputs": [],
   "source": [
    "df = pd.DataFrame(dict(sT=get_st_variable(events)))"
   ]
  },
  {
   "cell_type": "code",
   "execution_count": 27,
   "metadata": {},
   "outputs": [],
   "source": [
    "def make_hist(variable, bins, weights, label=None, density=False):\n",
    "    variable = np.clip(variable, a_min=bins[0], a_max=bins[-1])\n",
    "    bin_centers = (bins[:-1] + bins[1:])/2.\n",
    "\n",
    "    \n",
    "    indices = np.digitize(variable, bins) - 1\n",
    "    \n",
    "    weight_sum = np.zeros_like(bin_centers)\n",
    "    weight_sum_2 = np.zeros_like(bin_centers)\n",
    "    \n",
    "    for i in range(len(bin_centers)):\n",
    "        weights_i = weights[indices == i]\n",
    "        weight_sum[i] = np.sum(weights_i)\n",
    "        weight_sum_2[i] = np.sum(weights_i**2)\n",
    "    \n",
    "    #counts = np.histogram(variable, bins, weights=weights)[0]\n",
    "    if density:\n",
    "        norm = np.sum(weight_sum)\n",
    "        weight_sum = weight_sum / norm\n",
    "        weight_sum_2 = weight_sum_2 / norm\n",
    "    \n",
    "    #plt.errorbar(bin_centers, weight_sum, yerr=np.sqrt(weight_sum_2), fmt='o', markersize=2, label=label)\n",
    "    plt.errorbar(bin_centers, weight_sum, yerr=None, fmt='o', markersize=2, label=label)\n",
    "    \n",
    "    #plt.step(bins, np.concatenate([[0.], counts]), linewidth=1)\n",
    "    return weight_sum"
   ]
  },
  {
   "cell_type": "code",
   "execution_count": 28,
   "metadata": {},
   "outputs": [],
   "source": [
    "from matplotlib.colors import LogNorm"
   ]
  },
  {
   "cell_type": "code",
   "execution_count": 29,
   "metadata": {},
   "outputs": [
    {
     "data": {
      "image/png": "[encoded data removed]",
      "text/plain": [
       "<Figure size 432x288 with 2 Axes>"
      ]
     },
     "metadata": {
      "needs_background": "light"
     },
     "output_type": "display_data"
    },
    {
     "data": {
      "image/png": "[encoded data removed]",
      "text/plain": [
       "<Figure size 432x288 with 2 Axes>"
      ]
     },
     "metadata": {
      "needs_background": "light"
     },
     "output_type": "display_data"
    }
   ],
   "source": [
    "weights = reweighter(\"FS0\", 0.0, subtract_sm=False)\n",
    "\n",
    "bins = (np.linspace(0, 15000, 20), np.linspace(0, 1, 20))\n",
    "\n",
    "var_1 = df[\"sT\"]\n",
    "var_2 = sphericity\n",
    "\n",
    "plt.hist2d(var_1, var_2, bins,\n",
    "           weights= weights / np.sum(weights),\n",
    "           density=False,\n",
    "           norm=LogNorm())\n",
    "plt.colorbar()\n",
    "plt.show()\n",
    "\n",
    "weights = reweighter(\"FT0\", 10.0, subtract_sm=True)\n",
    "\n",
    "plt.hist2d(var_1, var_2, bins,\n",
    "           weights= weights / np.sum(weights),\n",
    "           density=False,\n",
    "          norm=LogNorm())\n",
    "plt.colorbar()\n",
    "plt.show()"
   ]
  },
  {
   "cell_type": "code",
   "execution_count": 30,
   "metadata": {},
   "outputs": [],
   "source": [
    "m_vvv_bins = np.linspace(1000, 8000, 200)\n",
    "\n",
    "hist_sm = np.histogram(data[\"LHE_mVVV\"], bins=m_vvv_bins, weights=reweighter(\"FT0\", 0.0))[0]\n",
    "hist_eft = np.histogram(data[\"LHE_mVVV\"], bins=m_vvv_bins, weights=reweighter(\"FT0\", 100.0, subtract_sm=True))[0]\n",
    "\n",
    "hist_reweight = np.concatenate([[0.], hist_eft/hist_sm, [0.]])\n",
    "\n",
    "m_vvv_reweight = hist_reweight[np.digitize(data[\"LHE_mVVV\"], m_vvv_bins)]\n",
    "m_vvv_clip = np.logical_and(data[\"LHE_mVVV\"] > m_vvv_bins[0], data[\"LHE_mVVV\"] < m_vvv_bins[-1])"
   ]
  },
  {
   "cell_type": "code",
   "execution_count": 37,
   "metadata": {},
   "outputs": [],
   "source": [
    "weights = [\n",
    "           reweighter(\"FT0\", 0.0),\n",
    "           reweighter(\"FT0\", 100.0, subtract_sm=True),\n",
    "           reweighter(\"FT1\", 100.0, subtract_sm=True),\n",
    "           reweighter(\"FT2\", 100.0, subtract_sm=True)\n",
    "\n",
    "          ]\n",
    "labels = [\n",
    "          \"SM\",\n",
    "          \"FT0_100\",\n",
    "          \"FT1_100\",\n",
    "          \"FT2_100\"\n",
    "         ]"
   ]
  },
  {
   "cell_type": "code",
   "execution_count": 32,
   "metadata": {},
   "outputs": [],
   "source": [
    "weights = [\n",
    "           #reweighter(\"FT0\", 0.0),\n",
    "           reweighter(\"FT0\", 0.0) * m_vvv_reweight,\n",
    "           reweighter(\"FT0\", 100.0, subtract_sm=True) * m_vvv_clip,\n",
    "           reweighter(\"FT1\", 100.0, subtract_sm=True) * m_vvv_clip,\n",
    "           reweighter(\"FT2\", 100.0, subtract_sm=True) * m_vvv_clip\n",
    "\n",
    "          ]\n",
    "labels = [\n",
    "          \"SM\",\n",
    "          \"FT0_100\",\n",
    "          \"FT1_100\",\n",
    "          \"FT2_100\"\n",
    "         ]"
   ]
  },
  {
   "cell_type": "code",
   "execution_count": 38,
   "metadata": {},
   "outputs": [],
   "source": [
    "bins = m_vvv_bins\n",
    "\n",
    "#variable = df[\"sT\"]\n",
    "variable = data[\"LHE_mVVV\"]\n",
    "\n",
    "for weight, label in zip(weights, labels):\n",
    "    make_hist(variable, bins=bins, weights=weight, label=label, density=True)\n",
    "\n",
    "plt.legend(loc=\"upper right\", ncol=1)\n",
    "plt.gca().set_yscale('log')\n",
    "plt.ylabel(\"a.u.\")\n",
    "plt.title(\"Validation of dim. 8 weights in VVV\")\n",
    "plt.xlabel(r\"$S_T$ [GeV] (sum of lepton, jet and MET pt without any selection)\")\n",
    "plt.savefig(\"plots/m_vvv.pdf\")\n",
    "plt.savefig(\"plots/m_vvv.png\")\n",
    "plt.close()"
   ]
  },
  {
   "cell_type": "code",
   "execution_count": 39,
   "metadata": {},
   "outputs": [],
   "source": [
    "bins = np.linspace(0, 10000, 200)\n",
    "\n",
    "#variable = df[\"sT\"]\n",
    "variable = data[\"philip_variable\"]\n",
    "\n",
    "for weight, label in zip(weights, labels):\n",
    "    make_hist(variable, bins=bins, weights=weight, label=label, density=True)\n",
    "\n",
    "plt.legend(loc=\"upper right\", ncol=1)\n",
    "plt.gca().set_yscale('log')\n",
    "plt.ylabel(\"a.u.\")\n",
    "plt.title(\"Validation of dim. 8 weights in VVV\")\n",
    "plt.xlabel(r\"inv. mass variable [GeV]\")\n",
    "plt.savefig(\"plots/inv_mass_variable.pdf\")\n",
    "plt.savefig(\"plots/inv_mass_variable.png\")\n",
    "plt.close()"
   ]
  },
  {
   "cell_type": "code",
   "execution_count": 40,
   "metadata": {},
   "outputs": [],
   "source": [
    "bins = np.linspace(0, 1, 200)\n",
    "\n",
    " \n",
    "mask = df[\"sT\"].values > 0\n",
    "variable = sphericity[mask]\n",
    "\n",
    "for weight, label in zip(weights, labels):\n",
    "    make_hist(variable, bins=bins, weights=weight[mask], label=label, density=True)\n",
    "    \n",
    "#plt.legend(loc=\"lower left\", ncol=2)\n",
    "plt.gca().set_yscale('log')\n",
    "plt.ylabel(\"a.u.\")\n",
    "plt.title(\"Validation of dim. 8 weights in VVV\")\n",
    "plt.xlabel(r\"sphericity\")\n",
    "plt.savefig(\"plots/sphericity.pdf\")\n",
    "plt.savefig(\"plots/sphericity.png\")\n",
    "plt.close()"
   ]
  },
  {
   "cell_type": "code",
   "execution_count": 41,
   "metadata": {},
   "outputs": [],
   "source": [
    "for col in [\"LHEWZ_etadiff\", \"LHEWZ_phidiff\", \"LHEWZ_deltaR\",\n",
    "                 \"LHEWW_etadiff\", \"LHEWW_phidiff\", \"LHEWW_deltaR\"]:\n",
    "    \n",
    "    \n",
    "\n",
    "    bins = np.linspace(0, 10, 200)\n",
    "    if \"deltaR\" in col:\n",
    "        bins = np.linspace(0, 10, 200)\n",
    "\n",
    "    #mask = df[\"sT\"].values > 0\n",
    "    variable = np.abs(data[col].flatten())#[mask]\n",
    "    #variable = data[\"LHEWW_phidiff\"][mask]\n",
    "\n",
    "\n",
    "    for weight, label in zip(weights, labels):\n",
    "        #make_hist(variable, bins=bins, weights=np.repeat(weight, 2), label=label, density=True)\n",
    "        make_hist(variable, bins=bins, weights=np.repeat(weight, len(variable)//len(weight)),\n",
    "                  label=label, density=True)\n",
    "\n",
    "    plt.legend(loc=\"upper right\", ncol=1)\n",
    "    #plt.gca().set_yscale('log')\n",
    "    plt.ylabel(\"a.u.\")\n",
    "    #plt.title(\"Validation of dim. 8 weights in VVV\")\n",
    "    plt.xlabel(col)\n",
    "    plt.savefig(f\"plots/{col}.pdf\")\n",
    "    plt.savefig(f\"plots/{col}.png\")\n",
    "    plt.close()"
   ]
  }
 ],
 "metadata": {
  "kernelspec": {
   "display_name": "Python 3",
   "language": "python",
   "name": "python3"
  },
  "language_info": {
   "codemirror_mode": {
    "name": "ipython",
    "version": 3
   },
   "file_extension": ".py",
   "mimetype": "text/x-python",
   "name": "python",
   "nbconvert_exporter": "python",
   "pygments_lexer": "ipython3",
   "version": "3.8.5"
  }
 },
 "nbformat": 4,
 "nbformat_minor": 4
}
